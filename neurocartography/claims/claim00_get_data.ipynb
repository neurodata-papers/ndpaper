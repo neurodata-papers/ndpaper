{
 "cells": [
  {
   "cell_type": "markdown",
   "metadata": {},
   "source": [
    "### Kasthuri2015 Cell Paper Get Data\n",
    "\n",
    "The following tokens are available and associated with the Kasthuri2015 cell paper.  There are several different versions of the data, depending on the resolution and characteristics required:\n",
    "\n",
    "### RAMONified Version (three cylinder bounding box only)\n",
    "\n",
    "- token:  kasthuri2015_ramon_v3\n",
    "- channels:  neurons, vesicles, mitochondria, synapses\n",
    "- native resolution:  3 (1 for vesicles)\n",
    "- bounding box at scale 3 resolution:  X: [694,1794]; Y: [1750,2460]; Z: [1004,1379]\n",
    "\n",
    "### Raw Paper Data\n",
    "Defined on the dataset extent (http://openconnecto.me/ocp/ca/kat11segments/info/)\n",
    "- kat11segments [res3]\n",
    "- kat11vesicles [res1]\n",
    "- kat11mito [res3]\n",
    "- kat11greencylinder [res1]\n",
    "- kat11mojocylinder [res1]\n",
    "- kat11redcylinder [res1]\n",
    "- kat11synapses [res3]\n",
    "\n",
    "\n",
    "### Other Data of Note\n",
    "\n",
    "#### Kasthuri2015 AC3 and AC4 Data\n",
    "\n",
    "This data is related to the recently published <a href=\"http://cell.com/cell/abstract/S0092-8674(15)00824-7\">Cell Paper</a> entitled a *Saturated Reconstruction of a Volume of Neocortex*.  AC3 and AC4 are small reference datasets containing a variety of manually annotated “gold standard”\n",
    "annotations and corresponding machine vision results.  These data are found on\n",
    "the server openconnecto.me.  Clicking on the channel name will lead to an example slice in your browser.\n",
    "\n",
    " \n",
    "\n",
    "| Token  | Channel             | Description                              | X Extent   | Y Extent   | Z Extent   | Resolution |\n",
    "|--------|---------------------|------------------------------------------|------------|------------|------------|------------|\n",
    "| ac3ac4 | <a href=\"http://openconnecto.me/ocp/overlay/0.6/openconnecto.me/kasthuri11cc/image/openconnecto.me/ac3ac4/ac3_neuron_truth/xy/1/5472,6496/8712,9736/1205/\">ac3\\_neuron\\_truth</a>  | raw neuron label gold standard data      | 5472, 6496  | 8712, 9736  | 1000, 1256 | 1        |                                                                                              \n",
    "| ac3ac4 | <a href=\"http://openconnecto.me/ocp/overlay/0.6/openconnecto.me/kasthuri11cc/image/openconnecto.me/ac3ac4/ac3_synapse_truth/xy/1/5472,6496/8712,9736/1205/\">ac3\\_synapse\\_truth </a>| raw synapse label gold standard data     | 5472, 6496  | 8712, 9736  | 1000, 1256 | 1        |\n",
    "| ac3ac4 | <a href=\"http://openconnecto.me/ocp/overlay/0.6/openconnecto.me/kasthuri11cc/image/openconnecto.me/ac3ac4/ac3membraneIDSIA/xy/1/5472,6496/8712,9736/1205/\">ac3membraneIDSIA</a>  | computer vision membranes from isbi 2013 | 5472, 6496  | 8712, 9736  | 1156, 1256 | 1        |\n",
    "| ac3ac4 | <a href=\"http://openconnecto.me/ocp/overlay/0.6/openconnecto.me/kasthuri11cc/image/openconnecto.me/ac3ac4/ac4_neuron_truth/xy/1/4400,5424/5440,6464/1120/\">ac4\\_neuron\\_truth</a> | raw neuron label gold standard data      | 4400, 5424 | 5440, 6464 | 1100, 1200 | 1          |\n",
    "| ac3ac4 | <a href=\"http://openconnecto.me/ocp/overlay/0.6/openconnecto.me/kasthuri11cc/image/openconnecto.me/ac3ac4/ac4_synapse_truth/xy/1/4400,5424/5440,6464/1120/\">ac4\\_synapse\\_truth</a> | raw synapse label gold standard data     | 4400, 5424 | 5440, 6464 | 1100, 1200 | 1          |\n",
    "| ac3ac4 | <a href=\"http://openconnecto.me/ocp/overlay/0.6/openconnecto.me/kasthuri11cc/image/openconnecto.me/ac3ac4/ac4membraneIDSIA/xy/1/4400,5424/5440,6464/1120/\">ac4membraneIDSIA</a>   | computer vision membranes from isbi 2013 | 4400, 5424 | 5440, 6464 | 1100, 1200 | 1       |\n",
    "\n",
    "#### Kasthuri2015 Computer Vision results\n",
    "\n",
    "These annotations were produced with a variety of machine vision algorithms (documented elsewhere).  These may be used as inputs to algorithms or for comparison purposes (citations to follow).\n",
    "\n",
    "| Token  | Channel             | Description                              | X Extent   | Y Extent   | Z Extent   | Resolution |\n",
    "|--------|---------------------|------------------------------------------|------------|------------|------------|------------|\n",
    "| cv_kasthuri11_membrane_2014 | <a href=\"http://openconnecto.me/ocp/overlay/0.3/openconnecto.me/kasthuri11cc/image/openconnecto.me/cv_kasthuri11_membrane_2014/image/xy/1/4400,5424/5440,6464/920/\">image </a>  | computer vision membrane detection reference for kasthuri volume | 2300, 8300  | 4300, 9300  | 1, 1850 | 1 |\n",
    "| cv_kasthuri11_vesicle_2014 | <a href=\"http://openconnecto.me/ocp/overlay/0.3/openconnecto.me/kasthuri11cc/image/openconnecto.me/cv_kasthuri11_vesicle_2014/annotation/xy/1/4400,5424/5440,6464/920/\">annotation</a>  | computer vision vesicle detection reference for kasthuri volume | 4400, 5424  | 5440, 6464  | 1100, 1200 | 1 |\n",
    "| cv_ac3_membrane_2014 | <a href=\"http://openconnecto.me/ocp/overlay/0.3/openconnecto.me/kasthuri11cc/image/openconnecto.me/cv_ac3_membrane_2014/image/xy/1/5500,6500/8500,9500/1000/\"> image </a> | computer vision membrane detection reference for ac3 created for i2g paper   | 5200, 6700  | 8500, 10000  | 975, 1275 | 1  |\n",
    "| cv_ac3_vesicle_2014 | <a href=\"http://openconnecto.me/ocp/overlay/0.3/openconnecto.me/kasthuri11cc/image/openconnecto.me/cv_ac3_vesicle_2014/annotation/xy/1/5500,6500/8500,9500/1000/\">annotation </a>  | computer vision vesicle detection for i2g paper  | 5200, 6700  | 8500, 10000    | 975, 1275 | 1  |\n"
   ]
  },
  {
   "cell_type": "code",
   "execution_count": null,
   "metadata": {
    "collapsed": false
   },
   "outputs": [],
   "source": [
    "# Example Data Pull @ scale 3 for in memory operations\n",
    "\n",
    "import numpy as np\n",
    "import ndio.remote.neurodata as neurodata\n",
    "import ndio.ramon as ramon\n",
    "import time\n",
    "import ndio\n",
    "\n",
    "start = time.time()\n",
    "\n",
    "token = 'kasthuri2015_ramon_v4' \n",
    "channel = 'neurons' #already masked to the 3 cylinders\n",
    "res = 3\n",
    "\n",
    "nd = neurodata()\n",
    "\n",
    "im = nd.get_volume(token, channel, 694, 1794, 1750, 2460, 1004, 1379, resolution=3)\n",
    "\n",
    "if False: \n",
    "    # save data in matlab format\n",
    "    data = {}\n",
    "    data['im'] = im.cutout\n",
    "    sio.savemat('downloaded_data.mat',data)"
   ]
  },
  {
   "cell_type": "code",
   "execution_count": null,
   "metadata": {
    "collapsed": false
   },
   "outputs": [],
   "source": [
    "import pylab as plt\n",
    "%matplotlib inline\n",
    "plt.imshow(im.cutout[:,:,50].T) #need to transpose to be pythonic\n",
    "plt.show()"
   ]
  },
  {
   "cell_type": "code",
   "execution_count": 1,
   "metadata": {
    "collapsed": false
   },
   "outputs": [
    {
     "ename": "NameError",
     "evalue": "global name 'export_png' is not defined",
     "output_type": "error",
     "traceback": [
      "\u001b[0;31m---------------------------------------------------------------------------\u001b[0m",
      "\u001b[0;31mNameError\u001b[0m                                 Traceback (most recent call last)",
      "\u001b[0;32m<ipython-input-1-07b1093fc6cf>\u001b[0m in \u001b[0;36m<module>\u001b[0;34m()\u001b[0m\n\u001b[1;32m     42\u001b[0m                                                        z_start+z, resolution)\n\u001b[1;32m     43\u001b[0m     \u001b[0;31m# TODO Confirm that transpose is fixed\u001b[0m\u001b[0;34m\u001b[0m\u001b[0;34m\u001b[0m\u001b[0m\n\u001b[0;32m---> 44\u001b[0;31m     \u001b[0mndpng\u001b[0m\u001b[0;34m.\u001b[0m\u001b[0msave_collection\u001b[0m\u001b[0;34m(\u001b[0m\u001b[0mos\u001b[0m\u001b[0;34m.\u001b[0m\u001b[0mpath\u001b[0m\u001b[0;34m.\u001b[0m\u001b[0mjoin\u001b[0m\u001b[0;34m(\u001b[0m\u001b[0mdir_out\u001b[0m\u001b[0;34m,\u001b[0m \u001b[0mfilename\u001b[0m\u001b[0;34m)\u001b[0m\u001b[0;34m,\u001b[0m \u001b[0mvol\u001b[0m\u001b[0;34m[\u001b[0m\u001b[0;34m:\u001b[0m\u001b[0;34m,\u001b[0m\u001b[0;34m:\u001b[0m\u001b[0;34m,\u001b[0m\u001b[0mz\u001b[0m\u001b[0;34m]\u001b[0m\u001b[0;34m)\u001b[0m\u001b[0;34m\u001b[0m\u001b[0m\n\u001b[0m",
      "\u001b[0;32m/Users/graywr1/anaconda2/lib/python2.7/site-packages/ndio/convert/png.pyc\u001b[0m in \u001b[0;36msave_collection\u001b[0;34m(png_filename_base, numpy_data, start_layers_at)\u001b[0m\n\u001b[1;32m    103\u001b[0m     \u001b[0;32mfor\u001b[0m \u001b[0mlayer\u001b[0m \u001b[0;32min\u001b[0m \u001b[0mnumpy_data\u001b[0m\u001b[0;34m:\u001b[0m\u001b[0;34m\u001b[0m\u001b[0m\n\u001b[1;32m    104\u001b[0m         \u001b[0mlayer_filename\u001b[0m \u001b[0;34m=\u001b[0m \u001b[0;34m(\u001b[0m\u001b[0mstr\u001b[0m\u001b[0;34m(\u001b[0m\u001b[0mi\u001b[0m\u001b[0;34m)\u001b[0m\u001b[0;34m.\u001b[0m\u001b[0mzfill\u001b[0m\u001b[0;34m(\u001b[0m\u001b[0;36m6\u001b[0m\u001b[0;34m)\u001b[0m\u001b[0;34m)\u001b[0m\u001b[0;34m.\u001b[0m\u001b[0mjoin\u001b[0m\u001b[0;34m(\u001b[0m\u001b[0mfile_base_array\u001b[0m\u001b[0;34m)\u001b[0m \u001b[0;34m+\u001b[0m \u001b[0mfile_ext\u001b[0m\u001b[0;34m\u001b[0m\u001b[0m\n\u001b[0;32m--> 105\u001b[0;31m         \u001b[0moutput_files\u001b[0m\u001b[0;34m.\u001b[0m\u001b[0mappend\u001b[0m\u001b[0;34m(\u001b[0m\u001b[0mexport_png\u001b[0m\u001b[0;34m(\u001b[0m\u001b[0mlayer_filename\u001b[0m\u001b[0;34m,\u001b[0m \u001b[0mlayer\u001b[0m\u001b[0;34m)\u001b[0m\u001b[0;34m)\u001b[0m\u001b[0;34m\u001b[0m\u001b[0m\n\u001b[0m\u001b[1;32m    106\u001b[0m         \u001b[0mi\u001b[0m \u001b[0;34m+=\u001b[0m \u001b[0;36m1\u001b[0m\u001b[0;34m\u001b[0m\u001b[0m\n\u001b[1;32m    107\u001b[0m \u001b[0;34m\u001b[0m\u001b[0m\n",
      "\u001b[0;31mNameError\u001b[0m: global name 'export_png' is not defined"
     ]
    }
   ],
   "source": [
    "# Second example - save full slices to disk\n",
    "# Example:\n",
    "#  python download-as-png.py kasthuri11 image 3 1100 1110\n",
    "# (Will download slices 1100-1110 of the kasthuri11 dataset at resolution 3)\n",
    "\n",
    "import ndio.remote.neurodata as neurodata\n",
    "import ndio.convert.png as ndpng\n",
    "import os.path\n",
    "import sys\n",
    "nd = neurodata()\n",
    "\n",
    "token = 'kat11segments'\n",
    "channel = 'annotation'\n",
    "resolution = 3\n",
    "z_start = 1100\n",
    "z_stop  = 1110\n",
    "dir_out = '~/pngtest/'\n",
    "img_size = nd.get_image_size(token, resolution=resolution)\n",
    "img_offset = nd.get_image_offset(token, resolution=resolution)\n",
    "\n",
    "x_start = img_offset[0]\n",
    "x_stop = img_size[0]\n",
    "y_start = img_offset[1]\n",
    "y_stop = img_size[1]\n",
    "\n",
    "query = {\n",
    "    \"token\":      token,\n",
    "    \"channel\":    channel,\n",
    "    \"x_start\":    x_start,\n",
    "    \"y_start\":    y_start,\n",
    "    \"z_start\":    z_start,\n",
    "    \"x_stop\":     x_stop,\n",
    "    \"y_stop\":     y_stop,\n",
    "    \"z_stop\":     z_stop,\n",
    "    \"resolution\": resolution\n",
    "}\n",
    "\n",
    "vol = nd.get_cutout(**query)\n",
    "for z in range(0,vol.shape[2]):\n",
    "    filename = '{}_{}_{}_{}_{}_{}_{}_{}.png'.format(token,channel,x_start,\n",
    "                                                       x_stop,y_start,y_stop,\n",
    "                                                       z_start+z, resolution)\n",
    "    # TODO Confirm that transpose is fixed\n",
    "    ndpng.save_collection(os.path.join(dir_out, filename), vol[:,:,z])  \n",
    "\n",
    "ndpng.save('test.png',vol[:,:,0])"
   ]
  },
  {
   "cell_type": "code",
   "execution_count": 2,
   "metadata": {
    "collapsed": false
   },
   "outputs": [
    {
     "data": {
      "text/plain": [
       "'~/pngtest/kat11segments_annotation_0_2688_0_3328_1100_3.png'"
      ]
     },
     "execution_count": 2,
     "metadata": {},
     "output_type": "execute_result"
    }
   ],
   "source": [
    "os.path.join(dir_out, filename)"
   ]
  },
  {
   "cell_type": "code",
   "execution_count": 6,
   "metadata": {
    "collapsed": false
   },
   "outputs": [
    {
     "ename": "UnboundLocalError",
     "evalue": "local variable 'png_filename' referenced before assignment",
     "output_type": "error",
     "traceback": [
      "\u001b[0;31m---------------------------------------------------------------------------\u001b[0m",
      "\u001b[0;31mUnboundLocalError\u001b[0m                         Traceback (most recent call last)",
      "\u001b[0;32m<ipython-input-6-3c7c723aef98>\u001b[0m in \u001b[0;36m<module>\u001b[0;34m()\u001b[0m\n\u001b[1;32m      2\u001b[0m \u001b[0;31m#ndio.convert.# .save_collection(os.path.join(dir_out, filename), vol[:,:,z])\u001b[0m\u001b[0;34m\u001b[0m\u001b[0;34m\u001b[0m\u001b[0m\n\u001b[1;32m      3\u001b[0m \u001b[0;34m\u001b[0m\u001b[0m\n\u001b[0;32m----> 4\u001b[0;31m \u001b[0mndpng\u001b[0m\u001b[0;34m.\u001b[0m\u001b[0msave\u001b[0m\u001b[0;34m(\u001b[0m\u001b[0;34m'~/pngtest/kat11segments_annotation_0_2688_0_3328_1100_3.png'\u001b[0m\u001b[0;34m,\u001b[0m\u001b[0mvol\u001b[0m\u001b[0;34m[\u001b[0m\u001b[0;34m:\u001b[0m\u001b[0;34m,\u001b[0m\u001b[0;34m:\u001b[0m\u001b[0;34m,\u001b[0m\u001b[0;36m0\u001b[0m\u001b[0;34m]\u001b[0m\u001b[0;34m)\u001b[0m\u001b[0;34m\u001b[0m\u001b[0m\n\u001b[0m",
      "\u001b[0;32m/Users/graywr1/anaconda2/lib/python2.7/site-packages/ndio/convert/png.pyc\u001b[0m in \u001b[0;36msave\u001b[0;34m(filename, numpy_data)\u001b[0m\n\u001b[1;32m     49\u001b[0m \u001b[0;34m\u001b[0m\u001b[0m\n\u001b[1;32m     50\u001b[0m     \u001b[0;31m# Expand filename to be absolute\u001b[0m\u001b[0;34m\u001b[0m\u001b[0;34m\u001b[0m\u001b[0m\n\u001b[0;32m---> 51\u001b[0;31m     \u001b[0mpng_filename\u001b[0m \u001b[0;34m=\u001b[0m \u001b[0mos\u001b[0m\u001b[0;34m.\u001b[0m\u001b[0mpath\u001b[0m\u001b[0;34m.\u001b[0m\u001b[0mexpanduser\u001b[0m\u001b[0;34m(\u001b[0m\u001b[0mpng_filename\u001b[0m\u001b[0;34m)\u001b[0m\u001b[0;34m\u001b[0m\u001b[0m\n\u001b[0m\u001b[1;32m     52\u001b[0m \u001b[0;34m\u001b[0m\u001b[0m\n\u001b[1;32m     53\u001b[0m     \u001b[0;32mif\u001b[0m \u001b[0mtype\u001b[0m\u001b[0;34m(\u001b[0m\u001b[0mnumpy_data\u001b[0m\u001b[0;34m)\u001b[0m \u001b[0;32mis\u001b[0m \u001b[0mstr\u001b[0m\u001b[0;34m:\u001b[0m\u001b[0;34m\u001b[0m\u001b[0m\n",
      "\u001b[0;31mUnboundLocalError\u001b[0m: local variable 'png_filename' referenced before assignment"
     ]
    }
   ],
   "source": [
    "import ndio.convert.png as ndpng\n",
    "#ndio.convert.# .save_collection(os.path.join(dir_out, filename), vol[:,:,z])  \n",
    "\n",
    "ndpng.save('~/pngtest/kat11segments_annotation_0_2688_0_3328_1100_3.png',vol[:,:,0])"
   ]
  },
  {
   "cell_type": "code",
   "execution_count": null,
   "metadata": {
    "collapsed": true
   },
   "outputs": [],
   "source": []
  }
 ],
 "metadata": {
  "kernelspec": {
   "display_name": "Python 2",
   "language": "python",
   "name": "python2"
  },
  "language_info": {
   "codemirror_mode": {
    "name": "ipython",
    "version": 2
   },
   "file_extension": ".py",
   "mimetype": "text/x-python",
   "name": "python",
   "nbconvert_exporter": "python",
   "pygments_lexer": "ipython2",
   "version": "2.7.11"
  }
 },
 "nbformat": 4,
 "nbformat_minor": 0
}
