{
 "metadata": {
  "kernelspec": {
   "display_name": "Python 2",
   "language": "python",
   "name": "python2"
  },
  "language_info": {
   "codemirror_mode": {
    "name": "ipython",
    "version": 2
   },
   "file_extension": ".py",
   "mimetype": "text/x-python",
   "name": "python",
   "nbconvert_exporter": "python",
   "pygments_lexer": "ipython2",
   "version": "2.7.11"
  },
  "name": ""
 },
 "nbformat": 3,
 "nbformat_minor": 0,
 "worksheets": [
  {
   "cells": [
    {
     "cell_type": "markdown",
     "metadata": {},
     "source": [
      "### Claim 9:  Count the total number of vesicles in Cylinder 1 of Kasthuri\n",
      "The paper agrees with the result in the paper (n = 162,259)"
     ]
    },
    {
     "cell_type": "code",
     "collapsed": false,
     "input": [
      "import ndio.remote.neurodata as neurodata\n",
      "import ndio.ramon as ramon\n",
      "nd = neurodata()\n",
      "\n",
      "token = \"kasthuri2015_ramon_v4\"\n",
      "channel = \"vesicles\"\n",
      "\n",
      "# Here we do a filter query on RAMONOrganelles in channel vesicle\n",
      "# This is sufficient to uniquely identify vesicles in this case\n",
      "\n",
      "ids = nd.get_ramon_ids(token, channel)#, ramon_type=ramon.RAMONOrganelle)\n"
     ],
     "language": "python",
     "metadata": {},
     "outputs": [],
     "prompt_number": 1
    },
    {
     "cell_type": "code",
     "collapsed": false,
     "input": [
      "print 'The total number of vesicles manually annotated in cylinder 1 is: ' + str(len(ids))\n"
     ],
     "language": "python",
     "metadata": {},
     "outputs": [
      {
       "output_type": "stream",
       "stream": "stdout",
       "text": [
        "The total number of vesicles manually annotated in cylinder 1 is: 161368\n"
       ]
      }
     ],
     "prompt_number": 2
    },
    {
     "cell_type": "code",
     "collapsed": false,
     "input": [
      "import ndio\n",
      "ndio.version"
     ],
     "language": "python",
     "metadata": {},
     "outputs": [
      {
       "output_type": "pyout",
       "prompt_number": 3,
       "text": [
        "'1.1.1'"
       ]
      }
     ],
     "prompt_number": 3
    },
    {
     "cell_type": "code",
     "collapsed": false,
     "input": [
      "xbox = [694*4,1794*4]; \n",
      "ybox = [1750*4, 2460*4];\n",
      "zbox = [1100, 1101];\n",
      "res = 1\n",
      "# These calls take about 60 seconds to execute\n",
      "ves_slice = nd.get_cutout(token,'vesicles', xbox[0], xbox[1], ybox[0], ybox[1], zbox[0], zbox[1], resolution = res)\n"
     ],
     "language": "python",
     "metadata": {},
     "outputs": [],
     "prompt_number": 4
    },
    {
     "cell_type": "code",
     "collapsed": false,
     "input": [
      "import ndparse as ndp\n",
      "%matplotlib inline\n",
      "\n",
      "ndp.plot(ves_slice, cmap1='jet')"
     ],
     "language": "python",
     "metadata": {},
     "outputs": [
      {
       "output_type": "display_data",
       "png": "[encoded data removed]",
       "text": [
        "<matplotlib.figure.Figure at 0x1122fa550>"
       ]
      }
     ],
     "prompt_number": 5
    },
    {
     "cell_type": "code",
     "collapsed": false,
     "input": [
      "xbox"
     ],
     "language": "python",
     "metadata": {},
     "outputs": [
      {
       "output_type": "pyout",
       "prompt_number": 6,
       "text": [
        "[2776, 7176]"
       ]
      }
     ],
     "prompt_number": 6
    },
    {
     "cell_type": "code",
     "collapsed": true,
     "input": [],
     "language": "python",
     "metadata": {},
     "outputs": [],
     "prompt_number": 7
    }
   ],
   "metadata": {}
  }
 ]
}
