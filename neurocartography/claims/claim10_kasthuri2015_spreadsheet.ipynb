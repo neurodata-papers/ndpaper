{
 "metadata": {
  "kernelspec": {
   "display_name": "Python 2",
   "language": "python",
   "name": "python2"
  },
  "language_info": {
   "codemirror_mode": {
    "name": "ipython",
    "version": 2
   },
   "file_extension": ".py",
   "mimetype": "text/x-python",
   "name": "python",
   "nbconvert_exporter": "python",
   "pygments_lexer": "ipython2",
   "version": "2.7.11"
  },
  "name": ""
 },
 "nbformat": 3,
 "nbformat_minor": 0,
 "worksheets": [
  {
   "cells": [
    {
     "cell_type": "markdown",
     "metadata": {},
     "source": [
      "### Kasthuri Spreadsheet Reproduction\n",
      "\n",
      "- This claim attempts to reproduce the Kasthuri 2015 synapse connectivity spreadsheet through analysis of the derived data products\n",
      "- Metadata was curated from the VAST spreadsheet, Kasthuri spreadsheet, and image data directly.  Whenever possible, the raw labels were used.\n",
      "- This claim generates a spreadsheet with the columns:  [SynapseID, FromSegmentID, ToSegmentID, xPosition, yPosition, zPosition]\n",
      "- segmentIDs reflect the higher level neuron, which in this schema is derived - the individual labels represent segments (i.e., neurites) that are fused using metadata.  \n",
      "- segmentIDs are 10000 higher than the neuronIDs recorded in the original spreadsheet.  That is, neuron 3432 would be 13432 in this derivation\n",
      "- positions represent centroids after an approximate associate algorithm.  Centroids are computed as the center of mass from the labeled data"
     ]
    },
    {
     "cell_type": "code",
     "collapsed": true,
     "input": [
      "import numpy as np\n",
      "import ndio.remote.neurodata as neurodata\n",
      "import ndio.ramon as ramon\n",
      "import time\n",
      "import ndio\n",
      "import networkx as nx\n",
      "start = time.time()\n",
      "\n",
      "token_synapse = 'kasthuri2015_ramon_v4'\n",
      "channel_synapse = 'synapses'\n",
      "\n",
      "token_neurons = 'kasthuri2015_ramon_v4'\n",
      "channel_neurons = 'neurons'\n",
      "\n",
      "res = 3"
     ],
     "language": "python",
     "metadata": {},
     "outputs": [],
     "prompt_number": 1
    },
    {
     "cell_type": "code",
     "collapsed": false,
     "input": [
      "# Find all synapses\n",
      "\n",
      "nd = neurodata()\n",
      "\n",
      "id_synapse = nd.get_ramon_ids(token_synapse, channel_synapse, ramon_type=ramon.RAMONSynapse)\n",
      "print len(id_synapse)"
     ],
     "language": "python",
     "metadata": {},
     "outputs": [
      {
       "output_type": "stream",
       "stream": "stdout",
       "text": [
        "1700\n"
       ]
      }
     ],
     "prompt_number": 2
    },
    {
     "cell_type": "code",
     "collapsed": false,
     "input": [
      "import csv\n",
      "\n",
      "with open('kasthuri2015_synapse_table.csv', 'wb') as csvfile:\n",
      "\n",
      "    cc = csv.writer(csvfile, delimiter=',')\n",
      "    cc.writerow(['SynapseID','FromSegmentID','ToSegmentID',\n",
      "                'xPosition','yPosition','zPosition'])\n",
      "                                                                                                            \n",
      "    # for each synapse \n",
      "    c = 0 \n",
      "    for x in id_synapse:\n",
      "        c += 1\n",
      "        print str(c).zfill(4),\n",
      "        s = nd.get_ramon(token_synapse,channel_synapse, x)\n",
      "\n",
      "        # for each segment\n",
      "        segments = [seg[0] for seg in s.segments]\n",
      "        direction = [seg[1] for seg in s.segments]\n",
      "        # 1: axon/pre, 2: dendrite/post (see enumerated types)\n",
      "\n",
      "        #print direction\n",
      "        if len(segments) != 2:\n",
      "            raise('multiway synapses not implemented!')\n",
      "\n",
      "        s1 = nd.get_ramon(token_neurons,channel_neurons,segments[0])\n",
      "        s2 = nd.get_ramon(token_neurons,channel_neurons,segments[1])\n",
      "\n",
      "        if direction[0] == 1 and direction[1] == 2:  \n",
      "            n1 = s1.neuron\n",
      "            n2 = s2.neuron\n",
      "\n",
      "        elif direction[0] == 2 and direction[1] == 1:\n",
      "            n1 = s2.neuron\n",
      "            n2 = s1.neuron\n",
      "        else: \n",
      "            print('1 pre and 1 post synaptic partner are required')\n",
      "            raise\n",
      "        \n",
      "        cc.writerow([str(s.id), str(n1), str(n2), s.kvpairs['centroidx_um'],\n",
      "                     s.kvpairs['centroidy_um'],s.kvpairs['centroidz_um']])"
     ],
     "language": "python",
     "metadata": {},
     "outputs": [
      {
       "output_type": "stream",
       "stream": "stdout",
       "text": [
        "0001 "
       ]
      },
      {
       "output_type": "stream",
       "stream": "stdout",
       "text": [
        "0002 "
       ]
      },
      {
       "output_type": "stream",
       "stream": "stdout",
       "text": [
        "0003 "
       ]
      },
      {
       "output_type": "stream",
       "stream": "stdout",
       "text": [
        "0004 "
       ]
      },
      {
       "output_type": "stream",
       "stream": "stdout",
       "text": [
        "0005 "
       ]
      },
      {
       "output_type": "stream",
       "stream": "stdout",
       "text": [
        "0006 "
       ]
      },
      {
       "output_type": "stream",
       "stream": "stdout",
       "text": [
        "0007 "
       ]
      },
      {
       "output_type": "stream",
       "stream": "stdout",
       "text": [
        "0008 "
       ]
      },
      {
       "output_type": "stream",
       "stream": "stdout",
       "text": [
        "0009 "
       ]
      },
      {
       "output_type": "stream",
       "stream": "stdout",
       "text": [
        "0010 "
       ]
      },
      {
       "output_type": "stream",
       "stream": "stdout",
       "text": [
        "0011 "
       ]
      },
      {
       "output_type": "stream",
       "stream": "stdout",
       "text": [
        "0012 "
       ]
      },
      {
       "output_type": "stream",
       "stream": "stdout",
       "text": [
        "0013 "
       ]
      },
      {
       "output_type": "stream",
       "stream": "stdout",
       "text": [
        "0014 "
       ]
      },
      {
       "output_type": "stream",
       "stream": "stdout",
       "text": [
        "0015 "
       ]
      },
      {
       "output_type": "stream",
       "stream": "stdout",
       "text": [
        "0016 "
       ]
      },
      {
       "output_type": "stream",
       "stream": "stdout",
       "text": [
        "0017 "
       ]
      },
      {
       "output_type": "stream",
       "stream": "stdout",
       "text": [
        "0018 "
       ]
      },
      {
       "output_type": "stream",
       "stream": "stdout",
       "text": [
        "0019 "
       ]
      },
      {
       "output_type": "stream",
       "stream": "stdout",
       "text": [
        "0020 "
       ]
      },
      {
       "output_type": "stream",
       "stream": "stdout",
       "text": [
        "0021 "
       ]
      },
      {
       "output_type": "stream",
       "stream": "stdout",
       "text": [
        "0022 "
       ]
      },
      {
       "output_type": "stream",
       "stream": "stdout",
       "text": [
        "0023 "
       ]
      },
      {
       "output_type": "stream",
       "stream": "stdout",
       "text": [
        "0024 "
       ]
      },
      {
       "output_type": "stream",
       "stream": "stdout",
       "text": [
        "0025 "
       ]
      },
      {
       "output_type": "stream",
       "stream": "stdout",
       "text": [
        "0026 "
       ]
      },
      {
       "output_type": "stream",
       "stream": "stdout",
       "text": [
        "0027 "
       ]
      },
      {
       "output_type": "stream",
       "stream": "stdout",
       "text": [
        "0028 "
       ]
      },
      {
       "output_type": "stream",
       "stream": "stdout",
       "text": [
        "0029 "
       ]
      },
      {
       "output_type": "stream",
       "stream": "stdout",
       "text": [
        "0030 "
       ]
      },
      {
       "output_type": "stream",
       "stream": "stdout",
       "text": [
        "0031 "
       ]
      },
      {
       "output_type": "stream",
       "stream": "stdout",
       "text": [
        "0032 "
       ]
      },
      {
       "output_type": "stream",
       "stream": "stdout",
       "text": [
        "0033 "
       ]
      },
      {
       "output_type": "stream",
       "stream": "stdout",
       "text": [
        "0034 "
       ]
      },
      {
       "output_type": "stream",
       "stream": "stdout",
       "text": [
        "0035 "
       ]
      },
      {
       "output_type": "stream",
       "stream": "stdout",
       "text": [
        "0036 "
       ]
      },
      {
       "output_type": "stream",
       "stream": "stdout",
       "text": [
        "0037 "
       ]
      },
      {
       "output_type": "stream",
       "stream": "stdout",
       "text": [
        "0038 "
       ]
      },
      {
       "output_type": "stream",
       "stream": "stdout",
       "text": [
        "0039 "
       ]
      },
      {
       "output_type": "stream",
       "stream": "stdout",
       "text": [
        "0040 "
       ]
      },
      {
       "output_type": "stream",
       "stream": "stdout",
       "text": [
        "0041 "
       ]
      },
      {
       "output_type": "stream",
       "stream": "stdout",
       "text": [
        "0042 "
       ]
      },
      {
       "output_type": "stream",
       "stream": "stdout",
       "text": [
        "0043 "
       ]
      },
      {
       "output_type": "stream",
       "stream": "stdout",
       "text": [
        "0044 "
       ]
      },
      {
       "output_type": "stream",
       "stream": "stdout",
       "text": [
        "0045 "
       ]
      },
      {
       "output_type": "stream",
       "stream": "stdout",
       "text": [
        "0046 "
       ]
      },
      {
       "output_type": "stream",
       "stream": "stdout",
       "text": [
        "0047 "
       ]
      },
      {
       "output_type": "stream",
       "stream": "stdout",
       "text": [
        "0048 "
       ]
      },
      {
       "output_type": "stream",
       "stream": "stdout",
       "text": [
        "0049 "
       ]
      },
      {
       "output_type": "stream",
       "stream": "stdout",
       "text": [
        "0050 "
       ]
      },
      {
       "output_type": "stream",
       "stream": "stdout",
       "text": [
        "0051 "
       ]
      },
      {
       "output_type": "stream",
       "stream": "stdout",
       "text": [
        "0052 "
       ]
      },
      {
       "output_type": "stream",
       "stream": "stdout",
       "text": [
        "0053 "
       ]
      },
      {
       "output_type": "stream",
       "stream": "stdout",
       "text": [
        "0054 "
       ]
      },
      {
       "output_type": "stream",
       "stream": "stdout",
       "text": [
        "0055 "
       ]
      },
      {
       "output_type": "stream",
       "stream": "stdout",
       "text": [
        "0056 "
       ]
      },
      {
       "output_type": "stream",
       "stream": "stdout",
       "text": [
        "0057 "
       ]
      },
      {
       "output_type": "stream",
       "stream": "stdout",
       "text": [
        "0058 "
       ]
      },
      {
       "output_type": "stream",
       "stream": "stdout",
       "text": [
        "0059 "
       ]
      },
      {
       "output_type": "stream",
       "stream": "stdout",
       "text": [
        "0060 "
       ]
      },
      {
       "output_type": "stream",
       "stream": "stdout",
       "text": [
        "0061 "
       ]
      },
      {
       "output_type": "stream",
       "stream": "stdout",
       "text": [
        "0062 "
       ]
      },
      {
       "output_type": "stream",
       "stream": "stdout",
       "text": [
        "0063 "
       ]
      },
      {
       "output_type": "stream",
       "stream": "stdout",
       "text": [
        "0064 "
       ]
      },
      {
       "output_type": "stream",
       "stream": "stdout",
       "text": [
        "0065 "
       ]
      },
      {
       "output_type": "stream",
       "stream": "stdout",
       "text": [
        "0066 "
       ]
      },
      {
       "output_type": "stream",
       "stream": "stdout",
       "text": [
        "0067 "
       ]
      },
      {
       "output_type": "stream",
       "stream": "stdout",
       "text": [
        "0068 "
       ]
      },
      {
       "output_type": "stream",
       "stream": "stdout",
       "text": [
        "0069 "
       ]
      },
      {
       "output_type": "stream",
       "stream": "stdout",
       "text": [
        "0070 "
       ]
      },
      {
       "output_type": "stream",
       "stream": "stdout",
       "text": [
        "0071 "
       ]
      },
      {
       "output_type": "stream",
       "stream": "stdout",
       "text": [
        "0072 "
       ]
      },
      {
       "output_type": "stream",
       "stream": "stdout",
       "text": [
        "0073 "
       ]
      },
      {
       "output_type": "stream",
       "stream": "stdout",
       "text": [
        "0074 "
       ]
      },
      {
       "output_type": "stream",
       "stream": "stdout",
       "text": [
        "0075 "
       ]
      },
      {
       "output_type": "stream",
       "stream": "stdout",
       "text": [
        "0076 "
       ]
      },
      {
       "output_type": "stream",
       "stream": "stdout",
       "text": [
        "0077 "
       ]
      },
      {
       "output_type": "stream",
       "stream": "stdout",
       "text": [
        "0078 "
       ]
      },
      {
       "output_type": "stream",
       "stream": "stdout",
       "text": [
        "0079 "
       ]
      },
      {
       "output_type": "stream",
       "stream": "stdout",
       "text": [
        "0080 "
       ]
      },
      {
       "output_type": "stream",
       "stream": "stdout",
       "text": [
        "0081 "
       ]
      },
      {
       "output_type": "stream",
       "stream": "stdout",
       "text": [
        "0082 "
       ]
      },
      {
       "output_type": "stream",
       "stream": "stdout",
       "text": [
        "0083 "
       ]
      },
      {
       "output_type": "stream",
       "stream": "stdout",
       "text": [
        "0084 "
       ]
      },
      {
       "output_type": "stream",
       "stream": "stdout",
       "text": [
        "0085 "
       ]
      },
      {
       "output_type": "stream",
       "stream": "stdout",
       "text": [
        "0086 "
       ]
      },
      {
       "output_type": "stream",
       "stream": "stdout",
       "text": [
        "0087 "
       ]
      },
      {
       "output_type": "stream",
       "stream": "stdout",
       "text": [
        "0088 "
       ]
      },
      {
       "output_type": "stream",
       "stream": "stdout",
       "text": [
        "0089 "
       ]
      },
      {
       "output_type": "stream",
       "stream": "stdout",
       "text": [
        "0090 "
       ]
      },
      {
       "output_type": "stream",
       "stream": "stdout",
       "text": [
        "0091 "
       ]
      },
      {
       "output_type": "stream",
       "stream": "stdout",
       "text": [
        "0092 "
       ]
      },
      {
       "output_type": "stream",
       "stream": "stdout",
       "text": [
        "0093 "
       ]
      },
      {
       "output_type": "stream",
       "stream": "stdout",
       "text": [
        "0094 "
       ]
      },
      {
       "output_type": "stream",
       "stream": "stdout",
       "text": [
        "0095 "
       ]
      },
      {
       "output_type": "stream",
       "stream": "stdout",
       "text": [
        "0096 "
       ]
      },
      {
       "output_type": "stream",
       "stream": "stdout",
       "text": [
        "0097 "
       ]
      },
      {
       "output_type": "stream",
       "stream": "stdout",
       "text": [
        "0098 "
       ]
      },
      {
       "output_type": "stream",
       "stream": "stdout",
       "text": [
        "0099 "
       ]
      },
      {
       "output_type": "stream",
       "stream": "stdout",
       "text": [
        "0100 "
       ]
      },
      {
       "output_type": "stream",
       "stream": "stdout",
       "text": [
        "0101 "
       ]
      },
      {
       "output_type": "stream",
       "stream": "stdout",
       "text": [
        "0102 "
       ]
      },
      {
       "output_type": "stream",
       "stream": "stdout",
       "text": [
        "0103 "
       ]
      },
      {
       "output_type": "stream",
       "stream": "stdout",
       "text": [
        "0104 "
       ]
      },
      {
       "output_type": "stream",
       "stream": "stdout",
       "text": [
        "0105 "
       ]
      },
      {
       "output_type": "stream",
       "stream": "stdout",
       "text": [
        "0106 "
       ]
      },
      {
       "output_type": "stream",
       "stream": "stdout",
       "text": [
        "0107 "
       ]
      },
      {
       "output_type": "stream",
       "stream": "stdout",
       "text": [
        "0108 "
       ]
      },
      {
       "output_type": "stream",
       "stream": "stdout",
       "text": [
        "0109 "
       ]
      },
      {
       "output_type": "stream",
       "stream": "stdout",
       "text": [
        "0110 "
       ]
      },
      {
       "output_type": "stream",
       "stream": "stdout",
       "text": [
        "0111 "
       ]
      },
      {
       "output_type": "stream",
       "stream": "stdout",
       "text": [
        "0112 "
       ]
      },
      {
       "output_type": "stream",
       "stream": "stdout",
       "text": [
        "0113 "
       ]
      },
      {
       "output_type": "stream",
       "stream": "stdout",
       "text": [
        "0114 "
       ]
      },
      {
       "output_type": "stream",
       "stream": "stdout",
       "text": [
        "0115 "
       ]
      },
      {
       "output_type": "stream",
       "stream": "stdout",
       "text": [
        "0116 "
       ]
      },
      {
       "output_type": "stream",
       "stream": "stdout",
       "text": [
        "0117 "
       ]
      },
      {
       "output_type": "stream",
       "stream": "stdout",
       "text": [
        "0118 "
       ]
      },
      {
       "output_type": "stream",
       "stream": "stdout",
       "text": [
        "0119 "
       ]
      },
      {
       "output_type": "stream",
       "stream": "stdout",
       "text": [
        "0120 "
       ]
      },
      {
       "output_type": "stream",
       "stream": "stdout",
       "text": [
        "0121 "
       ]
      },
      {
       "output_type": "stream",
       "stream": "stdout",
       "text": [
        "0122 "
       ]
      },
      {
       "output_type": "stream",
       "stream": "stdout",
       "text": [
        "0123 "
       ]
      },
      {
       "output_type": "stream",
       "stream": "stdout",
       "text": [
        "0124 "
       ]
      },
      {
       "output_type": "stream",
       "stream": "stdout",
       "text": [
        "0125 "
       ]
      },
      {
       "output_type": "stream",
       "stream": "stdout",
       "text": [
        "0126 "
       ]
      },
      {
       "output_type": "stream",
       "stream": "stdout",
       "text": [
        "0127 "
       ]
      },
      {
       "output_type": "stream",
       "stream": "stdout",
       "text": [
        "0128 "
       ]
      },
      {
       "output_type": "stream",
       "stream": "stdout",
       "text": [
        "0129 "
       ]
      },
      {
       "output_type": "stream",
       "stream": "stdout",
       "text": [
        "0130 "
       ]
      },
      {
       "output_type": "stream",
       "stream": "stdout",
       "text": [
        "0131 "
       ]
      },
      {
       "output_type": "stream",
       "stream": "stdout",
       "text": [
        "0132 "
       ]
      },
      {
       "output_type": "stream",
       "stream": "stdout",
       "text": [
        "0133 "
       ]
      },
      {
       "output_type": "stream",
       "stream": "stdout",
       "text": [
        "0134 "
       ]
      },
      {
       "output_type": "stream",
       "stream": "stdout",
       "text": [
        "0135 "
       ]
      },
      {
       "output_type": "stream",
       "stream": "stdout",
       "text": [
        "0136 "
       ]
      },
      {
       "output_type": "stream",
       "stream": "stdout",
       "text": [
        "0137 "
       ]
      },
      {
       "output_type": "stream",
       "stream": "stdout",
       "text": [
        "0138 "
       ]
      },
      {
       "output_type": "stream",
       "stream": "stdout",
       "text": [
        "0139 "
       ]
      },
      {
       "output_type": "stream",
       "stream": "stdout",
       "text": [
        "0140 "
       ]
      },
      {
       "output_type": "stream",
       "stream": "stdout",
       "text": [
        "0141 "
       ]
      },
      {
       "output_type": "stream",
       "stream": "stdout",
       "text": [
        "0142 "
       ]
      },
      {
       "output_type": "stream",
       "stream": "stdout",
       "text": [
        "0143 "
       ]
      },
      {
       "output_type": "stream",
       "stream": "stdout",
       "text": [
        "0144 "
       ]
      },
      {
       "output_type": "stream",
       "stream": "stdout",
       "text": [
        "0145 "
       ]
      },
      {
       "output_type": "stream",
       "stream": "stdout",
       "text": [
        "0146 "
       ]
      },
      {
       "output_type": "stream",
       "stream": "stdout",
       "text": [
        "0147 "
       ]
      },
      {
       "output_type": "stream",
       "stream": "stdout",
       "text": [
        "0148 "
       ]
      },
      {
       "output_type": "stream",
       "stream": "stdout",
       "text": [
        "0149 "
       ]
      },
      {
       "output_type": "stream",
       "stream": "stdout",
       "text": [
        "0150 "
       ]
      },
      {
       "output_type": "stream",
       "stream": "stdout",
       "text": [
        "0151 "
       ]
      },
      {
       "output_type": "stream",
       "stream": "stdout",
       "text": [
        "0152 "
       ]
      },
      {
       "output_type": "stream",
       "stream": "stdout",
       "text": [
        "0153 "
       ]
      },
      {
       "output_type": "stream",
       "stream": "stdout",
       "text": [
        "0154 "
       ]
      },
      {
       "output_type": "stream",
       "stream": "stdout",
       "text": [
        "0155 "
       ]
      },
      {
       "output_type": "stream",
       "stream": "stdout",
       "text": [
        "0156 "
       ]
      },
      {
       "output_type": "stream",
       "stream": "stdout",
       "text": [
        "0157 "
       ]
      },
      {
       "output_type": "stream",
       "stream": "stdout",
       "text": [
        "0158 "
       ]
      },
      {
       "output_type": "stream",
       "stream": "stdout",
       "text": [
        "0159 "
       ]
      },
      {
       "output_type": "stream",
       "stream": "stdout",
       "text": [
        "0160 "
       ]
      },
      {
       "output_type": "stream",
       "stream": "stdout",
       "text": [
        "0161 "
       ]
      },
      {
       "output_type": "stream",
       "stream": "stdout",
       "text": [
        "0162 "
       ]
      },
      {
       "output_type": "stream",
       "stream": "stdout",
       "text": [
        "0163 "
       ]
      },
      {
       "output_type": "stream",
       "stream": "stdout",
       "text": [
        "0164 "
       ]
      },
      {
       "output_type": "stream",
       "stream": "stdout",
       "text": [
        "0165 "
       ]
      },
      {
       "output_type": "stream",
       "stream": "stdout",
       "text": [
        "0166 "
       ]
      },
      {
       "output_type": "stream",
       "stream": "stdout",
       "text": [
        "0167 "
       ]
      },
      {
       "output_type": "stream",
       "stream": "stdout",
       "text": [
        "0168 "
       ]
      },
      {
       "output_type": "stream",
       "stream": "stdout",
       "text": [
        "0169 "
       ]
      },
      {
       "output_type": "stream",
       "stream": "stdout",
       "text": [
        "0170 "
       ]
      },
      {
       "output_type": "stream",
       "stream": "stdout",
       "text": [
        "0171 "
       ]
      },
      {
       "output_type": "stream",
       "stream": "stdout",
       "text": [
        "0172 "
       ]
      },
      {
       "output_type": "stream",
       "stream": "stdout",
       "text": [
        "0173 "
       ]
      },
      {
       "output_type": "stream",
       "stream": "stdout",
       "text": [
        "0174 "
       ]
      },
      {
       "output_type": "stream",
       "stream": "stdout",
       "text": [
        "0175 "
       ]
      },
      {
       "output_type": "stream",
       "stream": "stdout",
       "text": [
        "0176 "
       ]
      },
      {
       "output_type": "stream",
       "stream": "stdout",
       "text": [
        "0177 "
       ]
      },
      {
       "output_type": "stream",
       "stream": "stdout",
       "text": [
        "0178 "
       ]
      },
      {
       "output_type": "stream",
       "stream": "stdout",
       "text": [
        "0179 "
       ]
      },
      {
       "output_type": "stream",
       "stream": "stdout",
       "text": [
        "0180 "
       ]
      },
      {
       "output_type": "stream",
       "stream": "stdout",
       "text": [
        "0181 "
       ]
      },
      {
       "output_type": "stream",
       "stream": "stdout",
       "text": [
        "0182 "
       ]
      },
      {
       "output_type": "stream",
       "stream": "stdout",
       "text": [
        "0183 "
       ]
      },
      {
       "output_type": "stream",
       "stream": "stdout",
       "text": [
        "0184 "
       ]
      },
      {
       "output_type": "stream",
       "stream": "stdout",
       "text": [
        "0185 "
       ]
      },
      {
       "output_type": "stream",
       "stream": "stdout",
       "text": [
        "0186 "
       ]
      },
      {
       "output_type": "stream",
       "stream": "stdout",
       "text": [
        "0187 "
       ]
      },
      {
       "output_type": "stream",
       "stream": "stdout",
       "text": [
        "0188 "
       ]
      },
      {
       "output_type": "stream",
       "stream": "stdout",
       "text": [
        "0189 "
       ]
      },
      {
       "output_type": "stream",
       "stream": "stdout",
       "text": [
        "0190 "
       ]
      },
      {
       "output_type": "stream",
       "stream": "stdout",
       "text": [
        "0191 "
       ]
      },
      {
       "output_type": "stream",
       "stream": "stdout",
       "text": [
        "0192 "
       ]
      },
      {
       "output_type": "stream",
       "stream": "stdout",
       "text": [
        "0193 "
       ]
      },
      {
       "output_type": "stream",
       "stream": "stdout",
       "text": [
        "0194 "
       ]
      },
      {
       "output_type": "stream",
       "stream": "stdout",
       "text": [
        "0195 "
       ]
      },
      {
       "output_type": "stream",
       "stream": "stdout",
       "text": [
        "0196 "
       ]
      },
      {
       "output_type": "stream",
       "stream": "stdout",
       "text": [
        "0197 "
       ]
      },
      {
       "output_type": "stream",
       "stream": "stdout",
       "text": [
        "0198 "
       ]
      },
      {
       "output_type": "stream",
       "stream": "stdout",
       "text": [
        "0199 "
       ]
      },
      {
       "output_type": "stream",
       "stream": "stdout",
       "text": [
        "0200 "
       ]
      },
      {
       "output_type": "stream",
       "stream": "stdout",
       "text": [
        "0201 "
       ]
      },
      {
       "output_type": "stream",
       "stream": "stdout",
       "text": [
        "0202 "
       ]
      },
      {
       "output_type": "stream",
       "stream": "stdout",
       "text": [
        "0203 "
       ]
      },
      {
       "output_type": "stream",
       "stream": "stdout",
       "text": [
        "0204 "
       ]
      },
      {
       "output_type": "stream",
       "stream": "stdout",
       "text": [
        "0205 "
       ]
      },
      {
       "output_type": "stream",
       "stream": "stdout",
       "text": [
        "0206 "
       ]
      },
      {
       "output_type": "stream",
       "stream": "stdout",
       "text": [
        "0207 "
       ]
      },
      {
       "output_type": "stream",
       "stream": "stdout",
       "text": [
        "0208 "
       ]
      },
      {
       "output_type": "stream",
       "stream": "stdout",
       "text": [
        "0209 "
       ]
      },
      {
       "output_type": "stream",
       "stream": "stdout",
       "text": [
        "0210 "
       ]
      },
      {
       "output_type": "stream",
       "stream": "stdout",
       "text": [
        "0211 "
       ]
      },
      {
       "output_type": "stream",
       "stream": "stdout",
       "text": [
        "0212 "
       ]
      },
      {
       "output_type": "stream",
       "stream": "stdout",
       "text": [
        "0213 "
       ]
      },
      {
       "output_type": "stream",
       "stream": "stdout",
       "text": [
        "0214 "
       ]
      },
      {
       "output_type": "stream",
       "stream": "stdout",
       "text": [
        "0215 "
       ]
      },
      {
       "output_type": "stream",
       "stream": "stdout",
       "text": [
        "0216 "
       ]
      },
      {
       "output_type": "stream",
       "stream": "stdout",
       "text": [
        "0217 "
       ]
      },
      {
       "output_type": "stream",
       "stream": "stdout",
       "text": [
        "0218 "
       ]
      },
      {
       "output_type": "stream",
       "stream": "stdout",
       "text": [
        "0219 "
       ]
      },
      {
       "output_type": "stream",
       "stream": "stdout",
       "text": [
        "0220 "
       ]
      },
      {
       "output_type": "stream",
       "stream": "stdout",
       "text": [
        "0221 "
       ]
      },
      {
       "output_type": "stream",
       "stream": "stdout",
       "text": [
        "0222 "
       ]
      },
      {
       "output_type": "stream",
       "stream": "stdout",
       "text": [
        "0223 "
       ]
      },
      {
       "output_type": "stream",
       "stream": "stdout",
       "text": [
        "0224 "
       ]
      },
      {
       "output_type": "stream",
       "stream": "stdout",
       "text": [
        "0225 "
       ]
      },
      {
       "output_type": "stream",
       "stream": "stdout",
       "text": [
        "0226 "
       ]
      },
      {
       "output_type": "stream",
       "stream": "stdout",
       "text": [
        "0227 "
       ]
      },
      {
       "output_type": "stream",
       "stream": "stdout",
       "text": [
        "0228 "
       ]
      },
      {
       "output_type": "stream",
       "stream": "stdout",
       "text": [
        "0229 "
       ]
      },
      {
       "output_type": "stream",
       "stream": "stdout",
       "text": [
        "0230 "
       ]
      },
      {
       "output_type": "stream",
       "stream": "stdout",
       "text": [
        "0231 "
       ]
      },
      {
       "output_type": "stream",
       "stream": "stdout",
       "text": [
        "0232 "
       ]
      },
      {
       "output_type": "stream",
       "stream": "stdout",
       "text": [
        "0233 "
       ]
      },
      {
       "output_type": "stream",
       "stream": "stdout",
       "text": [
        "0234 "
       ]
      },
      {
       "output_type": "stream",
       "stream": "stdout",
       "text": [
        "0235 "
       ]
      },
      {
       "output_type": "stream",
       "stream": "stdout",
       "text": [
        "0236 "
       ]
      },
      {
       "output_type": "stream",
       "stream": "stdout",
       "text": [
        "0237 "
       ]
      },
      {
       "output_type": "stream",
       "stream": "stdout",
       "text": [
        "0238 "
       ]
      },
      {
       "output_type": "stream",
       "stream": "stdout",
       "text": [
        "0239 "
       ]
      },
      {
       "output_type": "stream",
       "stream": "stdout",
       "text": [
        "0240 "
       ]
      },
      {
       "output_type": "stream",
       "stream": "stdout",
       "text": [
        "0241 "
       ]
      },
      {
       "output_type": "stream",
       "stream": "stdout",
       "text": [
        "0242 "
       ]
      },
      {
       "output_type": "stream",
       "stream": "stdout",
       "text": [
        "0243 "
       ]
      },
      {
       "output_type": "stream",
       "stream": "stdout",
       "text": [
        "0244 "
       ]
      },
      {
       "output_type": "stream",
       "stream": "stdout",
       "text": [
        "0245 "
       ]
      },
      {
       "output_type": "stream",
       "stream": "stdout",
       "text": [
        "0246 "
       ]
      },
      {
       "output_type": "stream",
       "stream": "stdout",
       "text": [
        "0247 "
       ]
      },
      {
       "output_type": "stream",
       "stream": "stdout",
       "text": [
        "0248 "
       ]
      },
      {
       "output_type": "stream",
       "stream": "stdout",
       "text": [
        "0249 "
       ]
      },
      {
       "output_type": "stream",
       "stream": "stdout",
       "text": [
        "0250 "
       ]
      },
      {
       "output_type": "stream",
       "stream": "stdout",
       "text": [
        "0251 "
       ]
      },
      {
       "output_type": "stream",
       "stream": "stdout",
       "text": [
        "0252 "
       ]
      },
      {
       "output_type": "stream",
       "stream": "stdout",
       "text": [
        "0253 "
       ]
      },
      {
       "output_type": "stream",
       "stream": "stdout",
       "text": [
        "0254 "
       ]
      },
      {
       "output_type": "stream",
       "stream": "stdout",
       "text": [
        "0255 "
       ]
      },
      {
       "output_type": "stream",
       "stream": "stdout",
       "text": [
        "0256 "
       ]
      },
      {
       "output_type": "stream",
       "stream": "stdout",
       "text": [
        "0257 "
       ]
      },
      {
       "output_type": "stream",
       "stream": "stdout",
       "text": [
        "0258 "
       ]
      },
      {
       "output_type": "stream",
       "stream": "stdout",
       "text": [
        "0259 "
       ]
      },
      {
       "output_type": "stream",
       "stream": "stdout",
       "text": [
        "0260 "
       ]
      },
      {
       "output_type": "stream",
       "stream": "stdout",
       "text": [
        "0261 "
       ]
      },
      {
       "output_type": "stream",
       "stream": "stdout",
       "text": [
        "0262 "
       ]
      },
      {
       "output_type": "stream",
       "stream": "stdout",
       "text": [
        "0263 "
       ]
      },
      {
       "output_type": "stream",
       "stream": "stdout",
       "text": [
        "0264 "
       ]
      },
      {
       "output_type": "stream",
       "stream": "stdout",
       "text": [
        "0265 "
       ]
      },
      {
       "output_type": "stream",
       "stream": "stdout",
       "text": [
        "0266 "
       ]
      },
      {
       "output_type": "stream",
       "stream": "stdout",
       "text": [
        "0267 "
       ]
      },
      {
       "output_type": "stream",
       "stream": "stdout",
       "text": [
        "0268 "
       ]
      },
      {
       "output_type": "stream",
       "stream": "stdout",
       "text": [
        "0269 "
       ]
      },
      {
       "output_type": "stream",
       "stream": "stdout",
       "text": [
        "0270 "
       ]
      },
      {
       "output_type": "stream",
       "stream": "stdout",
       "text": [
        "0271 "
       ]
      },
      {
       "output_type": "stream",
       "stream": "stdout",
       "text": [
        "0272 "
       ]
      },
      {
       "output_type": "stream",
       "stream": "stdout",
       "text": [
        "0273 "
       ]
      },
      {
       "output_type": "stream",
       "stream": "stdout",
       "text": [
        "0274 "
       ]
      },
      {
       "output_type": "stream",
       "stream": "stdout",
       "text": [
        "0275 "
       ]
      },
      {
       "output_type": "stream",
       "stream": "stdout",
       "text": [
        "0276 "
       ]
      },
      {
       "output_type": "stream",
       "stream": "stdout",
       "text": [
        "0277 "
       ]
      },
      {
       "output_type": "stream",
       "stream": "stdout",
       "text": [
        "0278 "
       ]
      },
      {
       "output_type": "stream",
       "stream": "stdout",
       "text": [
        "0279 "
       ]
      },
      {
       "output_type": "stream",
       "stream": "stdout",
       "text": [
        "0280 "
       ]
      },
      {
       "output_type": "stream",
       "stream": "stdout",
       "text": [
        "0281 "
       ]
      },
      {
       "output_type": "stream",
       "stream": "stdout",
       "text": [
        "0282 "
       ]
      },
      {
       "output_type": "stream",
       "stream": "stdout",
       "text": [
        "0283 "
       ]
      },
      {
       "output_type": "stream",
       "stream": "stdout",
       "text": [
        "0284 "
       ]
      },
      {
       "output_type": "stream",
       "stream": "stdout",
       "text": [
        "0285 "
       ]
      },
      {
       "output_type": "stream",
       "stream": "stdout",
       "text": [
        "0286 "
       ]
      },
      {
       "output_type": "stream",
       "stream": "stdout",
       "text": [
        "0287 "
       ]
      },
      {
       "output_type": "stream",
       "stream": "stdout",
       "text": [
        "0288 "
       ]
      },
      {
       "output_type": "stream",
       "stream": "stdout",
       "text": [
        "0289 "
       ]
      },
      {
       "output_type": "stream",
       "stream": "stdout",
       "text": [
        "0290 "
       ]
      },
      {
       "output_type": "stream",
       "stream": "stdout",
       "text": [
        "0291 "
       ]
      },
      {
       "output_type": "stream",
       "stream": "stdout",
       "text": [
        "0292 "
       ]
      },
      {
       "output_type": "stream",
       "stream": "stdout",
       "text": [
        "0293 "
       ]
      },
      {
       "output_type": "stream",
       "stream": "stdout",
       "text": [
        "0294 "
       ]
      },
      {
       "output_type": "stream",
       "stream": "stdout",
       "text": [
        "0295 "
       ]
      },
      {
       "output_type": "stream",
       "stream": "stdout",
       "text": [
        "0296 "
       ]
      },
      {
       "output_type": "stream",
       "stream": "stdout",
       "text": [
        "0297 "
       ]
      },
      {
       "output_type": "stream",
       "stream": "stdout",
       "text": [
        "0298 "
       ]
      },
      {
       "output_type": "stream",
       "stream": "stdout",
       "text": [
        "0299 "
       ]
      },
      {
       "output_type": "stream",
       "stream": "stdout",
       "text": [
        "0300 "
       ]
      },
      {
       "output_type": "stream",
       "stream": "stdout",
       "text": [
        "0301 "
       ]
      },
      {
       "output_type": "stream",
       "stream": "stdout",
       "text": [
        "0302 "
       ]
      },
      {
       "output_type": "stream",
       "stream": "stdout",
       "text": [
        "0303 "
       ]
      },
      {
       "output_type": "stream",
       "stream": "stdout",
       "text": [
        "0304 "
       ]
      },
      {
       "output_type": "stream",
       "stream": "stdout",
       "text": [
        "0305 "
       ]
      },
      {
       "output_type": "stream",
       "stream": "stdout",
       "text": [
        "0306 "
       ]
      },
      {
       "output_type": "stream",
       "stream": "stdout",
       "text": [
        "0307 "
       ]
      },
      {
       "output_type": "stream",
       "stream": "stdout",
       "text": [
        "0308 "
       ]
      },
      {
       "output_type": "stream",
       "stream": "stdout",
       "text": [
        "0309 "
       ]
      },
      {
       "output_type": "stream",
       "stream": "stdout",
       "text": [
        "0310 "
       ]
      },
      {
       "output_type": "stream",
       "stream": "stdout",
       "text": [
        "0311 "
       ]
      },
      {
       "output_type": "stream",
       "stream": "stdout",
       "text": [
        "0312 "
       ]
      },
      {
       "output_type": "stream",
       "stream": "stdout",
       "text": [
        "0313 "
       ]
      },
      {
       "output_type": "stream",
       "stream": "stdout",
       "text": [
        "0314 "
       ]
      },
      {
       "output_type": "stream",
       "stream": "stdout",
       "text": [
        "0315 "
       ]
      },
      {
       "output_type": "stream",
       "stream": "stdout",
       "text": [
        "0316 "
       ]
      },
      {
       "output_type": "stream",
       "stream": "stdout",
       "text": [
        "0317 "
       ]
      },
      {
       "output_type": "stream",
       "stream": "stdout",
       "text": [
        "0318 "
       ]
      },
      {
       "output_type": "stream",
       "stream": "stdout",
       "text": [
        "0319 "
       ]
      },
      {
       "output_type": "stream",
       "stream": "stdout",
       "text": [
        "0320 "
       ]
      },
      {
       "output_type": "stream",
       "stream": "stdout",
       "text": [
        "0321 "
       ]
      },
      {
       "output_type": "stream",
       "stream": "stdout",
       "text": [
        "0322 "
       ]
      },
      {
       "output_type": "stream",
       "stream": "stdout",
       "text": [
        "0323 "
       ]
      },
      {
       "output_type": "stream",
       "stream": "stdout",
       "text": [
        "0324 "
       ]
      },
      {
       "output_type": "stream",
       "stream": "stdout",
       "text": [
        "0325 "
       ]
      },
      {
       "output_type": "stream",
       "stream": "stdout",
       "text": [
        "0326 "
       ]
      },
      {
       "output_type": "stream",
       "stream": "stdout",
       "text": [
        "0327 "
       ]
      },
      {
       "output_type": "stream",
       "stream": "stdout",
       "text": [
        "0328 "
       ]
      },
      {
       "output_type": "stream",
       "stream": "stdout",
       "text": [
        "0329 "
       ]
      },
      {
       "output_type": "stream",
       "stream": "stdout",
       "text": [
        "0330 "
       ]
      },
      {
       "output_type": "stream",
       "stream": "stdout",
       "text": [
        "0331 "
       ]
      },
      {
       "output_type": "stream",
       "stream": "stdout",
       "text": [
        "0332 "
       ]
      },
      {
       "output_type": "stream",
       "stream": "stdout",
       "text": [
        "0333 "
       ]
      },
      {
       "output_type": "stream",
       "stream": "stdout",
       "text": [
        "0334 "
       ]
      },
      {
       "output_type": "stream",
       "stream": "stdout",
       "text": [
        "0335 "
       ]
      },
      {
       "output_type": "stream",
       "stream": "stdout",
       "text": [
        "0336 "
       ]
      },
      {
       "output_type": "stream",
       "stream": "stdout",
       "text": [
        "0337 "
       ]
      },
      {
       "output_type": "stream",
       "stream": "stdout",
       "text": [
        "0338 "
       ]
      },
      {
       "output_type": "stream",
       "stream": "stdout",
       "text": [
        "0339 "
       ]
      },
      {
       "output_type": "stream",
       "stream": "stdout",
       "text": [
        "0340 "
       ]
      },
      {
       "output_type": "stream",
       "stream": "stdout",
       "text": [
        "0341 "
       ]
      },
      {
       "output_type": "stream",
       "stream": "stdout",
       "text": [
        "0342 "
       ]
      },
      {
       "output_type": "stream",
       "stream": "stdout",
       "text": [
        "0343 "
       ]
      },
      {
       "output_type": "stream",
       "stream": "stdout",
       "text": [
        "0344 "
       ]
      },
      {
       "output_type": "stream",
       "stream": "stdout",
       "text": [
        "0345 "
       ]
      },
      {
       "output_type": "stream",
       "stream": "stdout",
       "text": [
        "0346 "
       ]
      },
      {
       "output_type": "stream",
       "stream": "stdout",
       "text": [
        "0347 "
       ]
      },
      {
       "output_type": "stream",
       "stream": "stdout",
       "text": [
        "0348 "
       ]
      },
      {
       "output_type": "stream",
       "stream": "stdout",
       "text": [
        "0349 "
       ]
      },
      {
       "output_type": "stream",
       "stream": "stdout",
       "text": [
        "0350 "
       ]
      },
      {
       "output_type": "stream",
       "stream": "stdout",
       "text": [
        "0351 "
       ]
      },
      {
       "output_type": "stream",
       "stream": "stdout",
       "text": [
        "0352 "
       ]
      },
      {
       "output_type": "stream",
       "stream": "stdout",
       "text": [
        "0353 "
       ]
      },
      {
       "output_type": "stream",
       "stream": "stdout",
       "text": [
        "0354 "
       ]
      },
      {
       "output_type": "stream",
       "stream": "stdout",
       "text": [
        "0355 "
       ]
      },
      {
       "output_type": "stream",
       "stream": "stdout",
       "text": [
        "0356 "
       ]
      },
      {
       "output_type": "stream",
       "stream": "stdout",
       "text": [
        "0357 "
       ]
      },
      {
       "output_type": "stream",
       "stream": "stdout",
       "text": [
        "0358 "
       ]
      },
      {
       "output_type": "stream",
       "stream": "stdout",
       "text": [
        "0359 "
       ]
      },
      {
       "output_type": "stream",
       "stream": "stdout",
       "text": [
        "0360 "
       ]
      },
      {
       "output_type": "stream",
       "stream": "stdout",
       "text": [
        "0361 "
       ]
      },
      {
       "output_type": "stream",
       "stream": "stdout",
       "text": [
        "0362 "
       ]
      },
      {
       "output_type": "stream",
       "stream": "stdout",
       "text": [
        "0363 "
       ]
      },
      {
       "output_type": "stream",
       "stream": "stdout",
       "text": [
        "0364 "
       ]
      },
      {
       "output_type": "stream",
       "stream": "stdout",
       "text": [
        "0365 "
       ]
      },
      {
       "output_type": "stream",
       "stream": "stdout",
       "text": [
        "0366 "
       ]
      },
      {
       "output_type": "stream",
       "stream": "stdout",
       "text": [
        "0367 "
       ]
      },
      {
       "output_type": "stream",
       "stream": "stdout",
       "text": [
        "0368 "
       ]
      },
      {
       "output_type": "stream",
       "stream": "stdout",
       "text": [
        "0369 "
       ]
      },
      {
       "output_type": "stream",
       "stream": "stdout",
       "text": [
        "0370 "
       ]
      },
      {
       "output_type": "stream",
       "stream": "stdout",
       "text": [
        "0371 "
       ]
      },
      {
       "output_type": "stream",
       "stream": "stdout",
       "text": [
        "0372 "
       ]
      },
      {
       "output_type": "stream",
       "stream": "stdout",
       "text": [
        "0373 "
       ]
      },
      {
       "output_type": "stream",
       "stream": "stdout",
       "text": [
        "0374 "
       ]
      },
      {
       "output_type": "stream",
       "stream": "stdout",
       "text": [
        "0375 "
       ]
      },
      {
       "output_type": "stream",
       "stream": "stdout",
       "text": [
        "0376 "
       ]
      },
      {
       "output_type": "stream",
       "stream": "stdout",
       "text": [
        "0377 "
       ]
      },
      {
       "output_type": "stream",
       "stream": "stdout",
       "text": [
        "0378 "
       ]
      },
      {
       "output_type": "stream",
       "stream": "stdout",
       "text": [
        "0379 "
       ]
      },
      {
       "output_type": "stream",
       "stream": "stdout",
       "text": [
        "0380 "
       ]
      },
      {
       "output_type": "stream",
       "stream": "stdout",
       "text": [
        "0381 "
       ]
      },
      {
       "output_type": "stream",
       "stream": "stdout",
       "text": [
        "0382 "
       ]
      },
      {
       "output_type": "stream",
       "stream": "stdout",
       "text": [
        "0383 "
       ]
      },
      {
       "output_type": "stream",
       "stream": "stdout",
       "text": [
        "0384 "
       ]
      },
      {
       "output_type": "stream",
       "stream": "stdout",
       "text": [
        "0385 "
       ]
      },
      {
       "output_type": "stream",
       "stream": "stdout",
       "text": [
        "0386 "
       ]
      },
      {
       "output_type": "stream",
       "stream": "stdout",
       "text": [
        "0387 "
       ]
      },
      {
       "output_type": "stream",
       "stream": "stdout",
       "text": [
        "0388 "
       ]
      },
      {
       "output_type": "stream",
       "stream": "stdout",
       "text": [
        "0389 "
       ]
      },
      {
       "output_type": "stream",
       "stream": "stdout",
       "text": [
        "0390 "
       ]
      },
      {
       "output_type": "stream",
       "stream": "stdout",
       "text": [
        "0391 "
       ]
      },
      {
       "output_type": "stream",
       "stream": "stdout",
       "text": [
        "0392 "
       ]
      },
      {
       "output_type": "stream",
       "stream": "stdout",
       "text": [
        "0393 "
       ]
      },
      {
       "output_type": "stream",
       "stream": "stdout",
       "text": [
        "0394 "
       ]
      },
      {
       "output_type": "stream",
       "stream": "stdout",
       "text": [
        "0395 "
       ]
      },
      {
       "output_type": "stream",
       "stream": "stdout",
       "text": [
        "0396 "
       ]
      },
      {
       "output_type": "stream",
       "stream": "stdout",
       "text": [
        "0397 "
       ]
      },
      {
       "output_type": "stream",
       "stream": "stdout",
       "text": [
        "0398 "
       ]
      },
      {
       "output_type": "stream",
       "stream": "stdout",
       "text": [
        "0399 "
       ]
      },
      {
       "output_type": "stream",
       "stream": "stdout",
       "text": [
        "0400 "
       ]
      },
      {
       "output_type": "stream",
       "stream": "stdout",
       "text": [
        "0401 "
       ]
      },
      {
       "output_type": "stream",
       "stream": "stdout",
       "text": [
        "0402 "
       ]
      },
      {
       "output_type": "stream",
       "stream": "stdout",
       "text": [
        "0403 "
       ]
      },
      {
       "output_type": "stream",
       "stream": "stdout",
       "text": [
        "0404 "
       ]
      },
      {
       "output_type": "stream",
       "stream": "stdout",
       "text": [
        "0405 "
       ]
      },
      {
       "output_type": "stream",
       "stream": "stdout",
       "text": [
        "0406 "
       ]
      },
      {
       "output_type": "stream",
       "stream": "stdout",
       "text": [
        "0407 "
       ]
      },
      {
       "output_type": "stream",
       "stream": "stdout",
       "text": [
        "0408 "
       ]
      },
      {
       "output_type": "stream",
       "stream": "stdout",
       "text": [
        "0409 "
       ]
      },
      {
       "output_type": "stream",
       "stream": "stdout",
       "text": [
        "0410 "
       ]
      },
      {
       "output_type": "stream",
       "stream": "stdout",
       "text": [
        "0411 "
       ]
      },
      {
       "output_type": "stream",
       "stream": "stdout",
       "text": [
        "0412 "
       ]
      },
      {
       "output_type": "stream",
       "stream": "stdout",
       "text": [
        "0413 "
       ]
      },
      {
       "output_type": "stream",
       "stream": "stdout",
       "text": [
        "0414 "
       ]
      },
      {
       "output_type": "stream",
       "stream": "stdout",
       "text": [
        "0415 "
       ]
      },
      {
       "output_type": "stream",
       "stream": "stdout",
       "text": [
        "0416 "
       ]
      },
      {
       "output_type": "stream",
       "stream": "stdout",
       "text": [
        "0417 "
       ]
      },
      {
       "output_type": "stream",
       "stream": "stdout",
       "text": [
        "0418 "
       ]
      },
      {
       "output_type": "stream",
       "stream": "stdout",
       "text": [
        "0419 "
       ]
      },
      {
       "output_type": "stream",
       "stream": "stdout",
       "text": [
        "0420 "
       ]
      },
      {
       "output_type": "stream",
       "stream": "stdout",
       "text": [
        "0421 "
       ]
      },
      {
       "output_type": "stream",
       "stream": "stdout",
       "text": [
        "0422 "
       ]
      },
      {
       "output_type": "stream",
       "stream": "stdout",
       "text": [
        "0423 "
       ]
      },
      {
       "output_type": "stream",
       "stream": "stdout",
       "text": [
        "0424 "
       ]
      },
      {
       "output_type": "stream",
       "stream": "stdout",
       "text": [
        "0425 "
       ]
      },
      {
       "output_type": "stream",
       "stream": "stdout",
       "text": [
        "0426 "
       ]
      },
      {
       "output_type": "stream",
       "stream": "stdout",
       "text": [
        "0427 "
       ]
      },
      {
       "output_type": "stream",
       "stream": "stdout",
       "text": [
        "0428 "
       ]
      },
      {
       "output_type": "stream",
       "stream": "stdout",
       "text": [
        "0429 "
       ]
      },
      {
       "output_type": "stream",
       "stream": "stdout",
       "text": [
        "0430 "
       ]
      },
      {
       "output_type": "stream",
       "stream": "stdout",
       "text": [
        "0431 "
       ]
      },
      {
       "output_type": "stream",
       "stream": "stdout",
       "text": [
        "0432 "
       ]
      },
      {
       "output_type": "stream",
       "stream": "stdout",
       "text": [
        "0433 "
       ]
      },
      {
       "output_type": "stream",
       "stream": "stdout",
       "text": [
        "0434 "
       ]
      },
      {
       "output_type": "stream",
       "stream": "stdout",
       "text": [
        "0435 "
       ]
      },
      {
       "output_type": "stream",
       "stream": "stdout",
       "text": [
        "0436 "
       ]
      },
      {
       "output_type": "stream",
       "stream": "stdout",
       "text": [
        "0437 "
       ]
      },
      {
       "output_type": "stream",
       "stream": "stdout",
       "text": [
        "0438 "
       ]
      },
      {
       "output_type": "stream",
       "stream": "stdout",
       "text": [
        "0439 "
       ]
      },
      {
       "output_type": "stream",
       "stream": "stdout",
       "text": [
        "0440 "
       ]
      },
      {
       "output_type": "stream",
       "stream": "stdout",
       "text": [
        "0441 "
       ]
      },
      {
       "output_type": "stream",
       "stream": "stdout",
       "text": [
        "0442 "
       ]
      },
      {
       "output_type": "stream",
       "stream": "stdout",
       "text": [
        "0443 "
       ]
      },
      {
       "output_type": "stream",
       "stream": "stdout",
       "text": [
        "0444 "
       ]
      },
      {
       "output_type": "stream",
       "stream": "stdout",
       "text": [
        "0445 "
       ]
      },
      {
       "output_type": "stream",
       "stream": "stdout",
       "text": [
        "0446 "
       ]
      },
      {
       "output_type": "stream",
       "stream": "stdout",
       "text": [
        "0447 "
       ]
      },
      {
       "output_type": "stream",
       "stream": "stdout",
       "text": [
        "0448 "
       ]
      },
      {
       "output_type": "stream",
       "stream": "stdout",
       "text": [
        "0449 "
       ]
      },
      {
       "output_type": "stream",
       "stream": "stdout",
       "text": [
        "0450 "
       ]
      },
      {
       "output_type": "stream",
       "stream": "stdout",
       "text": [
        "0451 "
       ]
      },
      {
       "output_type": "stream",
       "stream": "stdout",
       "text": [
        "0452 "
       ]
      },
      {
       "output_type": "stream",
       "stream": "stdout",
       "text": [
        "0453 "
       ]
      },
      {
       "output_type": "stream",
       "stream": "stdout",
       "text": [
        "0454 "
       ]
      },
      {
       "output_type": "stream",
       "stream": "stdout",
       "text": [
        "0455 "
       ]
      },
      {
       "output_type": "stream",
       "stream": "stdout",
       "text": [
        "0456 "
       ]
      },
      {
       "output_type": "stream",
       "stream": "stdout",
       "text": [
        "0457 "
       ]
      },
      {
       "output_type": "stream",
       "stream": "stdout",
       "text": [
        "0458 "
       ]
      },
      {
       "output_type": "stream",
       "stream": "stdout",
       "text": [
        "0459 "
       ]
      },
      {
       "output_type": "stream",
       "stream": "stdout",
       "text": [
        "0460 "
       ]
      },
      {
       "output_type": "stream",
       "stream": "stdout",
       "text": [
        "0461 "
       ]
      },
      {
       "output_type": "stream",
       "stream": "stdout",
       "text": [
        "0462 "
       ]
      },
      {
       "output_type": "stream",
       "stream": "stdout",
       "text": [
        "0463 "
       ]
      },
      {
       "output_type": "stream",
       "stream": "stdout",
       "text": [
        "0464 "
       ]
      },
      {
       "output_type": "stream",
       "stream": "stdout",
       "text": [
        "0465 "
       ]
      },
      {
       "output_type": "stream",
       "stream": "stdout",
       "text": [
        "0466 "
       ]
      },
      {
       "output_type": "stream",
       "stream": "stdout",
       "text": [
        "0467 "
       ]
      },
      {
       "output_type": "stream",
       "stream": "stdout",
       "text": [
        "0468 "
       ]
      },
      {
       "output_type": "stream",
       "stream": "stdout",
       "text": [
        "0469 "
       ]
      },
      {
       "output_type": "stream",
       "stream": "stdout",
       "text": [
        "0470 "
       ]
      },
      {
       "output_type": "stream",
       "stream": "stdout",
       "text": [
        "0471 "
       ]
      },
      {
       "output_type": "stream",
       "stream": "stdout",
       "text": [
        "0472 "
       ]
      },
      {
       "output_type": "stream",
       "stream": "stdout",
       "text": [
        "0473 "
       ]
      },
      {
       "output_type": "stream",
       "stream": "stdout",
       "text": [
        "0474 "
       ]
      },
      {
       "output_type": "stream",
       "stream": "stdout",
       "text": [
        "0475 "
       ]
      },
      {
       "output_type": "stream",
       "stream": "stdout",
       "text": [
        "0476 "
       ]
      },
      {
       "output_type": "stream",
       "stream": "stdout",
       "text": [
        "0477 "
       ]
      },
      {
       "output_type": "stream",
       "stream": "stdout",
       "text": [
        "0478 "
       ]
      },
      {
       "output_type": "stream",
       "stream": "stdout",
       "text": [
        "0479 "
       ]
      },
      {
       "output_type": "stream",
       "stream": "stdout",
       "text": [
        "0480 "
       ]
      },
      {
       "output_type": "stream",
       "stream": "stdout",
       "text": [
        "0481 "
       ]
      },
      {
       "output_type": "stream",
       "stream": "stdout",
       "text": [
        "0482 "
       ]
      },
      {
       "output_type": "stream",
       "stream": "stdout",
       "text": [
        "0483 "
       ]
      },
      {
       "output_type": "stream",
       "stream": "stdout",
       "text": [
        "0484 "
       ]
      },
      {
       "output_type": "stream",
       "stream": "stdout",
       "text": [
        "0485 "
       ]
      },
      {
       "output_type": "stream",
       "stream": "stdout",
       "text": [
        "0486 "
       ]
      },
      {
       "output_type": "stream",
       "stream": "stdout",
       "text": [
        "0487 "
       ]
      },
      {
       "output_type": "stream",
       "stream": "stdout",
       "text": [
        "0488 "
       ]
      },
      {
       "output_type": "stream",
       "stream": "stdout",
       "text": [
        "0489 "
       ]
      },
      {
       "output_type": "stream",
       "stream": "stdout",
       "text": [
        "0490 "
       ]
      },
      {
       "output_type": "stream",
       "stream": "stdout",
       "text": [
        "0491 "
       ]
      },
      {
       "output_type": "stream",
       "stream": "stdout",
       "text": [
        "0492 "
       ]
      },
      {
       "output_type": "stream",
       "stream": "stdout",
       "text": [
        "0493 "
       ]
      },
      {
       "output_type": "stream",
       "stream": "stdout",
       "text": [
        "0494 "
       ]
      },
      {
       "output_type": "stream",
       "stream": "stdout",
       "text": [
        "0495 "
       ]
      },
      {
       "output_type": "stream",
       "stream": "stdout",
       "text": [
        "0496 "
       ]
      },
      {
       "output_type": "stream",
       "stream": "stdout",
       "text": [
        "0497 "
       ]
      },
      {
       "output_type": "stream",
       "stream": "stdout",
       "text": [
        "0498 "
       ]
      },
      {
       "output_type": "stream",
       "stream": "stdout",
       "text": [
        "0499 "
       ]
      },
      {
       "output_type": "stream",
       "stream": "stdout",
       "text": [
        "0500 "
       ]
      },
      {
       "output_type": "stream",
       "stream": "stdout",
       "text": [
        "0501 "
       ]
      },
      {
       "output_type": "stream",
       "stream": "stdout",
       "text": [
        "0502 "
       ]
      },
      {
       "output_type": "stream",
       "stream": "stdout",
       "text": [
        "0503 "
       ]
      },
      {
       "output_type": "stream",
       "stream": "stdout",
       "text": [
        "0504 "
       ]
      },
      {
       "output_type": "stream",
       "stream": "stdout",
       "text": [
        "0505 "
       ]
      },
      {
       "output_type": "stream",
       "stream": "stdout",
       "text": [
        "0506 "
       ]
      },
      {
       "output_type": "stream",
       "stream": "stdout",
       "text": [
        "0507 "
       ]
      },
      {
       "output_type": "stream",
       "stream": "stdout",
       "text": [
        "0508 "
       ]
      },
      {
       "output_type": "stream",
       "stream": "stdout",
       "text": [
        "0509 "
       ]
      },
      {
       "output_type": "stream",
       "stream": "stdout",
       "text": [
        "0510 "
       ]
      },
      {
       "output_type": "stream",
       "stream": "stdout",
       "text": [
        "0511 "
       ]
      },
      {
       "output_type": "stream",
       "stream": "stdout",
       "text": [
        "0512 "
       ]
      },
      {
       "output_type": "stream",
       "stream": "stdout",
       "text": [
        "0513 "
       ]
      },
      {
       "output_type": "stream",
       "stream": "stdout",
       "text": [
        "0514 "
       ]
      },
      {
       "output_type": "stream",
       "stream": "stdout",
       "text": [
        "0515 "
       ]
      },
      {
       "output_type": "stream",
       "stream": "stdout",
       "text": [
        "0516 "
       ]
      },
      {
       "output_type": "stream",
       "stream": "stdout",
       "text": [
        "0517 "
       ]
      },
      {
       "output_type": "stream",
       "stream": "stdout",
       "text": [
        "0518 "
       ]
      },
      {
       "output_type": "stream",
       "stream": "stdout",
       "text": [
        "0519 "
       ]
      },
      {
       "output_type": "stream",
       "stream": "stdout",
       "text": [
        "0520 "
       ]
      },
      {
       "output_type": "stream",
       "stream": "stdout",
       "text": [
        "0521 "
       ]
      },
      {
       "output_type": "stream",
       "stream": "stdout",
       "text": [
        "0522 "
       ]
      },
      {
       "output_type": "stream",
       "stream": "stdout",
       "text": [
        "0523 "
       ]
      },
      {
       "output_type": "stream",
       "stream": "stdout",
       "text": [
        "0524 "
       ]
      },
      {
       "output_type": "stream",
       "stream": "stdout",
       "text": [
        "0525 "
       ]
      },
      {
       "output_type": "stream",
       "stream": "stdout",
       "text": [
        "0526 "
       ]
      },
      {
       "output_type": "stream",
       "stream": "stdout",
       "text": [
        "0527 "
       ]
      },
      {
       "output_type": "stream",
       "stream": "stdout",
       "text": [
        "0528 "
       ]
      },
      {
       "output_type": "stream",
       "stream": "stdout",
       "text": [
        "0529 "
       ]
      },
      {
       "output_type": "stream",
       "stream": "stdout",
       "text": [
        "0530 "
       ]
      },
      {
       "output_type": "stream",
       "stream": "stdout",
       "text": [
        "0531 "
       ]
      },
      {
       "output_type": "stream",
       "stream": "stdout",
       "text": [
        "0532 "
       ]
      },
      {
       "output_type": "stream",
       "stream": "stdout",
       "text": [
        "0533 "
       ]
      },
      {
       "output_type": "stream",
       "stream": "stdout",
       "text": [
        "0534 "
       ]
      },
      {
       "output_type": "stream",
       "stream": "stdout",
       "text": [
        "0535 "
       ]
      },
      {
       "output_type": "stream",
       "stream": "stdout",
       "text": [
        "0536 "
       ]
      },
      {
       "output_type": "stream",
       "stream": "stdout",
       "text": [
        "0537 "
       ]
      },
      {
       "output_type": "stream",
       "stream": "stdout",
       "text": [
        "0538 "
       ]
      },
      {
       "output_type": "stream",
       "stream": "stdout",
       "text": [
        "0539 "
       ]
      },
      {
       "output_type": "stream",
       "stream": "stdout",
       "text": [
        "0540 "
       ]
      },
      {
       "output_type": "stream",
       "stream": "stdout",
       "text": [
        "0541 "
       ]
      },
      {
       "output_type": "stream",
       "stream": "stdout",
       "text": [
        "0542 "
       ]
      },
      {
       "output_type": "stream",
       "stream": "stdout",
       "text": [
        "0543 "
       ]
      },
      {
       "output_type": "stream",
       "stream": "stdout",
       "text": [
        "0544 "
       ]
      },
      {
       "output_type": "stream",
       "stream": "stdout",
       "text": [
        "0545 "
       ]
      },
      {
       "output_type": "stream",
       "stream": "stdout",
       "text": [
        "0546 "
       ]
      },
      {
       "output_type": "stream",
       "stream": "stdout",
       "text": [
        "0547 "
       ]
      },
      {
       "output_type": "stream",
       "stream": "stdout",
       "text": [
        "0548 "
       ]
      },
      {
       "output_type": "stream",
       "stream": "stdout",
       "text": [
        "0549 "
       ]
      },
      {
       "output_type": "stream",
       "stream": "stdout",
       "text": [
        "0550 "
       ]
      },
      {
       "output_type": "stream",
       "stream": "stdout",
       "text": [
        "0551 "
       ]
      },
      {
       "output_type": "stream",
       "stream": "stdout",
       "text": [
        "0552 "
       ]
      },
      {
       "output_type": "stream",
       "stream": "stdout",
       "text": [
        "0553 "
       ]
      },
      {
       "output_type": "stream",
       "stream": "stdout",
       "text": [
        "0554 "
       ]
      },
      {
       "output_type": "stream",
       "stream": "stdout",
       "text": [
        "0555 "
       ]
      },
      {
       "output_type": "stream",
       "stream": "stdout",
       "text": [
        "0556 "
       ]
      },
      {
       "output_type": "stream",
       "stream": "stdout",
       "text": [
        "0557 "
       ]
      },
      {
       "output_type": "stream",
       "stream": "stdout",
       "text": [
        "0558 "
       ]
      },
      {
       "output_type": "stream",
       "stream": "stdout",
       "text": [
        "0559 "
       ]
      },
      {
       "output_type": "stream",
       "stream": "stdout",
       "text": [
        "0560 "
       ]
      },
      {
       "output_type": "stream",
       "stream": "stdout",
       "text": [
        "0561 "
       ]
      },
      {
       "output_type": "stream",
       "stream": "stdout",
       "text": [
        "0562 "
       ]
      },
      {
       "output_type": "stream",
       "stream": "stdout",
       "text": [
        "0563 "
       ]
      },
      {
       "output_type": "stream",
       "stream": "stdout",
       "text": [
        "0564 "
       ]
      },
      {
       "output_type": "stream",
       "stream": "stdout",
       "text": [
        "0565 "
       ]
      },
      {
       "output_type": "stream",
       "stream": "stdout",
       "text": [
        "0566 "
       ]
      },
      {
       "output_type": "stream",
       "stream": "stdout",
       "text": [
        "0567 "
       ]
      },
      {
       "output_type": "stream",
       "stream": "stdout",
       "text": [
        "0568 "
       ]
      },
      {
       "output_type": "stream",
       "stream": "stdout",
       "text": [
        "0569 "
       ]
      },
      {
       "output_type": "stream",
       "stream": "stdout",
       "text": [
        "0570 "
       ]
      },
      {
       "output_type": "stream",
       "stream": "stdout",
       "text": [
        "0571 "
       ]
      },
      {
       "output_type": "stream",
       "stream": "stdout",
       "text": [
        "0572 "
       ]
      },
      {
       "output_type": "stream",
       "stream": "stdout",
       "text": [
        "0573 "
       ]
      },
      {
       "output_type": "stream",
       "stream": "stdout",
       "text": [
        "0574 "
       ]
      },
      {
       "output_type": "stream",
       "stream": "stdout",
       "text": [
        "0575 "
       ]
      },
      {
       "output_type": "stream",
       "stream": "stdout",
       "text": [
        "0576 "
       ]
      },
      {
       "output_type": "stream",
       "stream": "stdout",
       "text": [
        "0577 "
       ]
      },
      {
       "output_type": "stream",
       "stream": "stdout",
       "text": [
        "0578 "
       ]
      },
      {
       "output_type": "stream",
       "stream": "stdout",
       "text": [
        "0579 "
       ]
      },
      {
       "output_type": "stream",
       "stream": "stdout",
       "text": [
        "0580 "
       ]
      },
      {
       "output_type": "stream",
       "stream": "stdout",
       "text": [
        "0581 "
       ]
      },
      {
       "output_type": "stream",
       "stream": "stdout",
       "text": [
        "0582 "
       ]
      },
      {
       "output_type": "stream",
       "stream": "stdout",
       "text": [
        "0583 "
       ]
      },
      {
       "output_type": "stream",
       "stream": "stdout",
       "text": [
        "0584 "
       ]
      },
      {
       "output_type": "stream",
       "stream": "stdout",
       "text": [
        "0585 "
       ]
      },
      {
       "output_type": "stream",
       "stream": "stdout",
       "text": [
        "0586 "
       ]
      },
      {
       "output_type": "stream",
       "stream": "stdout",
       "text": [
        "0587 "
       ]
      },
      {
       "output_type": "stream",
       "stream": "stdout",
       "text": [
        "0588 "
       ]
      },
      {
       "output_type": "stream",
       "stream": "stdout",
       "text": [
        "0589 "
       ]
      },
      {
       "output_type": "stream",
       "stream": "stdout",
       "text": [
        "0590 "
       ]
      },
      {
       "output_type": "stream",
       "stream": "stdout",
       "text": [
        "0591 "
       ]
      },
      {
       "output_type": "stream",
       "stream": "stdout",
       "text": [
        "0592 "
       ]
      },
      {
       "output_type": "stream",
       "stream": "stdout",
       "text": [
        "0593 "
       ]
      },
      {
       "output_type": "stream",
       "stream": "stdout",
       "text": [
        "0594 "
       ]
      },
      {
       "output_type": "stream",
       "stream": "stdout",
       "text": [
        "0595 "
       ]
      },
      {
       "output_type": "stream",
       "stream": "stdout",
       "text": [
        "0596 "
       ]
      },
      {
       "output_type": "stream",
       "stream": "stdout",
       "text": [
        "0597 "
       ]
      },
      {
       "output_type": "stream",
       "stream": "stdout",
       "text": [
        "0598 "
       ]
      },
      {
       "output_type": "stream",
       "stream": "stdout",
       "text": [
        "0599 "
       ]
      },
      {
       "output_type": "stream",
       "stream": "stdout",
       "text": [
        "0600 "
       ]
      },
      {
       "output_type": "stream",
       "stream": "stdout",
       "text": [
        "0601 "
       ]
      },
      {
       "output_type": "stream",
       "stream": "stdout",
       "text": [
        "0602 "
       ]
      },
      {
       "output_type": "stream",
       "stream": "stdout",
       "text": [
        "0603 "
       ]
      },
      {
       "output_type": "stream",
       "stream": "stdout",
       "text": [
        "0604 "
       ]
      },
      {
       "output_type": "stream",
       "stream": "stdout",
       "text": [
        "0605 "
       ]
      },
      {
       "output_type": "stream",
       "stream": "stdout",
       "text": [
        "0606 "
       ]
      },
      {
       "output_type": "stream",
       "stream": "stdout",
       "text": [
        "0607 "
       ]
      },
      {
       "output_type": "stream",
       "stream": "stdout",
       "text": [
        "0608 "
       ]
      },
      {
       "output_type": "stream",
       "stream": "stdout",
       "text": [
        "0609 "
       ]
      },
      {
       "output_type": "stream",
       "stream": "stdout",
       "text": [
        "0610 "
       ]
      },
      {
       "output_type": "stream",
       "stream": "stdout",
       "text": [
        "0611 "
       ]
      },
      {
       "output_type": "stream",
       "stream": "stdout",
       "text": [
        "0612 "
       ]
      },
      {
       "output_type": "stream",
       "stream": "stdout",
       "text": [
        "0613 "
       ]
      },
      {
       "output_type": "stream",
       "stream": "stdout",
       "text": [
        "0614 "
       ]
      },
      {
       "output_type": "stream",
       "stream": "stdout",
       "text": [
        "0615 "
       ]
      },
      {
       "output_type": "stream",
       "stream": "stdout",
       "text": [
        "0616 "
       ]
      },
      {
       "output_type": "stream",
       "stream": "stdout",
       "text": [
        "0617 "
       ]
      },
      {
       "output_type": "stream",
       "stream": "stdout",
       "text": [
        "0618 "
       ]
      },
      {
       "output_type": "stream",
       "stream": "stdout",
       "text": [
        "0619 "
       ]
      },
      {
       "output_type": "stream",
       "stream": "stdout",
       "text": [
        "0620 "
       ]
      },
      {
       "output_type": "stream",
       "stream": "stdout",
       "text": [
        "0621 "
       ]
      },
      {
       "output_type": "stream",
       "stream": "stdout",
       "text": [
        "0622 "
       ]
      },
      {
       "output_type": "stream",
       "stream": "stdout",
       "text": [
        "0623 "
       ]
      },
      {
       "output_type": "stream",
       "stream": "stdout",
       "text": [
        "0624 "
       ]
      },
      {
       "output_type": "stream",
       "stream": "stdout",
       "text": [
        "0625 "
       ]
      },
      {
       "output_type": "stream",
       "stream": "stdout",
       "text": [
        "0626 "
       ]
      },
      {
       "output_type": "stream",
       "stream": "stdout",
       "text": [
        "0627 "
       ]
      },
      {
       "output_type": "stream",
       "stream": "stdout",
       "text": [
        "0628 "
       ]
      },
      {
       "output_type": "stream",
       "stream": "stdout",
       "text": [
        "0629 "
       ]
      },
      {
       "output_type": "stream",
       "stream": "stdout",
       "text": [
        "0630 "
       ]
      },
      {
       "output_type": "stream",
       "stream": "stdout",
       "text": [
        "0631 "
       ]
      },
      {
       "output_type": "stream",
       "stream": "stdout",
       "text": [
        "0632 "
       ]
      },
      {
       "output_type": "stream",
       "stream": "stdout",
       "text": [
        "0633 "
       ]
      },
      {
       "output_type": "stream",
       "stream": "stdout",
       "text": [
        "0634 "
       ]
      },
      {
       "output_type": "stream",
       "stream": "stdout",
       "text": [
        "0635 "
       ]
      },
      {
       "output_type": "stream",
       "stream": "stdout",
       "text": [
        "0636 "
       ]
      },
      {
       "output_type": "stream",
       "stream": "stdout",
       "text": [
        "0637 "
       ]
      },
      {
       "output_type": "stream",
       "stream": "stdout",
       "text": [
        "0638 "
       ]
      },
      {
       "output_type": "stream",
       "stream": "stdout",
       "text": [
        "0639 "
       ]
      },
      {
       "output_type": "stream",
       "stream": "stdout",
       "text": [
        "0640 "
       ]
      },
      {
       "output_type": "stream",
       "stream": "stdout",
       "text": [
        "0641 "
       ]
      },
      {
       "output_type": "stream",
       "stream": "stdout",
       "text": [
        "0642 "
       ]
      },
      {
       "output_type": "stream",
       "stream": "stdout",
       "text": [
        "0643 "
       ]
      },
      {
       "output_type": "stream",
       "stream": "stdout",
       "text": [
        "0644 "
       ]
      },
      {
       "output_type": "stream",
       "stream": "stdout",
       "text": [
        "0645 "
       ]
      },
      {
       "output_type": "stream",
       "stream": "stdout",
       "text": [
        "0646 "
       ]
      },
      {
       "output_type": "stream",
       "stream": "stdout",
       "text": [
        "0647 "
       ]
      },
      {
       "output_type": "stream",
       "stream": "stdout",
       "text": [
        "0648 "
       ]
      },
      {
       "output_type": "stream",
       "stream": "stdout",
       "text": [
        "0649 "
       ]
      },
      {
       "output_type": "stream",
       "stream": "stdout",
       "text": [
        "0650 "
       ]
      },
      {
       "output_type": "stream",
       "stream": "stdout",
       "text": [
        "0651 "
       ]
      },
      {
       "output_type": "stream",
       "stream": "stdout",
       "text": [
        "0652 "
       ]
      },
      {
       "output_type": "stream",
       "stream": "stdout",
       "text": [
        "0653 "
       ]
      },
      {
       "output_type": "stream",
       "stream": "stdout",
       "text": [
        "0654 "
       ]
      },
      {
       "output_type": "stream",
       "stream": "stdout",
       "text": [
        "0655 "
       ]
      },
      {
       "output_type": "stream",
       "stream": "stdout",
       "text": [
        "0656 "
       ]
      },
      {
       "output_type": "stream",
       "stream": "stdout",
       "text": [
        "0657 "
       ]
      },
      {
       "output_type": "stream",
       "stream": "stdout",
       "text": [
        "0658 "
       ]
      },
      {
       "output_type": "stream",
       "stream": "stdout",
       "text": [
        "0659 "
       ]
      },
      {
       "output_type": "stream",
       "stream": "stdout",
       "text": [
        "0660 "
       ]
      },
      {
       "output_type": "stream",
       "stream": "stdout",
       "text": [
        "0661 "
       ]
      },
      {
       "output_type": "stream",
       "stream": "stdout",
       "text": [
        "0662 "
       ]
      },
      {
       "output_type": "stream",
       "stream": "stdout",
       "text": [
        "0663 "
       ]
      },
      {
       "output_type": "stream",
       "stream": "stdout",
       "text": [
        "0664 "
       ]
      },
      {
       "output_type": "stream",
       "stream": "stdout",
       "text": [
        "0665 "
       ]
      },
      {
       "output_type": "stream",
       "stream": "stdout",
       "text": [
        "0666 "
       ]
      },
      {
       "output_type": "stream",
       "stream": "stdout",
       "text": [
        "0667 "
       ]
      },
      {
       "output_type": "stream",
       "stream": "stdout",
       "text": [
        "0668 "
       ]
      },
      {
       "output_type": "stream",
       "stream": "stdout",
       "text": [
        "0669 "
       ]
      },
      {
       "output_type": "stream",
       "stream": "stdout",
       "text": [
        "0670 "
       ]
      },
      {
       "output_type": "stream",
       "stream": "stdout",
       "text": [
        "0671 "
       ]
      },
      {
       "output_type": "stream",
       "stream": "stdout",
       "text": [
        "0672 "
       ]
      },
      {
       "output_type": "stream",
       "stream": "stdout",
       "text": [
        "0673 "
       ]
      },
      {
       "output_type": "stream",
       "stream": "stdout",
       "text": [
        "0674 "
       ]
      },
      {
       "output_type": "stream",
       "stream": "stdout",
       "text": [
        "0675 "
       ]
      },
      {
       "output_type": "stream",
       "stream": "stdout",
       "text": [
        "0676 "
       ]
      },
      {
       "output_type": "stream",
       "stream": "stdout",
       "text": [
        "0677 "
       ]
      },
      {
       "output_type": "stream",
       "stream": "stdout",
       "text": [
        "0678 "
       ]
      },
      {
       "output_type": "stream",
       "stream": "stdout",
       "text": [
        "0679 "
       ]
      },
      {
       "output_type": "stream",
       "stream": "stdout",
       "text": [
        "0680 "
       ]
      },
      {
       "output_type": "stream",
       "stream": "stdout",
       "text": [
        "0681 "
       ]
      },
      {
       "output_type": "stream",
       "stream": "stdout",
       "text": [
        "0682 "
       ]
      },
      {
       "output_type": "stream",
       "stream": "stdout",
       "text": [
        "0683 "
       ]
      },
      {
       "output_type": "stream",
       "stream": "stdout",
       "text": [
        "0684 "
       ]
      },
      {
       "output_type": "stream",
       "stream": "stdout",
       "text": [
        "0685 "
       ]
      },
      {
       "output_type": "stream",
       "stream": "stdout",
       "text": [
        "0686 "
       ]
      },
      {
       "output_type": "stream",
       "stream": "stdout",
       "text": [
        "0687 "
       ]
      },
      {
       "output_type": "stream",
       "stream": "stdout",
       "text": [
        "0688 "
       ]
      },
      {
       "output_type": "stream",
       "stream": "stdout",
       "text": [
        "0689 "
       ]
      },
      {
       "output_type": "stream",
       "stream": "stdout",
       "text": [
        "0690 "
       ]
      },
      {
       "output_type": "stream",
       "stream": "stdout",
       "text": [
        "0691 "
       ]
      },
      {
       "output_type": "stream",
       "stream": "stdout",
       "text": [
        "0692 "
       ]
      },
      {
       "output_type": "stream",
       "stream": "stdout",
       "text": [
        "0693 "
       ]
      },
      {
       "output_type": "stream",
       "stream": "stdout",
       "text": [
        "0694 "
       ]
      },
      {
       "output_type": "stream",
       "stream": "stdout",
       "text": [
        "0695 "
       ]
      },
      {
       "output_type": "stream",
       "stream": "stdout",
       "text": [
        "0696 "
       ]
      },
      {
       "output_type": "stream",
       "stream": "stdout",
       "text": [
        "0697 "
       ]
      },
      {
       "output_type": "stream",
       "stream": "stdout",
       "text": [
        "0698 "
       ]
      },
      {
       "output_type": "stream",
       "stream": "stdout",
       "text": [
        "0699 "
       ]
      },
      {
       "output_type": "stream",
       "stream": "stdout",
       "text": [
        "0700 "
       ]
      },
      {
       "output_type": "stream",
       "stream": "stdout",
       "text": [
        "0701 "
       ]
      },
      {
       "output_type": "stream",
       "stream": "stdout",
       "text": [
        "0702 "
       ]
      },
      {
       "output_type": "stream",
       "stream": "stdout",
       "text": [
        "0703 "
       ]
      },
      {
       "output_type": "stream",
       "stream": "stdout",
       "text": [
        "0704 "
       ]
      },
      {
       "output_type": "stream",
       "stream": "stdout",
       "text": [
        "0705 "
       ]
      },
      {
       "output_type": "stream",
       "stream": "stdout",
       "text": [
        "0706 "
       ]
      },
      {
       "output_type": "stream",
       "stream": "stdout",
       "text": [
        "0707 "
       ]
      },
      {
       "output_type": "stream",
       "stream": "stdout",
       "text": [
        "0708 "
       ]
      },
      {
       "output_type": "stream",
       "stream": "stdout",
       "text": [
        "0709 "
       ]
      },
      {
       "output_type": "stream",
       "stream": "stdout",
       "text": [
        "0710 "
       ]
      },
      {
       "output_type": "stream",
       "stream": "stdout",
       "text": [
        "0711 "
       ]
      },
      {
       "output_type": "stream",
       "stream": "stdout",
       "text": [
        "0712 "
       ]
      },
      {
       "output_type": "stream",
       "stream": "stdout",
       "text": [
        "0713 "
       ]
      },
      {
       "output_type": "stream",
       "stream": "stdout",
       "text": [
        "0714 "
       ]
      },
      {
       "output_type": "stream",
       "stream": "stdout",
       "text": [
        "0715 "
       ]
      },
      {
       "output_type": "stream",
       "stream": "stdout",
       "text": [
        "0716 "
       ]
      },
      {
       "output_type": "stream",
       "stream": "stdout",
       "text": [
        "0717 "
       ]
      },
      {
       "output_type": "stream",
       "stream": "stdout",
       "text": [
        "0718 "
       ]
      },
      {
       "output_type": "stream",
       "stream": "stdout",
       "text": [
        "0719 "
       ]
      },
      {
       "output_type": "stream",
       "stream": "stdout",
       "text": [
        "0720 "
       ]
      },
      {
       "output_type": "stream",
       "stream": "stdout",
       "text": [
        "0721 "
       ]
      },
      {
       "output_type": "stream",
       "stream": "stdout",
       "text": [
        "0722 "
       ]
      },
      {
       "output_type": "stream",
       "stream": "stdout",
       "text": [
        "0723 "
       ]
      },
      {
       "output_type": "stream",
       "stream": "stdout",
       "text": [
        "0724 "
       ]
      },
      {
       "output_type": "stream",
       "stream": "stdout",
       "text": [
        "0725 "
       ]
      },
      {
       "output_type": "stream",
       "stream": "stdout",
       "text": [
        "0726 "
       ]
      },
      {
       "output_type": "stream",
       "stream": "stdout",
       "text": [
        "0727 "
       ]
      },
      {
       "output_type": "stream",
       "stream": "stdout",
       "text": [
        "0728 "
       ]
      },
      {
       "output_type": "stream",
       "stream": "stdout",
       "text": [
        "0729 "
       ]
      },
      {
       "output_type": "stream",
       "stream": "stdout",
       "text": [
        "0730 "
       ]
      },
      {
       "output_type": "stream",
       "stream": "stdout",
       "text": [
        "0731 "
       ]
      },
      {
       "output_type": "stream",
       "stream": "stdout",
       "text": [
        "0732 "
       ]
      },
      {
       "output_type": "stream",
       "stream": "stdout",
       "text": [
        "0733 "
       ]
      },
      {
       "output_type": "stream",
       "stream": "stdout",
       "text": [
        "0734 "
       ]
      },
      {
       "output_type": "stream",
       "stream": "stdout",
       "text": [
        "0735 "
       ]
      },
      {
       "output_type": "stream",
       "stream": "stdout",
       "text": [
        "0736 "
       ]
      },
      {
       "output_type": "stream",
       "stream": "stdout",
       "text": [
        "0737 "
       ]
      },
      {
       "output_type": "stream",
       "stream": "stdout",
       "text": [
        "0738 "
       ]
      },
      {
       "output_type": "stream",
       "stream": "stdout",
       "text": [
        "0739 "
       ]
      },
      {
       "output_type": "stream",
       "stream": "stdout",
       "text": [
        "0740 "
       ]
      },
      {
       "output_type": "stream",
       "stream": "stdout",
       "text": [
        "0741 "
       ]
      },
      {
       "output_type": "stream",
       "stream": "stdout",
       "text": [
        "0742 "
       ]
      },
      {
       "output_type": "stream",
       "stream": "stdout",
       "text": [
        "0743 "
       ]
      },
      {
       "output_type": "stream",
       "stream": "stdout",
       "text": [
        "0744 "
       ]
      },
      {
       "output_type": "stream",
       "stream": "stdout",
       "text": [
        "0745 "
       ]
      },
      {
       "output_type": "stream",
       "stream": "stdout",
       "text": [
        "0746 "
       ]
      },
      {
       "output_type": "stream",
       "stream": "stdout",
       "text": [
        "0747 "
       ]
      },
      {
       "output_type": "stream",
       "stream": "stdout",
       "text": [
        "0748 "
       ]
      },
      {
       "output_type": "stream",
       "stream": "stdout",
       "text": [
        "0749 "
       ]
      },
      {
       "output_type": "stream",
       "stream": "stdout",
       "text": [
        "0750 "
       ]
      },
      {
       "output_type": "stream",
       "stream": "stdout",
       "text": [
        "0751 "
       ]
      },
      {
       "output_type": "stream",
       "stream": "stdout",
       "text": [
        "0752 "
       ]
      },
      {
       "output_type": "stream",
       "stream": "stdout",
       "text": [
        "0753 "
       ]
      },
      {
       "output_type": "stream",
       "stream": "stdout",
       "text": [
        "0754 "
       ]
      },
      {
       "output_type": "stream",
       "stream": "stdout",
       "text": [
        "0755 "
       ]
      },
      {
       "output_type": "stream",
       "stream": "stdout",
       "text": [
        "0756 "
       ]
      },
      {
       "output_type": "stream",
       "stream": "stdout",
       "text": [
        "0757 "
       ]
      },
      {
       "output_type": "stream",
       "stream": "stdout",
       "text": [
        "0758 "
       ]
      },
      {
       "output_type": "stream",
       "stream": "stdout",
       "text": [
        "0759 "
       ]
      },
      {
       "output_type": "stream",
       "stream": "stdout",
       "text": [
        "0760 "
       ]
      },
      {
       "output_type": "stream",
       "stream": "stdout",
       "text": [
        "0761 "
       ]
      },
      {
       "output_type": "stream",
       "stream": "stdout",
       "text": [
        "0762 "
       ]
      },
      {
       "output_type": "stream",
       "stream": "stdout",
       "text": [
        "0763 "
       ]
      },
      {
       "output_type": "stream",
       "stream": "stdout",
       "text": [
        "0764 "
       ]
      },
      {
       "output_type": "stream",
       "stream": "stdout",
       "text": [
        "0765 "
       ]
      },
      {
       "output_type": "stream",
       "stream": "stdout",
       "text": [
        "0766 "
       ]
      },
      {
       "output_type": "stream",
       "stream": "stdout",
       "text": [
        "0767 "
       ]
      },
      {
       "output_type": "stream",
       "stream": "stdout",
       "text": [
        "0768 "
       ]
      },
      {
       "output_type": "stream",
       "stream": "stdout",
       "text": [
        "0769 "
       ]
      },
      {
       "output_type": "stream",
       "stream": "stdout",
       "text": [
        "0770 "
       ]
      },
      {
       "output_type": "stream",
       "stream": "stdout",
       "text": [
        "0771 "
       ]
      },
      {
       "output_type": "stream",
       "stream": "stdout",
       "text": [
        "0772 "
       ]
      },
      {
       "output_type": "stream",
       "stream": "stdout",
       "text": [
        "0773 "
       ]
      },
      {
       "output_type": "stream",
       "stream": "stdout",
       "text": [
        "0774 "
       ]
      },
      {
       "output_type": "stream",
       "stream": "stdout",
       "text": [
        "0775 "
       ]
      },
      {
       "output_type": "stream",
       "stream": "stdout",
       "text": [
        "0776 "
       ]
      },
      {
       "output_type": "stream",
       "stream": "stdout",
       "text": [
        "0777 "
       ]
      },
      {
       "output_type": "stream",
       "stream": "stdout",
       "text": [
        "0778 "
       ]
      },
      {
       "output_type": "stream",
       "stream": "stdout",
       "text": [
        "0779 "
       ]
      },
      {
       "output_type": "stream",
       "stream": "stdout",
       "text": [
        "0780 "
       ]
      },
      {
       "output_type": "stream",
       "stream": "stdout",
       "text": [
        "0781 "
       ]
      },
      {
       "output_type": "stream",
       "stream": "stdout",
       "text": [
        "0782 "
       ]
      },
      {
       "output_type": "stream",
       "stream": "stdout",
       "text": [
        "0783 "
       ]
      },
      {
       "output_type": "stream",
       "stream": "stdout",
       "text": [
        "0784 "
       ]
      },
      {
       "output_type": "stream",
       "stream": "stdout",
       "text": [
        "0785 "
       ]
      },
      {
       "output_type": "stream",
       "stream": "stdout",
       "text": [
        "0786 "
       ]
      },
      {
       "output_type": "stream",
       "stream": "stdout",
       "text": [
        "0787 "
       ]
      },
      {
       "output_type": "stream",
       "stream": "stdout",
       "text": [
        "0788 "
       ]
      },
      {
       "output_type": "stream",
       "stream": "stdout",
       "text": [
        "0789 "
       ]
      },
      {
       "output_type": "stream",
       "stream": "stdout",
       "text": [
        "0790 "
       ]
      },
      {
       "output_type": "stream",
       "stream": "stdout",
       "text": [
        "0791 "
       ]
      },
      {
       "output_type": "stream",
       "stream": "stdout",
       "text": [
        "0792 "
       ]
      },
      {
       "output_type": "stream",
       "stream": "stdout",
       "text": [
        "0793 "
       ]
      },
      {
       "output_type": "stream",
       "stream": "stdout",
       "text": [
        "0794 "
       ]
      },
      {
       "output_type": "stream",
       "stream": "stdout",
       "text": [
        "0795 "
       ]
      },
      {
       "output_type": "stream",
       "stream": "stdout",
       "text": [
        "0796 "
       ]
      },
      {
       "output_type": "stream",
       "stream": "stdout",
       "text": [
        "0797 "
       ]
      },
      {
       "output_type": "stream",
       "stream": "stdout",
       "text": [
        "0798 "
       ]
      },
      {
       "output_type": "stream",
       "stream": "stdout",
       "text": [
        "0799 "
       ]
      },
      {
       "output_type": "stream",
       "stream": "stdout",
       "text": [
        "0800 "
       ]
      },
      {
       "output_type": "stream",
       "stream": "stdout",
       "text": [
        "0801 "
       ]
      },
      {
       "output_type": "stream",
       "stream": "stdout",
       "text": [
        "0802 "
       ]
      },
      {
       "output_type": "stream",
       "stream": "stdout",
       "text": [
        "0803 "
       ]
      },
      {
       "output_type": "stream",
       "stream": "stdout",
       "text": [
        "0804 "
       ]
      },
      {
       "output_type": "stream",
       "stream": "stdout",
       "text": [
        "0805 "
       ]
      },
      {
       "output_type": "stream",
       "stream": "stdout",
       "text": [
        "0806 "
       ]
      },
      {
       "output_type": "stream",
       "stream": "stdout",
       "text": [
        "0807 "
       ]
      },
      {
       "output_type": "stream",
       "stream": "stdout",
       "text": [
        "0808 "
       ]
      },
      {
       "output_type": "stream",
       "stream": "stdout",
       "text": [
        "0809 "
       ]
      },
      {
       "output_type": "stream",
       "stream": "stdout",
       "text": [
        "0810 "
       ]
      },
      {
       "output_type": "stream",
       "stream": "stdout",
       "text": [
        "0811 "
       ]
      },
      {
       "output_type": "stream",
       "stream": "stdout",
       "text": [
        "0812 "
       ]
      },
      {
       "output_type": "stream",
       "stream": "stdout",
       "text": [
        "0813 "
       ]
      },
      {
       "output_type": "stream",
       "stream": "stdout",
       "text": [
        "0814 "
       ]
      },
      {
       "output_type": "stream",
       "stream": "stdout",
       "text": [
        "0815 "
       ]
      },
      {
       "output_type": "stream",
       "stream": "stdout",
       "text": [
        "0816 "
       ]
      },
      {
       "output_type": "stream",
       "stream": "stdout",
       "text": [
        "0817 "
       ]
      },
      {
       "output_type": "stream",
       "stream": "stdout",
       "text": [
        "0818 "
       ]
      },
      {
       "output_type": "stream",
       "stream": "stdout",
       "text": [
        "0819 "
       ]
      },
      {
       "output_type": "stream",
       "stream": "stdout",
       "text": [
        "0820 "
       ]
      },
      {
       "output_type": "stream",
       "stream": "stdout",
       "text": [
        "0821 "
       ]
      },
      {
       "output_type": "stream",
       "stream": "stdout",
       "text": [
        "0822 "
       ]
      },
      {
       "output_type": "stream",
       "stream": "stdout",
       "text": [
        "0823 "
       ]
      },
      {
       "output_type": "stream",
       "stream": "stdout",
       "text": [
        "0824 "
       ]
      },
      {
       "output_type": "stream",
       "stream": "stdout",
       "text": [
        "0825 "
       ]
      },
      {
       "output_type": "stream",
       "stream": "stdout",
       "text": [
        "0826 "
       ]
      },
      {
       "output_type": "stream",
       "stream": "stdout",
       "text": [
        "0827 "
       ]
      },
      {
       "output_type": "stream",
       "stream": "stdout",
       "text": [
        "0828 "
       ]
      },
      {
       "output_type": "stream",
       "stream": "stdout",
       "text": [
        "0829 "
       ]
      },
      {
       "output_type": "stream",
       "stream": "stdout",
       "text": [
        "0830 "
       ]
      },
      {
       "output_type": "stream",
       "stream": "stdout",
       "text": [
        "0831 "
       ]
      },
      {
       "output_type": "stream",
       "stream": "stdout",
       "text": [
        "0832 "
       ]
      },
      {
       "output_type": "stream",
       "stream": "stdout",
       "text": [
        "0833 "
       ]
      },
      {
       "output_type": "stream",
       "stream": "stdout",
       "text": [
        "0834 "
       ]
      },
      {
       "output_type": "stream",
       "stream": "stdout",
       "text": [
        "0835 "
       ]
      },
      {
       "output_type": "stream",
       "stream": "stdout",
       "text": [
        "0836 "
       ]
      },
      {
       "output_type": "stream",
       "stream": "stdout",
       "text": [
        "0837 "
       ]
      },
      {
       "output_type": "stream",
       "stream": "stdout",
       "text": [
        "0838 "
       ]
      },
      {
       "output_type": "stream",
       "stream": "stdout",
       "text": [
        "0839 "
       ]
      },
      {
       "output_type": "stream",
       "stream": "stdout",
       "text": [
        "0840 "
       ]
      },
      {
       "output_type": "stream",
       "stream": "stdout",
       "text": [
        "0841 "
       ]
      },
      {
       "output_type": "stream",
       "stream": "stdout",
       "text": [
        "0842 "
       ]
      },
      {
       "output_type": "stream",
       "stream": "stdout",
       "text": [
        "0843 "
       ]
      },
      {
       "output_type": "stream",
       "stream": "stdout",
       "text": [
        "0844 "
       ]
      },
      {
       "output_type": "stream",
       "stream": "stdout",
       "text": [
        "0845 "
       ]
      },
      {
       "output_type": "stream",
       "stream": "stdout",
       "text": [
        "0846 "
       ]
      },
      {
       "output_type": "stream",
       "stream": "stdout",
       "text": [
        "0847 "
       ]
      },
      {
       "output_type": "stream",
       "stream": "stdout",
       "text": [
        "0848 "
       ]
      },
      {
       "output_type": "stream",
       "stream": "stdout",
       "text": [
        "0849 "
       ]
      },
      {
       "output_type": "stream",
       "stream": "stdout",
       "text": [
        "0850 "
       ]
      },
      {
       "output_type": "stream",
       "stream": "stdout",
       "text": [
        "0851 "
       ]
      },
      {
       "output_type": "stream",
       "stream": "stdout",
       "text": [
        "0852 "
       ]
      },
      {
       "output_type": "stream",
       "stream": "stdout",
       "text": [
        "0853 "
       ]
      },
      {
       "output_type": "stream",
       "stream": "stdout",
       "text": [
        "0854 "
       ]
      },
      {
       "output_type": "stream",
       "stream": "stdout",
       "text": [
        "0855 "
       ]
      },
      {
       "output_type": "stream",
       "stream": "stdout",
       "text": [
        "0856 "
       ]
      },
      {
       "output_type": "stream",
       "stream": "stdout",
       "text": [
        "0857 "
       ]
      },
      {
       "output_type": "stream",
       "stream": "stdout",
       "text": [
        "0858 "
       ]
      },
      {
       "output_type": "stream",
       "stream": "stdout",
       "text": [
        "0859 "
       ]
      },
      {
       "output_type": "stream",
       "stream": "stdout",
       "text": [
        "0860 "
       ]
      },
      {
       "output_type": "stream",
       "stream": "stdout",
       "text": [
        "0861 "
       ]
      },
      {
       "output_type": "stream",
       "stream": "stdout",
       "text": [
        "0862 "
       ]
      },
      {
       "output_type": "stream",
       "stream": "stdout",
       "text": [
        "0863 "
       ]
      },
      {
       "output_type": "stream",
       "stream": "stdout",
       "text": [
        "0864 "
       ]
      },
      {
       "output_type": "stream",
       "stream": "stdout",
       "text": [
        "0865 "
       ]
      },
      {
       "output_type": "stream",
       "stream": "stdout",
       "text": [
        "0866 "
       ]
      },
      {
       "output_type": "stream",
       "stream": "stdout",
       "text": [
        "0867 "
       ]
      },
      {
       "output_type": "stream",
       "stream": "stdout",
       "text": [
        "0868 "
       ]
      },
      {
       "output_type": "stream",
       "stream": "stdout",
       "text": [
        "0869 "
       ]
      },
      {
       "output_type": "stream",
       "stream": "stdout",
       "text": [
        "0870 "
       ]
      },
      {
       "output_type": "stream",
       "stream": "stdout",
       "text": [
        "0871 "
       ]
      },
      {
       "output_type": "stream",
       "stream": "stdout",
       "text": [
        "0872 "
       ]
      },
      {
       "output_type": "stream",
       "stream": "stdout",
       "text": [
        "0873 "
       ]
      },
      {
       "output_type": "stream",
       "stream": "stdout",
       "text": [
        "0874 "
       ]
      },
      {
       "output_type": "stream",
       "stream": "stdout",
       "text": [
        "0875 "
       ]
      },
      {
       "output_type": "stream",
       "stream": "stdout",
       "text": [
        "0876 "
       ]
      },
      {
       "output_type": "stream",
       "stream": "stdout",
       "text": [
        "0877 "
       ]
      },
      {
       "output_type": "stream",
       "stream": "stdout",
       "text": [
        "0878 "
       ]
      },
      {
       "output_type": "stream",
       "stream": "stdout",
       "text": [
        "0879 "
       ]
      },
      {
       "output_type": "stream",
       "stream": "stdout",
       "text": [
        "0880 "
       ]
      },
      {
       "output_type": "stream",
       "stream": "stdout",
       "text": [
        "0881 "
       ]
      },
      {
       "output_type": "stream",
       "stream": "stdout",
       "text": [
        "0882 "
       ]
      },
      {
       "output_type": "stream",
       "stream": "stdout",
       "text": [
        "0883 "
       ]
      },
      {
       "output_type": "stream",
       "stream": "stdout",
       "text": [
        "0884 "
       ]
      },
      {
       "output_type": "stream",
       "stream": "stdout",
       "text": [
        "0885 "
       ]
      },
      {
       "output_type": "stream",
       "stream": "stdout",
       "text": [
        "0886 "
       ]
      },
      {
       "output_type": "stream",
       "stream": "stdout",
       "text": [
        "0887 "
       ]
      },
      {
       "output_type": "stream",
       "stream": "stdout",
       "text": [
        "0888 "
       ]
      },
      {
       "output_type": "stream",
       "stream": "stdout",
       "text": [
        "0889 "
       ]
      },
      {
       "output_type": "stream",
       "stream": "stdout",
       "text": [
        "0890 "
       ]
      },
      {
       "output_type": "stream",
       "stream": "stdout",
       "text": [
        "0891 "
       ]
      },
      {
       "output_type": "stream",
       "stream": "stdout",
       "text": [
        "0892 "
       ]
      },
      {
       "output_type": "stream",
       "stream": "stdout",
       "text": [
        "0893 "
       ]
      },
      {
       "output_type": "stream",
       "stream": "stdout",
       "text": [
        "0894 "
       ]
      },
      {
       "output_type": "stream",
       "stream": "stdout",
       "text": [
        "0895 "
       ]
      },
      {
       "output_type": "stream",
       "stream": "stdout",
       "text": [
        "0896 "
       ]
      },
      {
       "output_type": "stream",
       "stream": "stdout",
       "text": [
        "0897 "
       ]
      },
      {
       "output_type": "stream",
       "stream": "stdout",
       "text": [
        "0898 "
       ]
      },
      {
       "output_type": "stream",
       "stream": "stdout",
       "text": [
        "0899 "
       ]
      },
      {
       "output_type": "stream",
       "stream": "stdout",
       "text": [
        "0900 "
       ]
      },
      {
       "output_type": "stream",
       "stream": "stdout",
       "text": [
        "0901 "
       ]
      },
      {
       "output_type": "stream",
       "stream": "stdout",
       "text": [
        "0902 "
       ]
      },
      {
       "output_type": "stream",
       "stream": "stdout",
       "text": [
        "0903 "
       ]
      },
      {
       "output_type": "stream",
       "stream": "stdout",
       "text": [
        "0904 "
       ]
      },
      {
       "output_type": "stream",
       "stream": "stdout",
       "text": [
        "0905 "
       ]
      },
      {
       "output_type": "stream",
       "stream": "stdout",
       "text": [
        "0906 "
       ]
      },
      {
       "output_type": "stream",
       "stream": "stdout",
       "text": [
        "0907 "
       ]
      },
      {
       "output_type": "stream",
       "stream": "stdout",
       "text": [
        "0908 "
       ]
      },
      {
       "output_type": "stream",
       "stream": "stdout",
       "text": [
        "0909 "
       ]
      },
      {
       "output_type": "stream",
       "stream": "stdout",
       "text": [
        "0910 "
       ]
      },
      {
       "output_type": "stream",
       "stream": "stdout",
       "text": [
        "0911 "
       ]
      },
      {
       "output_type": "stream",
       "stream": "stdout",
       "text": [
        "0912 "
       ]
      },
      {
       "output_type": "stream",
       "stream": "stdout",
       "text": [
        "0913 "
       ]
      },
      {
       "output_type": "stream",
       "stream": "stdout",
       "text": [
        "0914 "
       ]
      },
      {
       "output_type": "stream",
       "stream": "stdout",
       "text": [
        "0915 "
       ]
      },
      {
       "output_type": "stream",
       "stream": "stdout",
       "text": [
        "0916 "
       ]
      },
      {
       "output_type": "stream",
       "stream": "stdout",
       "text": [
        "0917 "
       ]
      },
      {
       "output_type": "stream",
       "stream": "stdout",
       "text": [
        "0918 "
       ]
      },
      {
       "output_type": "stream",
       "stream": "stdout",
       "text": [
        "0919 "
       ]
      },
      {
       "output_type": "stream",
       "stream": "stdout",
       "text": [
        "0920 "
       ]
      },
      {
       "output_type": "stream",
       "stream": "stdout",
       "text": [
        "0921 "
       ]
      },
      {
       "output_type": "stream",
       "stream": "stdout",
       "text": [
        "0922 "
       ]
      },
      {
       "output_type": "stream",
       "stream": "stdout",
       "text": [
        "0923 "
       ]
      },
      {
       "output_type": "stream",
       "stream": "stdout",
       "text": [
        "0924 "
       ]
      },
      {
       "output_type": "stream",
       "stream": "stdout",
       "text": [
        "0925 "
       ]
      },
      {
       "output_type": "stream",
       "stream": "stdout",
       "text": [
        "0926 "
       ]
      },
      {
       "output_type": "stream",
       "stream": "stdout",
       "text": [
        "0927 "
       ]
      },
      {
       "output_type": "stream",
       "stream": "stdout",
       "text": [
        "0928 "
       ]
      },
      {
       "output_type": "stream",
       "stream": "stdout",
       "text": [
        "0929 "
       ]
      },
      {
       "output_type": "stream",
       "stream": "stdout",
       "text": [
        "0930 "
       ]
      },
      {
       "output_type": "stream",
       "stream": "stdout",
       "text": [
        "0931 "
       ]
      },
      {
       "output_type": "stream",
       "stream": "stdout",
       "text": [
        "0932 "
       ]
      },
      {
       "output_type": "stream",
       "stream": "stdout",
       "text": [
        "0933 "
       ]
      },
      {
       "output_type": "stream",
       "stream": "stdout",
       "text": [
        "0934 "
       ]
      },
      {
       "output_type": "stream",
       "stream": "stdout",
       "text": [
        "0935 "
       ]
      },
      {
       "output_type": "stream",
       "stream": "stdout",
       "text": [
        "0936 "
       ]
      },
      {
       "output_type": "stream",
       "stream": "stdout",
       "text": [
        "0937 "
       ]
      },
      {
       "output_type": "stream",
       "stream": "stdout",
       "text": [
        "0938 "
       ]
      },
      {
       "output_type": "stream",
       "stream": "stdout",
       "text": [
        "0939 "
       ]
      },
      {
       "output_type": "stream",
       "stream": "stdout",
       "text": [
        "0940 "
       ]
      },
      {
       "output_type": "stream",
       "stream": "stdout",
       "text": [
        "0941 "
       ]
      },
      {
       "output_type": "stream",
       "stream": "stdout",
       "text": [
        "0942 "
       ]
      },
      {
       "output_type": "stream",
       "stream": "stdout",
       "text": [
        "0943 "
       ]
      },
      {
       "output_type": "stream",
       "stream": "stdout",
       "text": [
        "0944 "
       ]
      },
      {
       "output_type": "stream",
       "stream": "stdout",
       "text": [
        "0945 "
       ]
      },
      {
       "output_type": "stream",
       "stream": "stdout",
       "text": [
        "0946 "
       ]
      },
      {
       "output_type": "stream",
       "stream": "stdout",
       "text": [
        "0947 "
       ]
      },
      {
       "output_type": "stream",
       "stream": "stdout",
       "text": [
        "0948 "
       ]
      },
      {
       "output_type": "stream",
       "stream": "stdout",
       "text": [
        "0949 "
       ]
      },
      {
       "output_type": "stream",
       "stream": "stdout",
       "text": [
        "0950 "
       ]
      },
      {
       "output_type": "stream",
       "stream": "stdout",
       "text": [
        "0951 "
       ]
      },
      {
       "output_type": "stream",
       "stream": "stdout",
       "text": [
        "0952 "
       ]
      },
      {
       "output_type": "stream",
       "stream": "stdout",
       "text": [
        "0953 "
       ]
      },
      {
       "output_type": "stream",
       "stream": "stdout",
       "text": [
        "0954 "
       ]
      },
      {
       "output_type": "stream",
       "stream": "stdout",
       "text": [
        "0955 "
       ]
      },
      {
       "output_type": "stream",
       "stream": "stdout",
       "text": [
        "0956 "
       ]
      },
      {
       "output_type": "stream",
       "stream": "stdout",
       "text": [
        "0957 "
       ]
      },
      {
       "output_type": "stream",
       "stream": "stdout",
       "text": [
        "0958 "
       ]
      },
      {
       "output_type": "stream",
       "stream": "stdout",
       "text": [
        "0959 "
       ]
      },
      {
       "output_type": "stream",
       "stream": "stdout",
       "text": [
        "0960 "
       ]
      },
      {
       "output_type": "stream",
       "stream": "stdout",
       "text": [
        "0961 "
       ]
      },
      {
       "output_type": "stream",
       "stream": "stdout",
       "text": [
        "0962 "
       ]
      },
      {
       "output_type": "stream",
       "stream": "stdout",
       "text": [
        "0963 "
       ]
      },
      {
       "output_type": "stream",
       "stream": "stdout",
       "text": [
        "0964 "
       ]
      },
      {
       "output_type": "stream",
       "stream": "stdout",
       "text": [
        "0965 "
       ]
      },
      {
       "output_type": "stream",
       "stream": "stdout",
       "text": [
        "0966 "
       ]
      },
      {
       "output_type": "stream",
       "stream": "stdout",
       "text": [
        "0967 "
       ]
      },
      {
       "output_type": "stream",
       "stream": "stdout",
       "text": [
        "0968 "
       ]
      },
      {
       "output_type": "stream",
       "stream": "stdout",
       "text": [
        "0969 "
       ]
      },
      {
       "output_type": "stream",
       "stream": "stdout",
       "text": [
        "0970 "
       ]
      },
      {
       "output_type": "stream",
       "stream": "stdout",
       "text": [
        "0971 "
       ]
      },
      {
       "output_type": "stream",
       "stream": "stdout",
       "text": [
        "0972 "
       ]
      },
      {
       "output_type": "stream",
       "stream": "stdout",
       "text": [
        "0973 "
       ]
      },
      {
       "output_type": "stream",
       "stream": "stdout",
       "text": [
        "0974 "
       ]
      },
      {
       "output_type": "stream",
       "stream": "stdout",
       "text": [
        "0975 "
       ]
      },
      {
       "output_type": "stream",
       "stream": "stdout",
       "text": [
        "0976 "
       ]
      },
      {
       "output_type": "stream",
       "stream": "stdout",
       "text": [
        "0977 "
       ]
      },
      {
       "output_type": "stream",
       "stream": "stdout",
       "text": [
        "0978 "
       ]
      },
      {
       "output_type": "stream",
       "stream": "stdout",
       "text": [
        "0979 "
       ]
      },
      {
       "output_type": "stream",
       "stream": "stdout",
       "text": [
        "0980 "
       ]
      },
      {
       "output_type": "stream",
       "stream": "stdout",
       "text": [
        "0981 "
       ]
      },
      {
       "output_type": "stream",
       "stream": "stdout",
       "text": [
        "0982 "
       ]
      },
      {
       "output_type": "stream",
       "stream": "stdout",
       "text": [
        "0983 "
       ]
      },
      {
       "output_type": "stream",
       "stream": "stdout",
       "text": [
        "0984 "
       ]
      },
      {
       "output_type": "stream",
       "stream": "stdout",
       "text": [
        "0985 "
       ]
      },
      {
       "output_type": "stream",
       "stream": "stdout",
       "text": [
        "0986 "
       ]
      },
      {
       "output_type": "stream",
       "stream": "stdout",
       "text": [
        "0987 "
       ]
      },
      {
       "output_type": "stream",
       "stream": "stdout",
       "text": [
        "0988 "
       ]
      },
      {
       "output_type": "stream",
       "stream": "stdout",
       "text": [
        "0989 "
       ]
      },
      {
       "output_type": "stream",
       "stream": "stdout",
       "text": [
        "0990 "
       ]
      },
      {
       "output_type": "stream",
       "stream": "stdout",
       "text": [
        "0991 "
       ]
      },
      {
       "output_type": "stream",
       "stream": "stdout",
       "text": [
        "0992 "
       ]
      },
      {
       "output_type": "stream",
       "stream": "stdout",
       "text": [
        "0993 "
       ]
      },
      {
       "output_type": "stream",
       "stream": "stdout",
       "text": [
        "0994 "
       ]
      },
      {
       "output_type": "stream",
       "stream": "stdout",
       "text": [
        "0995 "
       ]
      },
      {
       "output_type": "stream",
       "stream": "stdout",
       "text": [
        "0996 "
       ]
      },
      {
       "output_type": "stream",
       "stream": "stdout",
       "text": [
        "0997 "
       ]
      },
      {
       "output_type": "stream",
       "stream": "stdout",
       "text": [
        "0998 "
       ]
      },
      {
       "output_type": "stream",
       "stream": "stdout",
       "text": [
        "0999 "
       ]
      },
      {
       "output_type": "stream",
       "stream": "stdout",
       "text": [
        "1000 "
       ]
      },
      {
       "output_type": "stream",
       "stream": "stdout",
       "text": [
        "1001 "
       ]
      },
      {
       "output_type": "stream",
       "stream": "stdout",
       "text": [
        "1002 "
       ]
      },
      {
       "output_type": "stream",
       "stream": "stdout",
       "text": [
        "1003 "
       ]
      },
      {
       "output_type": "stream",
       "stream": "stdout",
       "text": [
        "1004 "
       ]
      },
      {
       "output_type": "stream",
       "stream": "stdout",
       "text": [
        "1005 "
       ]
      },
      {
       "output_type": "stream",
       "stream": "stdout",
       "text": [
        "1006 "
       ]
      },
      {
       "output_type": "stream",
       "stream": "stdout",
       "text": [
        "1007 "
       ]
      },
      {
       "output_type": "stream",
       "stream": "stdout",
       "text": [
        "1008 "
       ]
      },
      {
       "output_type": "stream",
       "stream": "stdout",
       "text": [
        "1009 "
       ]
      },
      {
       "output_type": "stream",
       "stream": "stdout",
       "text": [
        "1010 "
       ]
      },
      {
       "output_type": "stream",
       "stream": "stdout",
       "text": [
        "1011 "
       ]
      },
      {
       "output_type": "stream",
       "stream": "stdout",
       "text": [
        "1012 "
       ]
      },
      {
       "output_type": "stream",
       "stream": "stdout",
       "text": [
        "1013 "
       ]
      },
      {
       "output_type": "stream",
       "stream": "stdout",
       "text": [
        "1014 "
       ]
      },
      {
       "output_type": "stream",
       "stream": "stdout",
       "text": [
        "1015 "
       ]
      },
      {
       "output_type": "stream",
       "stream": "stdout",
       "text": [
        "1016 "
       ]
      },
      {
       "output_type": "stream",
       "stream": "stdout",
       "text": [
        "1017 "
       ]
      },
      {
       "output_type": "stream",
       "stream": "stdout",
       "text": [
        "1018 "
       ]
      },
      {
       "output_type": "stream",
       "stream": "stdout",
       "text": [
        "1019 "
       ]
      },
      {
       "output_type": "stream",
       "stream": "stdout",
       "text": [
        "1020 "
       ]
      },
      {
       "output_type": "stream",
       "stream": "stdout",
       "text": [
        "1021 "
       ]
      },
      {
       "output_type": "stream",
       "stream": "stdout",
       "text": [
        "1022 "
       ]
      },
      {
       "output_type": "stream",
       "stream": "stdout",
       "text": [
        "1023 "
       ]
      },
      {
       "output_type": "stream",
       "stream": "stdout",
       "text": [
        "1024 "
       ]
      },
      {
       "output_type": "stream",
       "stream": "stdout",
       "text": [
        "1025 "
       ]
      },
      {
       "output_type": "stream",
       "stream": "stdout",
       "text": [
        "1026 "
       ]
      },
      {
       "output_type": "stream",
       "stream": "stdout",
       "text": [
        "1027 "
       ]
      },
      {
       "output_type": "stream",
       "stream": "stdout",
       "text": [
        "1028 "
       ]
      },
      {
       "output_type": "stream",
       "stream": "stdout",
       "text": [
        "1029 "
       ]
      },
      {
       "output_type": "stream",
       "stream": "stdout",
       "text": [
        "1030 "
       ]
      },
      {
       "output_type": "stream",
       "stream": "stdout",
       "text": [
        "1031 "
       ]
      },
      {
       "output_type": "stream",
       "stream": "stdout",
       "text": [
        "1032 "
       ]
      },
      {
       "output_type": "stream",
       "stream": "stdout",
       "text": [
        "1033 "
       ]
      },
      {
       "output_type": "stream",
       "stream": "stdout",
       "text": [
        "1034 "
       ]
      },
      {
       "output_type": "stream",
       "stream": "stdout",
       "text": [
        "1035 "
       ]
      },
      {
       "output_type": "stream",
       "stream": "stdout",
       "text": [
        "1036 "
       ]
      },
      {
       "output_type": "stream",
       "stream": "stdout",
       "text": [
        "1037 "
       ]
      },
      {
       "output_type": "stream",
       "stream": "stdout",
       "text": [
        "1038 "
       ]
      },
      {
       "output_type": "stream",
       "stream": "stdout",
       "text": [
        "1039 "
       ]
      },
      {
       "output_type": "stream",
       "stream": "stdout",
       "text": [
        "1040 "
       ]
      },
      {
       "output_type": "stream",
       "stream": "stdout",
       "text": [
        "1041 "
       ]
      },
      {
       "output_type": "stream",
       "stream": "stdout",
       "text": [
        "1042 "
       ]
      },
      {
       "output_type": "stream",
       "stream": "stdout",
       "text": [
        "1043 "
       ]
      },
      {
       "output_type": "stream",
       "stream": "stdout",
       "text": [
        "1044 "
       ]
      },
      {
       "output_type": "stream",
       "stream": "stdout",
       "text": [
        "1045 "
       ]
      },
      {
       "output_type": "stream",
       "stream": "stdout",
       "text": [
        "1046 "
       ]
      },
      {
       "output_type": "stream",
       "stream": "stdout",
       "text": [
        "1047 "
       ]
      },
      {
       "output_type": "stream",
       "stream": "stdout",
       "text": [
        "1048 "
       ]
      },
      {
       "output_type": "stream",
       "stream": "stdout",
       "text": [
        "1049 "
       ]
      },
      {
       "output_type": "stream",
       "stream": "stdout",
       "text": [
        "1050 "
       ]
      },
      {
       "output_type": "stream",
       "stream": "stdout",
       "text": [
        "1051 "
       ]
      },
      {
       "output_type": "stream",
       "stream": "stdout",
       "text": [
        "1052 "
       ]
      },
      {
       "output_type": "stream",
       "stream": "stdout",
       "text": [
        "1053 "
       ]
      },
      {
       "output_type": "stream",
       "stream": "stdout",
       "text": [
        "1054 "
       ]
      },
      {
       "output_type": "stream",
       "stream": "stdout",
       "text": [
        "1055 "
       ]
      },
      {
       "output_type": "stream",
       "stream": "stdout",
       "text": [
        "1056 "
       ]
      },
      {
       "output_type": "stream",
       "stream": "stdout",
       "text": [
        "1057 "
       ]
      },
      {
       "output_type": "stream",
       "stream": "stdout",
       "text": [
        "1058 "
       ]
      },
      {
       "output_type": "stream",
       "stream": "stdout",
       "text": [
        "1059 "
       ]
      },
      {
       "output_type": "stream",
       "stream": "stdout",
       "text": [
        "1060 "
       ]
      },
      {
       "output_type": "stream",
       "stream": "stdout",
       "text": [
        "1061 "
       ]
      },
      {
       "output_type": "stream",
       "stream": "stdout",
       "text": [
        "1062 "
       ]
      },
      {
       "output_type": "stream",
       "stream": "stdout",
       "text": [
        "1063 "
       ]
      },
      {
       "output_type": "stream",
       "stream": "stdout",
       "text": [
        "1064 "
       ]
      },
      {
       "output_type": "stream",
       "stream": "stdout",
       "text": [
        "1065 "
       ]
      },
      {
       "output_type": "stream",
       "stream": "stdout",
       "text": [
        "1066 "
       ]
      },
      {
       "output_type": "stream",
       "stream": "stdout",
       "text": [
        "1067 "
       ]
      },
      {
       "output_type": "stream",
       "stream": "stdout",
       "text": [
        "1068 "
       ]
      },
      {
       "output_type": "stream",
       "stream": "stdout",
       "text": [
        "1069 "
       ]
      },
      {
       "output_type": "stream",
       "stream": "stdout",
       "text": [
        "1070 "
       ]
      },
      {
       "output_type": "stream",
       "stream": "stdout",
       "text": [
        "1071 "
       ]
      },
      {
       "output_type": "stream",
       "stream": "stdout",
       "text": [
        "1072 "
       ]
      },
      {
       "output_type": "stream",
       "stream": "stdout",
       "text": [
        "1073 "
       ]
      },
      {
       "output_type": "stream",
       "stream": "stdout",
       "text": [
        "1074 "
       ]
      },
      {
       "output_type": "stream",
       "stream": "stdout",
       "text": [
        "1075 "
       ]
      },
      {
       "output_type": "stream",
       "stream": "stdout",
       "text": [
        "1076 "
       ]
      },
      {
       "output_type": "stream",
       "stream": "stdout",
       "text": [
        "1077 "
       ]
      },
      {
       "output_type": "stream",
       "stream": "stdout",
       "text": [
        "1078 "
       ]
      },
      {
       "output_type": "stream",
       "stream": "stdout",
       "text": [
        "1079 "
       ]
      },
      {
       "output_type": "stream",
       "stream": "stdout",
       "text": [
        "1080 "
       ]
      },
      {
       "output_type": "stream",
       "stream": "stdout",
       "text": [
        "1081 "
       ]
      },
      {
       "output_type": "stream",
       "stream": "stdout",
       "text": [
        "1082 "
       ]
      },
      {
       "output_type": "stream",
       "stream": "stdout",
       "text": [
        "1083 "
       ]
      },
      {
       "output_type": "stream",
       "stream": "stdout",
       "text": [
        "1084 "
       ]
      },
      {
       "output_type": "stream",
       "stream": "stdout",
       "text": [
        "1085 "
       ]
      },
      {
       "output_type": "stream",
       "stream": "stdout",
       "text": [
        "1086 "
       ]
      },
      {
       "output_type": "stream",
       "stream": "stdout",
       "text": [
        "1087 "
       ]
      },
      {
       "output_type": "stream",
       "stream": "stdout",
       "text": [
        "1088 "
       ]
      },
      {
       "output_type": "stream",
       "stream": "stdout",
       "text": [
        "1089 "
       ]
      },
      {
       "output_type": "stream",
       "stream": "stdout",
       "text": [
        "1090 "
       ]
      },
      {
       "output_type": "stream",
       "stream": "stdout",
       "text": [
        "1091 "
       ]
      },
      {
       "output_type": "stream",
       "stream": "stdout",
       "text": [
        "1092 "
       ]
      },
      {
       "output_type": "stream",
       "stream": "stdout",
       "text": [
        "1093 "
       ]
      },
      {
       "output_type": "stream",
       "stream": "stdout",
       "text": [
        "1094 "
       ]
      },
      {
       "output_type": "stream",
       "stream": "stdout",
       "text": [
        "1095 "
       ]
      },
      {
       "output_type": "stream",
       "stream": "stdout",
       "text": [
        "1096 "
       ]
      },
      {
       "output_type": "stream",
       "stream": "stdout",
       "text": [
        "1097 "
       ]
      },
      {
       "output_type": "stream",
       "stream": "stdout",
       "text": [
        "1098 "
       ]
      },
      {
       "output_type": "stream",
       "stream": "stdout",
       "text": [
        "1099 "
       ]
      },
      {
       "output_type": "stream",
       "stream": "stdout",
       "text": [
        "1100 "
       ]
      },
      {
       "output_type": "stream",
       "stream": "stdout",
       "text": [
        "1101 "
       ]
      },
      {
       "output_type": "stream",
       "stream": "stdout",
       "text": [
        "1102 "
       ]
      },
      {
       "output_type": "stream",
       "stream": "stdout",
       "text": [
        "1103 "
       ]
      },
      {
       "output_type": "stream",
       "stream": "stdout",
       "text": [
        "1104 "
       ]
      },
      {
       "output_type": "stream",
       "stream": "stdout",
       "text": [
        "1105 "
       ]
      },
      {
       "output_type": "stream",
       "stream": "stdout",
       "text": [
        "1106 "
       ]
      },
      {
       "output_type": "stream",
       "stream": "stdout",
       "text": [
        "1107 "
       ]
      },
      {
       "output_type": "stream",
       "stream": "stdout",
       "text": [
        "1108 "
       ]
      },
      {
       "output_type": "stream",
       "stream": "stdout",
       "text": [
        "1109 "
       ]
      },
      {
       "output_type": "stream",
       "stream": "stdout",
       "text": [
        "1110 "
       ]
      },
      {
       "output_type": "stream",
       "stream": "stdout",
       "text": [
        "1111 "
       ]
      },
      {
       "output_type": "stream",
       "stream": "stdout",
       "text": [
        "1112 "
       ]
      },
      {
       "output_type": "stream",
       "stream": "stdout",
       "text": [
        "1113 "
       ]
      },
      {
       "output_type": "stream",
       "stream": "stdout",
       "text": [
        "1114 "
       ]
      },
      {
       "output_type": "stream",
       "stream": "stdout",
       "text": [
        "1115 "
       ]
      },
      {
       "output_type": "stream",
       "stream": "stdout",
       "text": [
        "1116 "
       ]
      },
      {
       "output_type": "stream",
       "stream": "stdout",
       "text": [
        "1117 "
       ]
      },
      {
       "output_type": "stream",
       "stream": "stdout",
       "text": [
        "1118 "
       ]
      },
      {
       "output_type": "stream",
       "stream": "stdout",
       "text": [
        "1119 "
       ]
      },
      {
       "output_type": "stream",
       "stream": "stdout",
       "text": [
        "1120 "
       ]
      },
      {
       "output_type": "stream",
       "stream": "stdout",
       "text": [
        "1121 "
       ]
      },
      {
       "output_type": "stream",
       "stream": "stdout",
       "text": [
        "1122 "
       ]
      },
      {
       "output_type": "stream",
       "stream": "stdout",
       "text": [
        "1123 "
       ]
      },
      {
       "output_type": "stream",
       "stream": "stdout",
       "text": [
        "1124 "
       ]
      },
      {
       "output_type": "stream",
       "stream": "stdout",
       "text": [
        "1125 "
       ]
      },
      {
       "output_type": "stream",
       "stream": "stdout",
       "text": [
        "1126 "
       ]
      },
      {
       "output_type": "stream",
       "stream": "stdout",
       "text": [
        "1127 "
       ]
      },
      {
       "output_type": "stream",
       "stream": "stdout",
       "text": [
        "1128 "
       ]
      },
      {
       "output_type": "stream",
       "stream": "stdout",
       "text": [
        "1129 "
       ]
      },
      {
       "output_type": "stream",
       "stream": "stdout",
       "text": [
        "1130 "
       ]
      },
      {
       "output_type": "stream",
       "stream": "stdout",
       "text": [
        "1131 "
       ]
      },
      {
       "output_type": "stream",
       "stream": "stdout",
       "text": [
        "1132 "
       ]
      },
      {
       "output_type": "stream",
       "stream": "stdout",
       "text": [
        "1133 "
       ]
      },
      {
       "output_type": "stream",
       "stream": "stdout",
       "text": [
        "1134 "
       ]
      },
      {
       "output_type": "stream",
       "stream": "stdout",
       "text": [
        "1135 "
       ]
      },
      {
       "output_type": "stream",
       "stream": "stdout",
       "text": [
        "1136 "
       ]
      },
      {
       "output_type": "stream",
       "stream": "stdout",
       "text": [
        "1137 "
       ]
      },
      {
       "output_type": "stream",
       "stream": "stdout",
       "text": [
        "1138 "
       ]
      },
      {
       "output_type": "stream",
       "stream": "stdout",
       "text": [
        "1139 "
       ]
      },
      {
       "output_type": "stream",
       "stream": "stdout",
       "text": [
        "1140 "
       ]
      },
      {
       "output_type": "stream",
       "stream": "stdout",
       "text": [
        "1141 "
       ]
      },
      {
       "output_type": "stream",
       "stream": "stdout",
       "text": [
        "1142 "
       ]
      },
      {
       "output_type": "stream",
       "stream": "stdout",
       "text": [
        "1143 "
       ]
      },
      {
       "output_type": "stream",
       "stream": "stdout",
       "text": [
        "1144 "
       ]
      },
      {
       "output_type": "stream",
       "stream": "stdout",
       "text": [
        "1145 "
       ]
      },
      {
       "output_type": "stream",
       "stream": "stdout",
       "text": [
        "1146 "
       ]
      },
      {
       "output_type": "stream",
       "stream": "stdout",
       "text": [
        "1147 "
       ]
      },
      {
       "output_type": "stream",
       "stream": "stdout",
       "text": [
        "1148 "
       ]
      },
      {
       "output_type": "stream",
       "stream": "stdout",
       "text": [
        "1149 "
       ]
      },
      {
       "output_type": "stream",
       "stream": "stdout",
       "text": [
        "1150 "
       ]
      },
      {
       "output_type": "stream",
       "stream": "stdout",
       "text": [
        "1151 "
       ]
      },
      {
       "output_type": "stream",
       "stream": "stdout",
       "text": [
        "1152 "
       ]
      },
      {
       "output_type": "stream",
       "stream": "stdout",
       "text": [
        "1153 "
       ]
      },
      {
       "output_type": "stream",
       "stream": "stdout",
       "text": [
        "1154 "
       ]
      },
      {
       "output_type": "stream",
       "stream": "stdout",
       "text": [
        "1155 "
       ]
      },
      {
       "output_type": "stream",
       "stream": "stdout",
       "text": [
        "1156 "
       ]
      },
      {
       "output_type": "stream",
       "stream": "stdout",
       "text": [
        "1157 "
       ]
      },
      {
       "output_type": "stream",
       "stream": "stdout",
       "text": [
        "1158 "
       ]
      },
      {
       "output_type": "stream",
       "stream": "stdout",
       "text": [
        "1159 "
       ]
      },
      {
       "output_type": "stream",
       "stream": "stdout",
       "text": [
        "1160 "
       ]
      },
      {
       "output_type": "stream",
       "stream": "stdout",
       "text": [
        "1161 "
       ]
      },
      {
       "output_type": "stream",
       "stream": "stdout",
       "text": [
        "1162 "
       ]
      },
      {
       "output_type": "stream",
       "stream": "stdout",
       "text": [
        "1163 "
       ]
      },
      {
       "output_type": "stream",
       "stream": "stdout",
       "text": [
        "1164 "
       ]
      },
      {
       "output_type": "stream",
       "stream": "stdout",
       "text": [
        "1165 "
       ]
      },
      {
       "output_type": "stream",
       "stream": "stdout",
       "text": [
        "1166 "
       ]
      },
      {
       "output_type": "stream",
       "stream": "stdout",
       "text": [
        "1167 "
       ]
      },
      {
       "output_type": "stream",
       "stream": "stdout",
       "text": [
        "1168 "
       ]
      },
      {
       "output_type": "stream",
       "stream": "stdout",
       "text": [
        "1169 "
       ]
      },
      {
       "output_type": "stream",
       "stream": "stdout",
       "text": [
        "1170 "
       ]
      },
      {
       "output_type": "stream",
       "stream": "stdout",
       "text": [
        "1171 "
       ]
      },
      {
       "output_type": "stream",
       "stream": "stdout",
       "text": [
        "1172 "
       ]
      },
      {
       "output_type": "stream",
       "stream": "stdout",
       "text": [
        "1173 "
       ]
      },
      {
       "output_type": "stream",
       "stream": "stdout",
       "text": [
        "1174 "
       ]
      },
      {
       "output_type": "stream",
       "stream": "stdout",
       "text": [
        "1175 "
       ]
      },
      {
       "output_type": "stream",
       "stream": "stdout",
       "text": [
        "1176 "
       ]
      },
      {
       "output_type": "stream",
       "stream": "stdout",
       "text": [
        "1177 "
       ]
      },
      {
       "output_type": "stream",
       "stream": "stdout",
       "text": [
        "1178 "
       ]
      },
      {
       "output_type": "stream",
       "stream": "stdout",
       "text": [
        "1179 "
       ]
      },
      {
       "output_type": "stream",
       "stream": "stdout",
       "text": [
        "1180 "
       ]
      },
      {
       "output_type": "stream",
       "stream": "stdout",
       "text": [
        "1181 "
       ]
      },
      {
       "output_type": "stream",
       "stream": "stdout",
       "text": [
        "1182 "
       ]
      },
      {
       "output_type": "stream",
       "stream": "stdout",
       "text": [
        "1183 "
       ]
      },
      {
       "output_type": "stream",
       "stream": "stdout",
       "text": [
        "1184 "
       ]
      },
      {
       "output_type": "stream",
       "stream": "stdout",
       "text": [
        "1185 "
       ]
      },
      {
       "output_type": "stream",
       "stream": "stdout",
       "text": [
        "1186 "
       ]
      },
      {
       "output_type": "stream",
       "stream": "stdout",
       "text": [
        "1187 "
       ]
      },
      {
       "output_type": "stream",
       "stream": "stdout",
       "text": [
        "1188 "
       ]
      },
      {
       "output_type": "stream",
       "stream": "stdout",
       "text": [
        "1189 "
       ]
      },
      {
       "output_type": "stream",
       "stream": "stdout",
       "text": [
        "1190 "
       ]
      },
      {
       "output_type": "stream",
       "stream": "stdout",
       "text": [
        "1191 "
       ]
      },
      {
       "output_type": "stream",
       "stream": "stdout",
       "text": [
        "1192 "
       ]
      },
      {
       "output_type": "stream",
       "stream": "stdout",
       "text": [
        "1193 "
       ]
      },
      {
       "output_type": "stream",
       "stream": "stdout",
       "text": [
        "1194 "
       ]
      },
      {
       "output_type": "stream",
       "stream": "stdout",
       "text": [
        "1195 "
       ]
      },
      {
       "output_type": "stream",
       "stream": "stdout",
       "text": [
        "1196 "
       ]
      },
      {
       "output_type": "stream",
       "stream": "stdout",
       "text": [
        "1197 "
       ]
      },
      {
       "output_type": "stream",
       "stream": "stdout",
       "text": [
        "1198 "
       ]
      },
      {
       "output_type": "stream",
       "stream": "stdout",
       "text": [
        "1199 "
       ]
      },
      {
       "output_type": "stream",
       "stream": "stdout",
       "text": [
        "1200 "
       ]
      },
      {
       "output_type": "stream",
       "stream": "stdout",
       "text": [
        "1201 "
       ]
      },
      {
       "output_type": "stream",
       "stream": "stdout",
       "text": [
        "1202 "
       ]
      },
      {
       "output_type": "stream",
       "stream": "stdout",
       "text": [
        "1203 "
       ]
      },
      {
       "output_type": "stream",
       "stream": "stdout",
       "text": [
        "1204 "
       ]
      },
      {
       "output_type": "stream",
       "stream": "stdout",
       "text": [
        "1205 "
       ]
      },
      {
       "output_type": "stream",
       "stream": "stdout",
       "text": [
        "1206 "
       ]
      },
      {
       "output_type": "stream",
       "stream": "stdout",
       "text": [
        "1207 "
       ]
      },
      {
       "output_type": "stream",
       "stream": "stdout",
       "text": [
        "1208 "
       ]
      },
      {
       "output_type": "stream",
       "stream": "stdout",
       "text": [
        "1209 "
       ]
      },
      {
       "output_type": "stream",
       "stream": "stdout",
       "text": [
        "1210 "
       ]
      },
      {
       "output_type": "stream",
       "stream": "stdout",
       "text": [
        "1211 "
       ]
      },
      {
       "output_type": "stream",
       "stream": "stdout",
       "text": [
        "1212 "
       ]
      },
      {
       "output_type": "stream",
       "stream": "stdout",
       "text": [
        "1213 "
       ]
      },
      {
       "output_type": "stream",
       "stream": "stdout",
       "text": [
        "1214 "
       ]
      },
      {
       "output_type": "stream",
       "stream": "stdout",
       "text": [
        "1215 "
       ]
      },
      {
       "output_type": "stream",
       "stream": "stdout",
       "text": [
        "1216 "
       ]
      },
      {
       "output_type": "stream",
       "stream": "stdout",
       "text": [
        "1217 "
       ]
      },
      {
       "output_type": "stream",
       "stream": "stdout",
       "text": [
        "1218 "
       ]
      },
      {
       "output_type": "stream",
       "stream": "stdout",
       "text": [
        "1219 "
       ]
      },
      {
       "output_type": "stream",
       "stream": "stdout",
       "text": [
        "1220 "
       ]
      },
      {
       "output_type": "stream",
       "stream": "stdout",
       "text": [
        "1221 "
       ]
      },
      {
       "output_type": "stream",
       "stream": "stdout",
       "text": [
        "1222 "
       ]
      },
      {
       "output_type": "stream",
       "stream": "stdout",
       "text": [
        "1223 "
       ]
      },
      {
       "output_type": "stream",
       "stream": "stdout",
       "text": [
        "1224 "
       ]
      },
      {
       "output_type": "stream",
       "stream": "stdout",
       "text": [
        "1225 "
       ]
      },
      {
       "output_type": "stream",
       "stream": "stdout",
       "text": [
        "1226 "
       ]
      },
      {
       "output_type": "stream",
       "stream": "stdout",
       "text": [
        "1227 "
       ]
      },
      {
       "output_type": "stream",
       "stream": "stdout",
       "text": [
        "1228 "
       ]
      },
      {
       "output_type": "stream",
       "stream": "stdout",
       "text": [
        "1229 "
       ]
      },
      {
       "output_type": "stream",
       "stream": "stdout",
       "text": [
        "1230 "
       ]
      },
      {
       "output_type": "stream",
       "stream": "stdout",
       "text": [
        "1231 "
       ]
      },
      {
       "output_type": "stream",
       "stream": "stdout",
       "text": [
        "1232 "
       ]
      },
      {
       "output_type": "stream",
       "stream": "stdout",
       "text": [
        "1233 "
       ]
      },
      {
       "output_type": "stream",
       "stream": "stdout",
       "text": [
        "1234 "
       ]
      },
      {
       "output_type": "stream",
       "stream": "stdout",
       "text": [
        "1235 "
       ]
      },
      {
       "output_type": "stream",
       "stream": "stdout",
       "text": [
        "1236 "
       ]
      },
      {
       "output_type": "stream",
       "stream": "stdout",
       "text": [
        "1237 "
       ]
      },
      {
       "output_type": "stream",
       "stream": "stdout",
       "text": [
        "1238 "
       ]
      },
      {
       "output_type": "stream",
       "stream": "stdout",
       "text": [
        "1239 "
       ]
      },
      {
       "output_type": "stream",
       "stream": "stdout",
       "text": [
        "1240 "
       ]
      },
      {
       "output_type": "stream",
       "stream": "stdout",
       "text": [
        "1241 "
       ]
      },
      {
       "output_type": "stream",
       "stream": "stdout",
       "text": [
        "1242 "
       ]
      },
      {
       "output_type": "stream",
       "stream": "stdout",
       "text": [
        "1243 "
       ]
      },
      {
       "output_type": "stream",
       "stream": "stdout",
       "text": [
        "1244 "
       ]
      },
      {
       "output_type": "stream",
       "stream": "stdout",
       "text": [
        "1245 "
       ]
      },
      {
       "output_type": "stream",
       "stream": "stdout",
       "text": [
        "1246 "
       ]
      },
      {
       "output_type": "stream",
       "stream": "stdout",
       "text": [
        "1247 "
       ]
      },
      {
       "output_type": "stream",
       "stream": "stdout",
       "text": [
        "1248 "
       ]
      },
      {
       "output_type": "stream",
       "stream": "stdout",
       "text": [
        "1249 "
       ]
      },
      {
       "output_type": "stream",
       "stream": "stdout",
       "text": [
        "1250 "
       ]
      },
      {
       "output_type": "stream",
       "stream": "stdout",
       "text": [
        "1251 "
       ]
      },
      {
       "output_type": "stream",
       "stream": "stdout",
       "text": [
        "1252 "
       ]
      },
      {
       "output_type": "stream",
       "stream": "stdout",
       "text": [
        "1253 "
       ]
      },
      {
       "output_type": "stream",
       "stream": "stdout",
       "text": [
        "1254 "
       ]
      },
      {
       "output_type": "stream",
       "stream": "stdout",
       "text": [
        "1255 "
       ]
      },
      {
       "output_type": "stream",
       "stream": "stdout",
       "text": [
        "1256 "
       ]
      },
      {
       "output_type": "stream",
       "stream": "stdout",
       "text": [
        "1257 "
       ]
      },
      {
       "output_type": "stream",
       "stream": "stdout",
       "text": [
        "1258 "
       ]
      },
      {
       "output_type": "stream",
       "stream": "stdout",
       "text": [
        "1259 "
       ]
      },
      {
       "output_type": "stream",
       "stream": "stdout",
       "text": [
        "1260 "
       ]
      },
      {
       "output_type": "stream",
       "stream": "stdout",
       "text": [
        "1261 "
       ]
      },
      {
       "output_type": "stream",
       "stream": "stdout",
       "text": [
        "1262 "
       ]
      },
      {
       "output_type": "stream",
       "stream": "stdout",
       "text": [
        "1263 "
       ]
      },
      {
       "output_type": "stream",
       "stream": "stdout",
       "text": [
        "1264 "
       ]
      },
      {
       "output_type": "stream",
       "stream": "stdout",
       "text": [
        "1265 "
       ]
      },
      {
       "output_type": "stream",
       "stream": "stdout",
       "text": [
        "1266 "
       ]
      },
      {
       "output_type": "stream",
       "stream": "stdout",
       "text": [
        "1267 "
       ]
      },
      {
       "output_type": "stream",
       "stream": "stdout",
       "text": [
        "1268 "
       ]
      },
      {
       "output_type": "stream",
       "stream": "stdout",
       "text": [
        "1269 "
       ]
      },
      {
       "output_type": "stream",
       "stream": "stdout",
       "text": [
        "1270 "
       ]
      },
      {
       "output_type": "stream",
       "stream": "stdout",
       "text": [
        "1271 "
       ]
      },
      {
       "output_type": "stream",
       "stream": "stdout",
       "text": [
        "1272 "
       ]
      },
      {
       "output_type": "stream",
       "stream": "stdout",
       "text": [
        "1273 "
       ]
      },
      {
       "output_type": "stream",
       "stream": "stdout",
       "text": [
        "1274 "
       ]
      },
      {
       "output_type": "stream",
       "stream": "stdout",
       "text": [
        "1275 "
       ]
      },
      {
       "output_type": "stream",
       "stream": "stdout",
       "text": [
        "1276 "
       ]
      },
      {
       "output_type": "stream",
       "stream": "stdout",
       "text": [
        "1277 "
       ]
      },
      {
       "output_type": "stream",
       "stream": "stdout",
       "text": [
        "1278 "
       ]
      },
      {
       "output_type": "stream",
       "stream": "stdout",
       "text": [
        "1279 "
       ]
      },
      {
       "output_type": "stream",
       "stream": "stdout",
       "text": [
        "1280 "
       ]
      },
      {
       "output_type": "stream",
       "stream": "stdout",
       "text": [
        "1281 "
       ]
      },
      {
       "output_type": "stream",
       "stream": "stdout",
       "text": [
        "1282 "
       ]
      },
      {
       "output_type": "stream",
       "stream": "stdout",
       "text": [
        "1283 "
       ]
      },
      {
       "output_type": "stream",
       "stream": "stdout",
       "text": [
        "1284 "
       ]
      },
      {
       "output_type": "stream",
       "stream": "stdout",
       "text": [
        "1285 "
       ]
      },
      {
       "output_type": "stream",
       "stream": "stdout",
       "text": [
        "1286 "
       ]
      },
      {
       "output_type": "stream",
       "stream": "stdout",
       "text": [
        "1287 "
       ]
      },
      {
       "output_type": "stream",
       "stream": "stdout",
       "text": [
        "1288 "
       ]
      },
      {
       "output_type": "stream",
       "stream": "stdout",
       "text": [
        "1289 "
       ]
      },
      {
       "output_type": "stream",
       "stream": "stdout",
       "text": [
        "1290 "
       ]
      },
      {
       "output_type": "stream",
       "stream": "stdout",
       "text": [
        "1291 "
       ]
      },
      {
       "output_type": "stream",
       "stream": "stdout",
       "text": [
        "1292 "
       ]
      },
      {
       "output_type": "stream",
       "stream": "stdout",
       "text": [
        "1293 "
       ]
      },
      {
       "output_type": "stream",
       "stream": "stdout",
       "text": [
        "1294 "
       ]
      },
      {
       "output_type": "stream",
       "stream": "stdout",
       "text": [
        "1295 "
       ]
      },
      {
       "output_type": "stream",
       "stream": "stdout",
       "text": [
        "1296 "
       ]
      },
      {
       "output_type": "stream",
       "stream": "stdout",
       "text": [
        "1297 "
       ]
      },
      {
       "output_type": "stream",
       "stream": "stdout",
       "text": [
        "1298 "
       ]
      },
      {
       "output_type": "stream",
       "stream": "stdout",
       "text": [
        "1299 "
       ]
      },
      {
       "output_type": "stream",
       "stream": "stdout",
       "text": [
        "1300 "
       ]
      },
      {
       "output_type": "stream",
       "stream": "stdout",
       "text": [
        "1301 "
       ]
      },
      {
       "output_type": "stream",
       "stream": "stdout",
       "text": [
        "1302 "
       ]
      },
      {
       "output_type": "stream",
       "stream": "stdout",
       "text": [
        "1303 "
       ]
      },
      {
       "output_type": "stream",
       "stream": "stdout",
       "text": [
        "1304 "
       ]
      },
      {
       "output_type": "stream",
       "stream": "stdout",
       "text": [
        "1305 "
       ]
      },
      {
       "output_type": "stream",
       "stream": "stdout",
       "text": [
        "1306 "
       ]
      },
      {
       "output_type": "stream",
       "stream": "stdout",
       "text": [
        "1307 "
       ]
      },
      {
       "output_type": "stream",
       "stream": "stdout",
       "text": [
        "1308 "
       ]
      },
      {
       "output_type": "stream",
       "stream": "stdout",
       "text": [
        "1309 "
       ]
      },
      {
       "output_type": "stream",
       "stream": "stdout",
       "text": [
        "1310 "
       ]
      },
      {
       "output_type": "stream",
       "stream": "stdout",
       "text": [
        "1311 "
       ]
      },
      {
       "output_type": "stream",
       "stream": "stdout",
       "text": [
        "1312 "
       ]
      },
      {
       "output_type": "stream",
       "stream": "stdout",
       "text": [
        "1313 "
       ]
      },
      {
       "output_type": "stream",
       "stream": "stdout",
       "text": [
        "1314 "
       ]
      },
      {
       "output_type": "stream",
       "stream": "stdout",
       "text": [
        "1315 "
       ]
      },
      {
       "output_type": "stream",
       "stream": "stdout",
       "text": [
        "1316 "
       ]
      },
      {
       "output_type": "stream",
       "stream": "stdout",
       "text": [
        "1317 "
       ]
      },
      {
       "output_type": "stream",
       "stream": "stdout",
       "text": [
        "1318 "
       ]
      },
      {
       "output_type": "stream",
       "stream": "stdout",
       "text": [
        "1319 "
       ]
      },
      {
       "output_type": "stream",
       "stream": "stdout",
       "text": [
        "1320 "
       ]
      },
      {
       "output_type": "stream",
       "stream": "stdout",
       "text": [
        "1321 "
       ]
      },
      {
       "output_type": "stream",
       "stream": "stdout",
       "text": [
        "1322 "
       ]
      },
      {
       "output_type": "stream",
       "stream": "stdout",
       "text": [
        "1323 "
       ]
      },
      {
       "output_type": "stream",
       "stream": "stdout",
       "text": [
        "1324 "
       ]
      },
      {
       "output_type": "stream",
       "stream": "stdout",
       "text": [
        "1325 "
       ]
      },
      {
       "output_type": "stream",
       "stream": "stdout",
       "text": [
        "1326 "
       ]
      },
      {
       "output_type": "stream",
       "stream": "stdout",
       "text": [
        "1327 "
       ]
      },
      {
       "output_type": "stream",
       "stream": "stdout",
       "text": [
        "1328 "
       ]
      },
      {
       "output_type": "stream",
       "stream": "stdout",
       "text": [
        "1329 "
       ]
      },
      {
       "output_type": "stream",
       "stream": "stdout",
       "text": [
        "1330 "
       ]
      },
      {
       "output_type": "stream",
       "stream": "stdout",
       "text": [
        "1331 "
       ]
      },
      {
       "output_type": "stream",
       "stream": "stdout",
       "text": [
        "1332 "
       ]
      },
      {
       "output_type": "stream",
       "stream": "stdout",
       "text": [
        "1333 "
       ]
      },
      {
       "output_type": "stream",
       "stream": "stdout",
       "text": [
        "1334 "
       ]
      },
      {
       "output_type": "stream",
       "stream": "stdout",
       "text": [
        "1335 "
       ]
      },
      {
       "output_type": "stream",
       "stream": "stdout",
       "text": [
        "1336 "
       ]
      },
      {
       "output_type": "stream",
       "stream": "stdout",
       "text": [
        "1337 "
       ]
      },
      {
       "output_type": "stream",
       "stream": "stdout",
       "text": [
        "1338 "
       ]
      },
      {
       "output_type": "stream",
       "stream": "stdout",
       "text": [
        "1339 "
       ]
      },
      {
       "output_type": "stream",
       "stream": "stdout",
       "text": [
        "1340 "
       ]
      },
      {
       "output_type": "stream",
       "stream": "stdout",
       "text": [
        "1341 "
       ]
      },
      {
       "output_type": "stream",
       "stream": "stdout",
       "text": [
        "1342 "
       ]
      },
      {
       "output_type": "stream",
       "stream": "stdout",
       "text": [
        "1343 "
       ]
      },
      {
       "output_type": "stream",
       "stream": "stdout",
       "text": [
        "1344 "
       ]
      },
      {
       "output_type": "stream",
       "stream": "stdout",
       "text": [
        "1345 "
       ]
      },
      {
       "output_type": "stream",
       "stream": "stdout",
       "text": [
        "1346 "
       ]
      },
      {
       "output_type": "stream",
       "stream": "stdout",
       "text": [
        "1347 "
       ]
      },
      {
       "output_type": "stream",
       "stream": "stdout",
       "text": [
        "1348 "
       ]
      },
      {
       "output_type": "stream",
       "stream": "stdout",
       "text": [
        "1349 "
       ]
      },
      {
       "output_type": "stream",
       "stream": "stdout",
       "text": [
        "1350 "
       ]
      },
      {
       "output_type": "stream",
       "stream": "stdout",
       "text": [
        "1351 "
       ]
      },
      {
       "output_type": "stream",
       "stream": "stdout",
       "text": [
        "1352 "
       ]
      },
      {
       "output_type": "stream",
       "stream": "stdout",
       "text": [
        "1353 "
       ]
      },
      {
       "output_type": "stream",
       "stream": "stdout",
       "text": [
        "1354 "
       ]
      },
      {
       "output_type": "stream",
       "stream": "stdout",
       "text": [
        "1355 "
       ]
      },
      {
       "output_type": "stream",
       "stream": "stdout",
       "text": [
        "1356 "
       ]
      },
      {
       "output_type": "stream",
       "stream": "stdout",
       "text": [
        "1357 "
       ]
      },
      {
       "output_type": "stream",
       "stream": "stdout",
       "text": [
        "1358 "
       ]
      },
      {
       "output_type": "stream",
       "stream": "stdout",
       "text": [
        "1359 "
       ]
      },
      {
       "output_type": "stream",
       "stream": "stdout",
       "text": [
        "1360 "
       ]
      },
      {
       "output_type": "stream",
       "stream": "stdout",
       "text": [
        "1361 "
       ]
      },
      {
       "output_type": "stream",
       "stream": "stdout",
       "text": [
        "1362 "
       ]
      },
      {
       "output_type": "stream",
       "stream": "stdout",
       "text": [
        "1363 "
       ]
      },
      {
       "output_type": "stream",
       "stream": "stdout",
       "text": [
        "1364 "
       ]
      },
      {
       "output_type": "stream",
       "stream": "stdout",
       "text": [
        "1365 "
       ]
      },
      {
       "output_type": "stream",
       "stream": "stdout",
       "text": [
        "1366 "
       ]
      },
      {
       "output_type": "stream",
       "stream": "stdout",
       "text": [
        "1367 "
       ]
      },
      {
       "output_type": "stream",
       "stream": "stdout",
       "text": [
        "1368 "
       ]
      },
      {
       "output_type": "stream",
       "stream": "stdout",
       "text": [
        "1369 "
       ]
      },
      {
       "output_type": "stream",
       "stream": "stdout",
       "text": [
        "1370 "
       ]
      },
      {
       "output_type": "stream",
       "stream": "stdout",
       "text": [
        "1371 "
       ]
      },
      {
       "output_type": "stream",
       "stream": "stdout",
       "text": [
        "1372 "
       ]
      },
      {
       "output_type": "stream",
       "stream": "stdout",
       "text": [
        "1373 "
       ]
      },
      {
       "output_type": "stream",
       "stream": "stdout",
       "text": [
        "1374 "
       ]
      },
      {
       "output_type": "stream",
       "stream": "stdout",
       "text": [
        "1375 "
       ]
      },
      {
       "output_type": "stream",
       "stream": "stdout",
       "text": [
        "1376 "
       ]
      },
      {
       "output_type": "stream",
       "stream": "stdout",
       "text": [
        "1377 "
       ]
      },
      {
       "output_type": "stream",
       "stream": "stdout",
       "text": [
        "1378 "
       ]
      },
      {
       "output_type": "stream",
       "stream": "stdout",
       "text": [
        "1379 "
       ]
      },
      {
       "output_type": "stream",
       "stream": "stdout",
       "text": [
        "1380 "
       ]
      },
      {
       "output_type": "stream",
       "stream": "stdout",
       "text": [
        "1381 "
       ]
      },
      {
       "output_type": "stream",
       "stream": "stdout",
       "text": [
        "1382 "
       ]
      },
      {
       "output_type": "stream",
       "stream": "stdout",
       "text": [
        "1383 "
       ]
      },
      {
       "output_type": "stream",
       "stream": "stdout",
       "text": [
        "1384 "
       ]
      },
      {
       "output_type": "stream",
       "stream": "stdout",
       "text": [
        "1385 "
       ]
      },
      {
       "output_type": "stream",
       "stream": "stdout",
       "text": [
        "1386 "
       ]
      },
      {
       "output_type": "stream",
       "stream": "stdout",
       "text": [
        "1387 "
       ]
      },
      {
       "output_type": "stream",
       "stream": "stdout",
       "text": [
        "1388 "
       ]
      },
      {
       "output_type": "stream",
       "stream": "stdout",
       "text": [
        "1389 "
       ]
      },
      {
       "output_type": "stream",
       "stream": "stdout",
       "text": [
        "1390 "
       ]
      },
      {
       "output_type": "stream",
       "stream": "stdout",
       "text": [
        "1391 "
       ]
      },
      {
       "output_type": "stream",
       "stream": "stdout",
       "text": [
        "1392 "
       ]
      },
      {
       "output_type": "stream",
       "stream": "stdout",
       "text": [
        "1393 "
       ]
      },
      {
       "output_type": "stream",
       "stream": "stdout",
       "text": [
        "1394 "
       ]
      },
      {
       "output_type": "stream",
       "stream": "stdout",
       "text": [
        "1395 "
       ]
      },
      {
       "output_type": "stream",
       "stream": "stdout",
       "text": [
        "1396 "
       ]
      },
      {
       "output_type": "stream",
       "stream": "stdout",
       "text": [
        "1397 "
       ]
      },
      {
       "output_type": "stream",
       "stream": "stdout",
       "text": [
        "1398 "
       ]
      },
      {
       "output_type": "stream",
       "stream": "stdout",
       "text": [
        "1399 "
       ]
      },
      {
       "output_type": "stream",
       "stream": "stdout",
       "text": [
        "1400 "
       ]
      },
      {
       "output_type": "stream",
       "stream": "stdout",
       "text": [
        "1401 "
       ]
      },
      {
       "output_type": "stream",
       "stream": "stdout",
       "text": [
        "1402 "
       ]
      },
      {
       "output_type": "stream",
       "stream": "stdout",
       "text": [
        "1403 "
       ]
      },
      {
       "output_type": "stream",
       "stream": "stdout",
       "text": [
        "1404 "
       ]
      },
      {
       "output_type": "stream",
       "stream": "stdout",
       "text": [
        "1405 "
       ]
      },
      {
       "output_type": "stream",
       "stream": "stdout",
       "text": [
        "1406 "
       ]
      },
      {
       "output_type": "stream",
       "stream": "stdout",
       "text": [
        "1407 "
       ]
      },
      {
       "output_type": "stream",
       "stream": "stdout",
       "text": [
        "1408 "
       ]
      },
      {
       "output_type": "stream",
       "stream": "stdout",
       "text": [
        "1409 "
       ]
      },
      {
       "output_type": "stream",
       "stream": "stdout",
       "text": [
        "1410 "
       ]
      },
      {
       "output_type": "stream",
       "stream": "stdout",
       "text": [
        "1411 "
       ]
      },
      {
       "output_type": "stream",
       "stream": "stdout",
       "text": [
        "1412 "
       ]
      },
      {
       "output_type": "stream",
       "stream": "stdout",
       "text": [
        "1413 "
       ]
      },
      {
       "output_type": "stream",
       "stream": "stdout",
       "text": [
        "1414 "
       ]
      },
      {
       "output_type": "stream",
       "stream": "stdout",
       "text": [
        "1415 "
       ]
      },
      {
       "output_type": "stream",
       "stream": "stdout",
       "text": [
        "1416 "
       ]
      },
      {
       "output_type": "stream",
       "stream": "stdout",
       "text": [
        "1417 "
       ]
      },
      {
       "output_type": "stream",
       "stream": "stdout",
       "text": [
        "1418 "
       ]
      },
      {
       "output_type": "stream",
       "stream": "stdout",
       "text": [
        "1419 "
       ]
      },
      {
       "output_type": "stream",
       "stream": "stdout",
       "text": [
        "1420 "
       ]
      },
      {
       "output_type": "stream",
       "stream": "stdout",
       "text": [
        "1421 "
       ]
      },
      {
       "output_type": "stream",
       "stream": "stdout",
       "text": [
        "1422 "
       ]
      },
      {
       "output_type": "stream",
       "stream": "stdout",
       "text": [
        "1423 "
       ]
      },
      {
       "output_type": "stream",
       "stream": "stdout",
       "text": [
        "1424 "
       ]
      },
      {
       "output_type": "stream",
       "stream": "stdout",
       "text": [
        "1425 "
       ]
      },
      {
       "output_type": "stream",
       "stream": "stdout",
       "text": [
        "1426 "
       ]
      },
      {
       "output_type": "stream",
       "stream": "stdout",
       "text": [
        "1427 "
       ]
      },
      {
       "output_type": "stream",
       "stream": "stdout",
       "text": [
        "1428 "
       ]
      },
      {
       "output_type": "stream",
       "stream": "stdout",
       "text": [
        "1429 "
       ]
      },
      {
       "output_type": "stream",
       "stream": "stdout",
       "text": [
        "1430 "
       ]
      },
      {
       "output_type": "stream",
       "stream": "stdout",
       "text": [
        "1431 "
       ]
      },
      {
       "output_type": "stream",
       "stream": "stdout",
       "text": [
        "1432 "
       ]
      },
      {
       "output_type": "stream",
       "stream": "stdout",
       "text": [
        "1433 "
       ]
      },
      {
       "output_type": "stream",
       "stream": "stdout",
       "text": [
        "1434 "
       ]
      },
      {
       "output_type": "stream",
       "stream": "stdout",
       "text": [
        "1435 "
       ]
      },
      {
       "output_type": "stream",
       "stream": "stdout",
       "text": [
        "1436 "
       ]
      },
      {
       "output_type": "stream",
       "stream": "stdout",
       "text": [
        "1437 "
       ]
      },
      {
       "output_type": "stream",
       "stream": "stdout",
       "text": [
        "1438 "
       ]
      },
      {
       "output_type": "stream",
       "stream": "stdout",
       "text": [
        "1439 "
       ]
      },
      {
       "output_type": "stream",
       "stream": "stdout",
       "text": [
        "1440 "
       ]
      },
      {
       "output_type": "stream",
       "stream": "stdout",
       "text": [
        "1441 "
       ]
      },
      {
       "output_type": "stream",
       "stream": "stdout",
       "text": [
        "1442 "
       ]
      },
      {
       "output_type": "stream",
       "stream": "stdout",
       "text": [
        "1443 "
       ]
      },
      {
       "output_type": "stream",
       "stream": "stdout",
       "text": [
        "1444 "
       ]
      },
      {
       "output_type": "stream",
       "stream": "stdout",
       "text": [
        "1445 "
       ]
      },
      {
       "output_type": "stream",
       "stream": "stdout",
       "text": [
        "1446 "
       ]
      },
      {
       "output_type": "stream",
       "stream": "stdout",
       "text": [
        "1447 "
       ]
      },
      {
       "output_type": "stream",
       "stream": "stdout",
       "text": [
        "1448 "
       ]
      },
      {
       "output_type": "stream",
       "stream": "stdout",
       "text": [
        "1449 "
       ]
      },
      {
       "output_type": "stream",
       "stream": "stdout",
       "text": [
        "1450 "
       ]
      },
      {
       "output_type": "stream",
       "stream": "stdout",
       "text": [
        "1451 "
       ]
      },
      {
       "output_type": "stream",
       "stream": "stdout",
       "text": [
        "1452 "
       ]
      },
      {
       "output_type": "stream",
       "stream": "stdout",
       "text": [
        "1453 "
       ]
      },
      {
       "output_type": "stream",
       "stream": "stdout",
       "text": [
        "1454 "
       ]
      },
      {
       "output_type": "stream",
       "stream": "stdout",
       "text": [
        "1455 "
       ]
      },
      {
       "output_type": "stream",
       "stream": "stdout",
       "text": [
        "1456 "
       ]
      },
      {
       "output_type": "stream",
       "stream": "stdout",
       "text": [
        "1457 "
       ]
      },
      {
       "output_type": "stream",
       "stream": "stdout",
       "text": [
        "1458 "
       ]
      },
      {
       "output_type": "stream",
       "stream": "stdout",
       "text": [
        "1459 "
       ]
      },
      {
       "output_type": "stream",
       "stream": "stdout",
       "text": [
        "1460 "
       ]
      },
      {
       "output_type": "stream",
       "stream": "stdout",
       "text": [
        "1461 "
       ]
      },
      {
       "output_type": "stream",
       "stream": "stdout",
       "text": [
        "1462 "
       ]
      },
      {
       "output_type": "stream",
       "stream": "stdout",
       "text": [
        "1463 "
       ]
      },
      {
       "output_type": "stream",
       "stream": "stdout",
       "text": [
        "1464 "
       ]
      },
      {
       "output_type": "stream",
       "stream": "stdout",
       "text": [
        "1465 "
       ]
      },
      {
       "output_type": "stream",
       "stream": "stdout",
       "text": [
        "1466 "
       ]
      },
      {
       "output_type": "stream",
       "stream": "stdout",
       "text": [
        "1467 "
       ]
      },
      {
       "output_type": "stream",
       "stream": "stdout",
       "text": [
        "1468 "
       ]
      },
      {
       "output_type": "stream",
       "stream": "stdout",
       "text": [
        "1469 "
       ]
      },
      {
       "output_type": "stream",
       "stream": "stdout",
       "text": [
        "1470 "
       ]
      },
      {
       "output_type": "stream",
       "stream": "stdout",
       "text": [
        "1471 "
       ]
      },
      {
       "output_type": "stream",
       "stream": "stdout",
       "text": [
        "1472 "
       ]
      },
      {
       "output_type": "stream",
       "stream": "stdout",
       "text": [
        "1473 "
       ]
      },
      {
       "output_type": "stream",
       "stream": "stdout",
       "text": [
        "1474 "
       ]
      },
      {
       "output_type": "stream",
       "stream": "stdout",
       "text": [
        "1475 "
       ]
      },
      {
       "output_type": "stream",
       "stream": "stdout",
       "text": [
        "1476 "
       ]
      },
      {
       "output_type": "stream",
       "stream": "stdout",
       "text": [
        "1477 "
       ]
      },
      {
       "output_type": "stream",
       "stream": "stdout",
       "text": [
        "1478 "
       ]
      },
      {
       "output_type": "stream",
       "stream": "stdout",
       "text": [
        "1479 "
       ]
      },
      {
       "output_type": "stream",
       "stream": "stdout",
       "text": [
        "1480 "
       ]
      },
      {
       "output_type": "stream",
       "stream": "stdout",
       "text": [
        "1481 "
       ]
      },
      {
       "output_type": "stream",
       "stream": "stdout",
       "text": [
        "1482 "
       ]
      },
      {
       "output_type": "stream",
       "stream": "stdout",
       "text": [
        "1483 "
       ]
      },
      {
       "output_type": "stream",
       "stream": "stdout",
       "text": [
        "1484 "
       ]
      },
      {
       "output_type": "stream",
       "stream": "stdout",
       "text": [
        "1485 "
       ]
      },
      {
       "output_type": "stream",
       "stream": "stdout",
       "text": [
        "1486 "
       ]
      },
      {
       "output_type": "stream",
       "stream": "stdout",
       "text": [
        "1487 "
       ]
      },
      {
       "output_type": "stream",
       "stream": "stdout",
       "text": [
        "1488 "
       ]
      },
      {
       "output_type": "stream",
       "stream": "stdout",
       "text": [
        "1489 "
       ]
      },
      {
       "output_type": "stream",
       "stream": "stdout",
       "text": [
        "1490 "
       ]
      },
      {
       "output_type": "stream",
       "stream": "stdout",
       "text": [
        "1491 "
       ]
      },
      {
       "output_type": "stream",
       "stream": "stdout",
       "text": [
        "1492 "
       ]
      },
      {
       "output_type": "stream",
       "stream": "stdout",
       "text": [
        "1493 "
       ]
      },
      {
       "output_type": "stream",
       "stream": "stdout",
       "text": [
        "1494 "
       ]
      },
      {
       "output_type": "stream",
       "stream": "stdout",
       "text": [
        "1495 "
       ]
      },
      {
       "output_type": "stream",
       "stream": "stdout",
       "text": [
        "1496 "
       ]
      },
      {
       "output_type": "stream",
       "stream": "stdout",
       "text": [
        "1497 "
       ]
      },
      {
       "output_type": "stream",
       "stream": "stdout",
       "text": [
        "1498 "
       ]
      },
      {
       "output_type": "stream",
       "stream": "stdout",
       "text": [
        "1499 "
       ]
      },
      {
       "output_type": "stream",
       "stream": "stdout",
       "text": [
        "1500 "
       ]
      },
      {
       "output_type": "stream",
       "stream": "stdout",
       "text": [
        "1501 "
       ]
      },
      {
       "output_type": "stream",
       "stream": "stdout",
       "text": [
        "1502 "
       ]
      },
      {
       "output_type": "stream",
       "stream": "stdout",
       "text": [
        "1503 "
       ]
      },
      {
       "output_type": "stream",
       "stream": "stdout",
       "text": [
        "1504 "
       ]
      },
      {
       "output_type": "stream",
       "stream": "stdout",
       "text": [
        "1505 "
       ]
      },
      {
       "output_type": "stream",
       "stream": "stdout",
       "text": [
        "1506 "
       ]
      },
      {
       "output_type": "stream",
       "stream": "stdout",
       "text": [
        "1507 "
       ]
      },
      {
       "output_type": "stream",
       "stream": "stdout",
       "text": [
        "1508 "
       ]
      },
      {
       "output_type": "stream",
       "stream": "stdout",
       "text": [
        "1509 "
       ]
      },
      {
       "output_type": "stream",
       "stream": "stdout",
       "text": [
        "1510 "
       ]
      },
      {
       "output_type": "stream",
       "stream": "stdout",
       "text": [
        "1511 "
       ]
      },
      {
       "output_type": "stream",
       "stream": "stdout",
       "text": [
        "1512 "
       ]
      },
      {
       "output_type": "stream",
       "stream": "stdout",
       "text": [
        "1513 "
       ]
      },
      {
       "output_type": "stream",
       "stream": "stdout",
       "text": [
        "1514 "
       ]
      },
      {
       "output_type": "stream",
       "stream": "stdout",
       "text": [
        "1515 "
       ]
      },
      {
       "output_type": "stream",
       "stream": "stdout",
       "text": [
        "1516 "
       ]
      },
      {
       "output_type": "stream",
       "stream": "stdout",
       "text": [
        "1517 "
       ]
      },
      {
       "output_type": "stream",
       "stream": "stdout",
       "text": [
        "1518 "
       ]
      },
      {
       "output_type": "stream",
       "stream": "stdout",
       "text": [
        "1519 "
       ]
      },
      {
       "output_type": "stream",
       "stream": "stdout",
       "text": [
        "1520 "
       ]
      },
      {
       "output_type": "stream",
       "stream": "stdout",
       "text": [
        "1521 "
       ]
      },
      {
       "output_type": "stream",
       "stream": "stdout",
       "text": [
        "1522 "
       ]
      },
      {
       "output_type": "stream",
       "stream": "stdout",
       "text": [
        "1523 "
       ]
      },
      {
       "output_type": "stream",
       "stream": "stdout",
       "text": [
        "1524 "
       ]
      },
      {
       "output_type": "stream",
       "stream": "stdout",
       "text": [
        "1525 "
       ]
      },
      {
       "output_type": "stream",
       "stream": "stdout",
       "text": [
        "1526 "
       ]
      },
      {
       "output_type": "stream",
       "stream": "stdout",
       "text": [
        "1527 "
       ]
      },
      {
       "output_type": "stream",
       "stream": "stdout",
       "text": [
        "1528 "
       ]
      },
      {
       "output_type": "stream",
       "stream": "stdout",
       "text": [
        "1529 "
       ]
      },
      {
       "output_type": "stream",
       "stream": "stdout",
       "text": [
        "1530 "
       ]
      },
      {
       "output_type": "stream",
       "stream": "stdout",
       "text": [
        "1531 "
       ]
      },
      {
       "output_type": "stream",
       "stream": "stdout",
       "text": [
        "1532 "
       ]
      },
      {
       "output_type": "stream",
       "stream": "stdout",
       "text": [
        "1533 "
       ]
      },
      {
       "output_type": "stream",
       "stream": "stdout",
       "text": [
        "1534 "
       ]
      },
      {
       "output_type": "stream",
       "stream": "stdout",
       "text": [
        "1535 "
       ]
      },
      {
       "output_type": "stream",
       "stream": "stdout",
       "text": [
        "1536 "
       ]
      },
      {
       "output_type": "stream",
       "stream": "stdout",
       "text": [
        "1537 "
       ]
      },
      {
       "output_type": "stream",
       "stream": "stdout",
       "text": [
        "1538 "
       ]
      },
      {
       "output_type": "stream",
       "stream": "stdout",
       "text": [
        "1539 "
       ]
      },
      {
       "output_type": "stream",
       "stream": "stdout",
       "text": [
        "1540 "
       ]
      },
      {
       "output_type": "stream",
       "stream": "stdout",
       "text": [
        "1541 "
       ]
      },
      {
       "output_type": "stream",
       "stream": "stdout",
       "text": [
        "1542 "
       ]
      },
      {
       "output_type": "stream",
       "stream": "stdout",
       "text": [
        "1543 "
       ]
      },
      {
       "output_type": "stream",
       "stream": "stdout",
       "text": [
        "1544 "
       ]
      },
      {
       "output_type": "stream",
       "stream": "stdout",
       "text": [
        "1545 "
       ]
      },
      {
       "output_type": "stream",
       "stream": "stdout",
       "text": [
        "1546 "
       ]
      },
      {
       "output_type": "stream",
       "stream": "stdout",
       "text": [
        "1547 "
       ]
      },
      {
       "output_type": "stream",
       "stream": "stdout",
       "text": [
        "1548 "
       ]
      },
      {
       "output_type": "stream",
       "stream": "stdout",
       "text": [
        "1549 "
       ]
      },
      {
       "output_type": "stream",
       "stream": "stdout",
       "text": [
        "1550 "
       ]
      },
      {
       "output_type": "stream",
       "stream": "stdout",
       "text": [
        "1551 "
       ]
      },
      {
       "output_type": "stream",
       "stream": "stdout",
       "text": [
        "1552 "
       ]
      },
      {
       "output_type": "stream",
       "stream": "stdout",
       "text": [
        "1553 "
       ]
      },
      {
       "output_type": "stream",
       "stream": "stdout",
       "text": [
        "1554 "
       ]
      },
      {
       "output_type": "stream",
       "stream": "stdout",
       "text": [
        "1555 "
       ]
      },
      {
       "output_type": "stream",
       "stream": "stdout",
       "text": [
        "1556 "
       ]
      },
      {
       "output_type": "stream",
       "stream": "stdout",
       "text": [
        "1557 "
       ]
      },
      {
       "output_type": "stream",
       "stream": "stdout",
       "text": [
        "1558 "
       ]
      },
      {
       "output_type": "stream",
       "stream": "stdout",
       "text": [
        "1559 "
       ]
      },
      {
       "output_type": "stream",
       "stream": "stdout",
       "text": [
        "1560 "
       ]
      },
      {
       "output_type": "stream",
       "stream": "stdout",
       "text": [
        "1561 "
       ]
      },
      {
       "output_type": "stream",
       "stream": "stdout",
       "text": [
        "1562 "
       ]
      },
      {
       "output_type": "stream",
       "stream": "stdout",
       "text": [
        "1563 "
       ]
      },
      {
       "output_type": "stream",
       "stream": "stdout",
       "text": [
        "1564 "
       ]
      },
      {
       "output_type": "stream",
       "stream": "stdout",
       "text": [
        "1565 "
       ]
      },
      {
       "output_type": "stream",
       "stream": "stdout",
       "text": [
        "1566 "
       ]
      },
      {
       "output_type": "stream",
       "stream": "stdout",
       "text": [
        "1567 "
       ]
      },
      {
       "output_type": "stream",
       "stream": "stdout",
       "text": [
        "1568 "
       ]
      },
      {
       "output_type": "stream",
       "stream": "stdout",
       "text": [
        "1569 "
       ]
      },
      {
       "output_type": "stream",
       "stream": "stdout",
       "text": [
        "1570 "
       ]
      },
      {
       "output_type": "stream",
       "stream": "stdout",
       "text": [
        "1571 "
       ]
      },
      {
       "output_type": "stream",
       "stream": "stdout",
       "text": [
        "1572 "
       ]
      },
      {
       "output_type": "stream",
       "stream": "stdout",
       "text": [
        "1573 "
       ]
      },
      {
       "output_type": "stream",
       "stream": "stdout",
       "text": [
        "1574 "
       ]
      },
      {
       "output_type": "stream",
       "stream": "stdout",
       "text": [
        "1575 "
       ]
      },
      {
       "output_type": "stream",
       "stream": "stdout",
       "text": [
        "1576 "
       ]
      },
      {
       "output_type": "stream",
       "stream": "stdout",
       "text": [
        "1577 "
       ]
      },
      {
       "output_type": "stream",
       "stream": "stdout",
       "text": [
        "1578 "
       ]
      },
      {
       "output_type": "stream",
       "stream": "stdout",
       "text": [
        "1579 "
       ]
      },
      {
       "output_type": "stream",
       "stream": "stdout",
       "text": [
        "1580 "
       ]
      },
      {
       "output_type": "stream",
       "stream": "stdout",
       "text": [
        "1581 "
       ]
      },
      {
       "output_type": "stream",
       "stream": "stdout",
       "text": [
        "1582 "
       ]
      },
      {
       "output_type": "stream",
       "stream": "stdout",
       "text": [
        "1583 "
       ]
      },
      {
       "output_type": "stream",
       "stream": "stdout",
       "text": [
        "1584 "
       ]
      },
      {
       "output_type": "stream",
       "stream": "stdout",
       "text": [
        "1585 "
       ]
      },
      {
       "output_type": "stream",
       "stream": "stdout",
       "text": [
        "1586 "
       ]
      },
      {
       "output_type": "stream",
       "stream": "stdout",
       "text": [
        "1587 "
       ]
      },
      {
       "output_type": "stream",
       "stream": "stdout",
       "text": [
        "1588 "
       ]
      },
      {
       "output_type": "stream",
       "stream": "stdout",
       "text": [
        "1589 "
       ]
      },
      {
       "output_type": "stream",
       "stream": "stdout",
       "text": [
        "1590 "
       ]
      },
      {
       "output_type": "stream",
       "stream": "stdout",
       "text": [
        "1591 "
       ]
      },
      {
       "output_type": "stream",
       "stream": "stdout",
       "text": [
        "1592 "
       ]
      },
      {
       "output_type": "stream",
       "stream": "stdout",
       "text": [
        "1593 "
       ]
      },
      {
       "output_type": "stream",
       "stream": "stdout",
       "text": [
        "1594 "
       ]
      },
      {
       "output_type": "stream",
       "stream": "stdout",
       "text": [
        "1595 "
       ]
      },
      {
       "output_type": "stream",
       "stream": "stdout",
       "text": [
        "1596 "
       ]
      },
      {
       "output_type": "stream",
       "stream": "stdout",
       "text": [
        "1597 "
       ]
      },
      {
       "output_type": "stream",
       "stream": "stdout",
       "text": [
        "1598 "
       ]
      },
      {
       "output_type": "stream",
       "stream": "stdout",
       "text": [
        "1599 "
       ]
      },
      {
       "output_type": "stream",
       "stream": "stdout",
       "text": [
        "1600 "
       ]
      },
      {
       "output_type": "stream",
       "stream": "stdout",
       "text": [
        "1601 "
       ]
      },
      {
       "output_type": "stream",
       "stream": "stdout",
       "text": [
        "1602 "
       ]
      },
      {
       "output_type": "stream",
       "stream": "stdout",
       "text": [
        "1603 "
       ]
      },
      {
       "output_type": "stream",
       "stream": "stdout",
       "text": [
        "1604 "
       ]
      },
      {
       "output_type": "stream",
       "stream": "stdout",
       "text": [
        "1605 "
       ]
      },
      {
       "output_type": "stream",
       "stream": "stdout",
       "text": [
        "1606 "
       ]
      },
      {
       "output_type": "stream",
       "stream": "stdout",
       "text": [
        "1607 "
       ]
      },
      {
       "output_type": "stream",
       "stream": "stdout",
       "text": [
        "1608 "
       ]
      },
      {
       "output_type": "stream",
       "stream": "stdout",
       "text": [
        "1609 "
       ]
      },
      {
       "output_type": "stream",
       "stream": "stdout",
       "text": [
        "1610 "
       ]
      },
      {
       "output_type": "stream",
       "stream": "stdout",
       "text": [
        "1611 "
       ]
      },
      {
       "output_type": "stream",
       "stream": "stdout",
       "text": [
        "1612 "
       ]
      },
      {
       "output_type": "stream",
       "stream": "stdout",
       "text": [
        "1613 "
       ]
      },
      {
       "output_type": "stream",
       "stream": "stdout",
       "text": [
        "1614 "
       ]
      },
      {
       "output_type": "stream",
       "stream": "stdout",
       "text": [
        "1615 "
       ]
      },
      {
       "output_type": "stream",
       "stream": "stdout",
       "text": [
        "1616 "
       ]
      },
      {
       "output_type": "stream",
       "stream": "stdout",
       "text": [
        "1617 "
       ]
      },
      {
       "output_type": "stream",
       "stream": "stdout",
       "text": [
        "1618 "
       ]
      },
      {
       "output_type": "stream",
       "stream": "stdout",
       "text": [
        "1619 "
       ]
      },
      {
       "output_type": "stream",
       "stream": "stdout",
       "text": [
        "1620 "
       ]
      },
      {
       "output_type": "stream",
       "stream": "stdout",
       "text": [
        "1621 "
       ]
      },
      {
       "output_type": "stream",
       "stream": "stdout",
       "text": [
        "1622 "
       ]
      },
      {
       "output_type": "stream",
       "stream": "stdout",
       "text": [
        "1623 "
       ]
      },
      {
       "output_type": "stream",
       "stream": "stdout",
       "text": [
        "1624 "
       ]
      },
      {
       "output_type": "stream",
       "stream": "stdout",
       "text": [
        "1625 "
       ]
      },
      {
       "output_type": "stream",
       "stream": "stdout",
       "text": [
        "1626 "
       ]
      },
      {
       "output_type": "stream",
       "stream": "stdout",
       "text": [
        "1627 "
       ]
      },
      {
       "output_type": "stream",
       "stream": "stdout",
       "text": [
        "1628 "
       ]
      },
      {
       "output_type": "stream",
       "stream": "stdout",
       "text": [
        "1629 "
       ]
      },
      {
       "output_type": "stream",
       "stream": "stdout",
       "text": [
        "1630 "
       ]
      },
      {
       "output_type": "stream",
       "stream": "stdout",
       "text": [
        "1631 "
       ]
      },
      {
       "output_type": "stream",
       "stream": "stdout",
       "text": [
        "1632 "
       ]
      },
      {
       "output_type": "stream",
       "stream": "stdout",
       "text": [
        "1633 "
       ]
      },
      {
       "output_type": "stream",
       "stream": "stdout",
       "text": [
        "1634 "
       ]
      },
      {
       "output_type": "stream",
       "stream": "stdout",
       "text": [
        "1635 "
       ]
      },
      {
       "output_type": "stream",
       "stream": "stdout",
       "text": [
        "1636 "
       ]
      },
      {
       "output_type": "stream",
       "stream": "stdout",
       "text": [
        "1637 "
       ]
      },
      {
       "output_type": "stream",
       "stream": "stdout",
       "text": [
        "1638 "
       ]
      },
      {
       "output_type": "stream",
       "stream": "stdout",
       "text": [
        "1639 "
       ]
      },
      {
       "output_type": "stream",
       "stream": "stdout",
       "text": [
        "1640 "
       ]
      },
      {
       "output_type": "stream",
       "stream": "stdout",
       "text": [
        "1641 "
       ]
      },
      {
       "output_type": "stream",
       "stream": "stdout",
       "text": [
        "1642 "
       ]
      },
      {
       "output_type": "stream",
       "stream": "stdout",
       "text": [
        "1643 "
       ]
      },
      {
       "output_type": "stream",
       "stream": "stdout",
       "text": [
        "1644 "
       ]
      },
      {
       "output_type": "stream",
       "stream": "stdout",
       "text": [
        "1645 "
       ]
      },
      {
       "output_type": "stream",
       "stream": "stdout",
       "text": [
        "1646 "
       ]
      },
      {
       "output_type": "stream",
       "stream": "stdout",
       "text": [
        "1647 "
       ]
      },
      {
       "output_type": "stream",
       "stream": "stdout",
       "text": [
        "1648 "
       ]
      },
      {
       "output_type": "stream",
       "stream": "stdout",
       "text": [
        "1649 "
       ]
      },
      {
       "output_type": "stream",
       "stream": "stdout",
       "text": [
        "1650 "
       ]
      },
      {
       "output_type": "stream",
       "stream": "stdout",
       "text": [
        "1651 "
       ]
      },
      {
       "output_type": "stream",
       "stream": "stdout",
       "text": [
        "1652 "
       ]
      },
      {
       "output_type": "stream",
       "stream": "stdout",
       "text": [
        "1653 "
       ]
      },
      {
       "output_type": "stream",
       "stream": "stdout",
       "text": [
        "1654 "
       ]
      },
      {
       "output_type": "stream",
       "stream": "stdout",
       "text": [
        "1655 "
       ]
      },
      {
       "output_type": "stream",
       "stream": "stdout",
       "text": [
        "1656 "
       ]
      },
      {
       "output_type": "stream",
       "stream": "stdout",
       "text": [
        "1657 "
       ]
      },
      {
       "output_type": "stream",
       "stream": "stdout",
       "text": [
        "1658 "
       ]
      },
      {
       "output_type": "stream",
       "stream": "stdout",
       "text": [
        "1659 "
       ]
      },
      {
       "output_type": "stream",
       "stream": "stdout",
       "text": [
        "1660 "
       ]
      },
      {
       "output_type": "stream",
       "stream": "stdout",
       "text": [
        "1661 "
       ]
      },
      {
       "output_type": "stream",
       "stream": "stdout",
       "text": [
        "1662 "
       ]
      },
      {
       "output_type": "stream",
       "stream": "stdout",
       "text": [
        "1663 "
       ]
      },
      {
       "output_type": "stream",
       "stream": "stdout",
       "text": [
        "1664 "
       ]
      },
      {
       "output_type": "stream",
       "stream": "stdout",
       "text": [
        "1665 "
       ]
      },
      {
       "output_type": "stream",
       "stream": "stdout",
       "text": [
        "1666 "
       ]
      },
      {
       "output_type": "stream",
       "stream": "stdout",
       "text": [
        "1667 "
       ]
      },
      {
       "output_type": "stream",
       "stream": "stdout",
       "text": [
        "1668 "
       ]
      },
      {
       "output_type": "stream",
       "stream": "stdout",
       "text": [
        "1669 "
       ]
      },
      {
       "output_type": "stream",
       "stream": "stdout",
       "text": [
        "1670 "
       ]
      },
      {
       "output_type": "stream",
       "stream": "stdout",
       "text": [
        "1671 "
       ]
      },
      {
       "output_type": "stream",
       "stream": "stdout",
       "text": [
        "1672 "
       ]
      },
      {
       "output_type": "stream",
       "stream": "stdout",
       "text": [
        "1673 "
       ]
      },
      {
       "output_type": "stream",
       "stream": "stdout",
       "text": [
        "1674 "
       ]
      },
      {
       "output_type": "stream",
       "stream": "stdout",
       "text": [
        "1675 "
       ]
      },
      {
       "output_type": "stream",
       "stream": "stdout",
       "text": [
        "1676 "
       ]
      },
      {
       "output_type": "stream",
       "stream": "stdout",
       "text": [
        "1677 "
       ]
      },
      {
       "output_type": "stream",
       "stream": "stdout",
       "text": [
        "1678 "
       ]
      },
      {
       "output_type": "stream",
       "stream": "stdout",
       "text": [
        "1679 "
       ]
      },
      {
       "output_type": "stream",
       "stream": "stdout",
       "text": [
        "1680 "
       ]
      },
      {
       "output_type": "stream",
       "stream": "stdout",
       "text": [
        "1681 "
       ]
      },
      {
       "output_type": "stream",
       "stream": "stdout",
       "text": [
        "1682 "
       ]
      },
      {
       "output_type": "stream",
       "stream": "stdout",
       "text": [
        "1683 "
       ]
      },
      {
       "output_type": "stream",
       "stream": "stdout",
       "text": [
        "1684 "
       ]
      },
      {
       "output_type": "stream",
       "stream": "stdout",
       "text": [
        "1685 "
       ]
      },
      {
       "output_type": "stream",
       "stream": "stdout",
       "text": [
        "1686 "
       ]
      },
      {
       "output_type": "stream",
       "stream": "stdout",
       "text": [
        "1687 "
       ]
      },
      {
       "output_type": "stream",
       "stream": "stdout",
       "text": [
        "1688 "
       ]
      },
      {
       "output_type": "stream",
       "stream": "stdout",
       "text": [
        "1689 "
       ]
      },
      {
       "output_type": "stream",
       "stream": "stdout",
       "text": [
        "1690 "
       ]
      },
      {
       "output_type": "stream",
       "stream": "stdout",
       "text": [
        "1691 "
       ]
      },
      {
       "output_type": "stream",
       "stream": "stdout",
       "text": [
        "1692 "
       ]
      },
      {
       "output_type": "stream",
       "stream": "stdout",
       "text": [
        "1693 "
       ]
      },
      {
       "output_type": "stream",
       "stream": "stdout",
       "text": [
        "1694 "
       ]
      },
      {
       "output_type": "stream",
       "stream": "stdout",
       "text": [
        "1695 "
       ]
      },
      {
       "output_type": "stream",
       "stream": "stdout",
       "text": [
        "1696 "
       ]
      },
      {
       "output_type": "stream",
       "stream": "stdout",
       "text": [
        "1697 "
       ]
      },
      {
       "output_type": "stream",
       "stream": "stdout",
       "text": [
        "1698 "
       ]
      },
      {
       "output_type": "stream",
       "stream": "stdout",
       "text": [
        "1699 "
       ]
      },
      {
       "output_type": "stream",
       "stream": "stdout",
       "text": [
        "1700\n"
       ]
      }
     ],
     "prompt_number": 3
    }
   ],
   "metadata": {}
  }
 ]
}
